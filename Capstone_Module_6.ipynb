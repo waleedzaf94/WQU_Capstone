{
 "cells": [
  {
   "cell_type": "code",
   "execution_count": null,
   "id": "222bdc5f",
   "metadata": {},
   "outputs": [],
   "source": [
    "# !pip3 install yahooquery\n",
    "# !pip3 install yfinance\n",
    "# !pip3 install arch"
   ]
  },
  {
   "cell_type": "code",
   "execution_count": 19,
   "id": "67435e70",
   "metadata": {},
   "outputs": [],
   "source": [
    "import matplotlib.pyplot as plt\n",
    "import numpy as np\n",
    "import pandas as pd\n",
    "import scipy.stats\n",
    "import yfinance as yf\n",
    "\n",
    "from datetime import datetime, timedelta\n",
    "from pandas.tseries.holiday import USFederalHolidayCalendar\n",
    "from pandas.tseries.offsets import CustomBusinessDay\n",
    "from pprint import pprint\n",
    "from tqdm import tqdm"
   ]
  },
  {
   "cell_type": "code",
   "execution_count": 10,
   "id": "d5687568",
   "metadata": {},
   "outputs": [],
   "source": [
    "# predetermined lists of ETFs\n",
    "COUNTRY_ETF_TICKERS = [\n",
    "    'EWJ','MCHI','BBJP','VPL','KWEB','FXI',\n",
    "    'BBAX','EWT','EWY','AAXJ','ASHR',\n",
    "    'EWA','EPP','IPAC','DXJ','AIA','GXC',\n",
    "    'FLJP','CQQQ','EWH','EPI','CXSE','INDY',\n",
    "    'EEMA','EWS','VNM','KBA','EIDO','GMF',\n",
    "    'THD','CHIQ','CNYA','FLKR','SMIN','DBJP',\n",
    "    'EWJV','EWM','PGJ','DFJ','MINV','ENZL',\n",
    "    'HEWJ','EPHE','FLCH',\n",
    "]\n",
    "\n",
    "SECTOR_ETF_TICKERS = [\n",
    "    'VGT','XLK','XLE','XLV','XLF','XLP','VHT','XLU','XLI',\n",
    "    'XLY','GDX','IYW','XLC','VFH','VDE','IBB','SMH','SOXX',\n",
    "    'ARKK','VDC','AMLP','XBI','ITA','KWEB','IHI','XLB','FTEC',\n",
    "    'VPU','ICLN','IGV','CIBR','PAVE','VCR','IXJ','VIS','IGF',\n",
    "    'XOP','GNR','FDN','GDXJ','LIT','IYH','XT','FHLC','VAW',\n",
    "    'IXN','AMJ','IGM','SKYY','OIH','VOX','EMLP','RYT','TAN',\n",
    "    'XME','NFRA','KRE','FUTY','JETS','FXO','IXC','IYF','PPA',\n",
    "    'ARKG','IFRA','COPX','KBWB','FXZ','PHO','IYE','IYK','FXR',\n",
    "    'QCLN','EUFN','KOMP','BOTZ','PICK','TDIV','FENY','FXH','ITB',\n",
    "    'XAR','QTEC','KXI','FNCL','FBT','URA','MLPA','HACK','KBE',\n",
    "    'XSD','ROBO','IYG','MOO','FIW','FTXN','IYJ','IHF','ARKW',\n",
    "    'FSTA','FTXG','FXL','FDIS','RYH','MLPX','CGW','CQQQ','IDU',\n",
    "    'IEO','ARKQ','SIL','IAI','DRIV','URNM','FXN','IYT','IGE',\n",
    "    'IYM','ARKF','XHB','NANR','GRID','RHS','BUG','FIDU','FIVG',\n",
    "    'IYC','XRT','SILJ','REMX','WCLD','FCG','RCD','IAT','GII',\n",
    "    'KIE','CLOU','PSI','EMQQ','RYE','IAK','TPYP','IXG','XES',\n",
    "    'ACES','FCOM','XHE','BBH','PNQI','IHAK','IPAY','FMAT',\n",
    "    'PEJ','NXTG','IDRV','METV','XNTK','KBWP','MSOS','IEZ',\n",
    "    'FINX','BLOK','PPH','RING','RYF','RGI','IHE','RYU','RTM',\n",
    "    'FXD','CNRG','DRLL','KBWD','EXI','MXI','CHIQ','TECB',\n",
    "    'PLDR','FXU','SNSR','PBJ','AMZA','FTRI','GINN','PJP',\n",
    "    'PSCT','PSCH','IYZ','AIRR','FAN','IRBO','VEGI','PIO',\n",
    "    'ARKX','RXI','ESPO','MJ','ATMP','IXP','PBE','XTN','MLPB',\n",
    "    'GTEK','XSW','SGDM','ROBT','PTF','WOOD','XPH','SMOG',\n",
    "    'GNOM','FTXO','UMI','IBUY','PXE','KARS','PTH','PRNT',\n",
    "    'PSJ','SLVP','PYZ','DFNL','PKB','GSFP','HERO','BATT',\n",
    "    'PFUT','SLX','TOLZ','AWAY','RTH','IDNA','PXI','MJUS',\n",
    "    'SOCL','QABA','OGIG','JXI','HAP','BETZ','PRN','EDOC',\n",
    "    'TDV','RAAX','ENFR','PSCE','FTXL','CTEC','IETC','AIQ',\n",
    "    'PSL','FILL','DTEC','EWCO','EIPX','PXJ','QTUM','KCE',\n",
    "    'LEGR','XHS','IGN','HTEC','GDOC','SBIO',\n",
    "]"
   ]
  },
  {
   "cell_type": "code",
   "execution_count": 12,
   "id": "5bcf3c0c",
   "metadata": {},
   "outputs": [
    {
     "name": "stdout",
     "output_type": "stream",
     "text": [
      "2023-03-09 00:00:00\n",
      "2022-03-09 00:00:00\n"
     ]
    }
   ],
   "source": [
    "etf_histories = {}\n",
    "US_BIZ_DAY = CustomBusinessDay(\n",
    "    calendar=USFederalHolidayCalendar(),\n",
    "    normalize=True\n",
    ")\n",
    "end_date: datetime = datetime(2023, 3, 9)\n",
    "start_date: datetime = end_date - 250 * US_BIZ_DAY\n",
    "print(end_date)\n",
    "print(start_date)"
   ]
  },
  {
   "cell_type": "code",
   "execution_count": 13,
   "id": "e1b4d787",
   "metadata": {},
   "outputs": [],
   "source": [
    "for ticker in COUNTRY_ETF_TICKERS + SECTOR_ETF_TICKERS:\n",
    "  etf_histories[ticker] = yf.Ticker(ticker).history(\n",
    "      start=start_date.strftime('%Y-%m-%d'),\n",
    "      end=end_date.strftime('%Y-%m-%d')\n",
    "  )"
   ]
  },
  {
   "cell_type": "code",
   "execution_count": 14,
   "id": "d7792892",
   "metadata": {},
   "outputs": [
    {
     "data": {
      "text/plain": [
       "305"
      ]
     },
     "execution_count": 14,
     "metadata": {},
     "output_type": "execute_result"
    }
   ],
   "source": [
    "len(etf_histories)"
   ]
  },
  {
   "cell_type": "code",
   "execution_count": 15,
   "id": "0c38071a",
   "metadata": {},
   "outputs": [
    {
     "data": {
      "text/html": [
       "<div>\n",
       "<style scoped>\n",
       "    .dataframe tbody tr th:only-of-type {\n",
       "        vertical-align: middle;\n",
       "    }\n",
       "\n",
       "    .dataframe tbody tr th {\n",
       "        vertical-align: top;\n",
       "    }\n",
       "\n",
       "    .dataframe thead th {\n",
       "        text-align: right;\n",
       "    }\n",
       "</style>\n",
       "<table border=\"1\" class=\"dataframe\">\n",
       "  <thead>\n",
       "    <tr style=\"text-align: right;\">\n",
       "      <th></th>\n",
       "      <th>Open</th>\n",
       "      <th>High</th>\n",
       "      <th>Low</th>\n",
       "      <th>Close</th>\n",
       "      <th>Volume</th>\n",
       "      <th>Dividends</th>\n",
       "      <th>Stock Splits</th>\n",
       "      <th>Capital Gains</th>\n",
       "    </tr>\n",
       "    <tr>\n",
       "      <th>Date</th>\n",
       "      <th></th>\n",
       "      <th></th>\n",
       "      <th></th>\n",
       "      <th></th>\n",
       "      <th></th>\n",
       "      <th></th>\n",
       "      <th></th>\n",
       "      <th></th>\n",
       "    </tr>\n",
       "  </thead>\n",
       "  <tbody>\n",
       "    <tr>\n",
       "      <th>2022-03-09 00:00:00-05:00</th>\n",
       "      <td>32.270000</td>\n",
       "      <td>33.470001</td>\n",
       "      <td>32.259998</td>\n",
       "      <td>33.349998</td>\n",
       "      <td>14800</td>\n",
       "      <td>0.0</td>\n",
       "      <td>0.0</td>\n",
       "      <td>0.0</td>\n",
       "    </tr>\n",
       "    <tr>\n",
       "      <th>2022-03-10 00:00:00-05:00</th>\n",
       "      <td>32.919998</td>\n",
       "      <td>33.270000</td>\n",
       "      <td>32.575001</td>\n",
       "      <td>33.259998</td>\n",
       "      <td>7800</td>\n",
       "      <td>0.0</td>\n",
       "      <td>0.0</td>\n",
       "      <td>0.0</td>\n",
       "    </tr>\n",
       "    <tr>\n",
       "      <th>2022-03-11 00:00:00-05:00</th>\n",
       "      <td>33.610001</td>\n",
       "      <td>33.610001</td>\n",
       "      <td>32.110001</td>\n",
       "      <td>32.110001</td>\n",
       "      <td>11000</td>\n",
       "      <td>0.0</td>\n",
       "      <td>0.0</td>\n",
       "      <td>0.0</td>\n",
       "    </tr>\n",
       "    <tr>\n",
       "      <th>2022-03-14 00:00:00-04:00</th>\n",
       "      <td>32.110001</td>\n",
       "      <td>32.241001</td>\n",
       "      <td>30.450001</td>\n",
       "      <td>30.719999</td>\n",
       "      <td>18500</td>\n",
       "      <td>0.0</td>\n",
       "      <td>0.0</td>\n",
       "      <td>0.0</td>\n",
       "    </tr>\n",
       "    <tr>\n",
       "      <th>2022-03-15 00:00:00-04:00</th>\n",
       "      <td>30.780001</td>\n",
       "      <td>31.040001</td>\n",
       "      <td>30.459999</td>\n",
       "      <td>31.020000</td>\n",
       "      <td>19100</td>\n",
       "      <td>0.0</td>\n",
       "      <td>0.0</td>\n",
       "      <td>0.0</td>\n",
       "    </tr>\n",
       "  </tbody>\n",
       "</table>\n",
       "</div>"
      ],
      "text/plain": [
       "                                Open       High        Low      Close  Volume  \\\n",
       "Date                                                                            \n",
       "2022-03-09 00:00:00-05:00  32.270000  33.470001  32.259998  33.349998   14800   \n",
       "2022-03-10 00:00:00-05:00  32.919998  33.270000  32.575001  33.259998    7800   \n",
       "2022-03-11 00:00:00-05:00  33.610001  33.610001  32.110001  32.110001   11000   \n",
       "2022-03-14 00:00:00-04:00  32.110001  32.241001  30.450001  30.719999   18500   \n",
       "2022-03-15 00:00:00-04:00  30.780001  31.040001  30.459999  31.020000   19100   \n",
       "\n",
       "                           Dividends  Stock Splits  Capital Gains  \n",
       "Date                                                               \n",
       "2022-03-09 00:00:00-05:00        0.0           0.0            0.0  \n",
       "2022-03-10 00:00:00-05:00        0.0           0.0            0.0  \n",
       "2022-03-11 00:00:00-05:00        0.0           0.0            0.0  \n",
       "2022-03-14 00:00:00-04:00        0.0           0.0            0.0  \n",
       "2022-03-15 00:00:00-04:00        0.0           0.0            0.0  "
      ]
     },
     "execution_count": 15,
     "metadata": {},
     "output_type": "execute_result"
    }
   ],
   "source": [
    "etf_histories['SBIO'].head()"
   ]
  },
  {
   "cell_type": "code",
   "execution_count": 20,
   "id": "a26e97a3",
   "metadata": {},
   "outputs": [
    {
     "name": "stderr",
     "output_type": "stream",
     "text": [
      "100%|████████████████████████████████████████| 308/308 [00:01<00:00, 192.90it/s]\n"
     ]
    }
   ],
   "source": [
    "# store prices on disk for easier retrieval later\n",
    "folder = '/Users/waleedzafar/Dropbox/WQU/Capstone/Week 7/Prices'\n",
    "for ticker in tqdm(COUNTRY_ETF_TICKERS + SECTOR_ETF_TICKERS):\n",
    "    etf_histories[ticker].to_csv(f'{folder}/{ticker}.csv')"
   ]
  },
  {
   "cell_type": "code",
   "execution_count": 21,
   "id": "5fee8b7c",
   "metadata": {},
   "outputs": [
    {
     "name": "stderr",
     "output_type": "stream",
     "text": [
      "100%|██████████████████████████████████████████| 44/44 [00:00<00:00, 472.82it/s]\n"
     ]
    },
    {
     "data": {
      "text/html": [
       "<div>\n",
       "<style scoped>\n",
       "    .dataframe tbody tr th:only-of-type {\n",
       "        vertical-align: middle;\n",
       "    }\n",
       "\n",
       "    .dataframe tbody tr th {\n",
       "        vertical-align: top;\n",
       "    }\n",
       "\n",
       "    .dataframe thead th {\n",
       "        text-align: right;\n",
       "    }\n",
       "</style>\n",
       "<table border=\"1\" class=\"dataframe\">\n",
       "  <thead>\n",
       "    <tr style=\"text-align: right;\">\n",
       "      <th></th>\n",
       "      <th>EWJ</th>\n",
       "      <th>MCHI</th>\n",
       "      <th>BBJP</th>\n",
       "      <th>VPL</th>\n",
       "      <th>KWEB</th>\n",
       "      <th>FXI</th>\n",
       "      <th>BBAX</th>\n",
       "      <th>EWT</th>\n",
       "      <th>EWY</th>\n",
       "      <th>AAXJ</th>\n",
       "      <th>...</th>\n",
       "      <th>DBJP</th>\n",
       "      <th>EWJV</th>\n",
       "      <th>EWM</th>\n",
       "      <th>PGJ</th>\n",
       "      <th>DFJ</th>\n",
       "      <th>MINV</th>\n",
       "      <th>ENZL</th>\n",
       "      <th>HEWJ</th>\n",
       "      <th>EPHE</th>\n",
       "      <th>FLCH</th>\n",
       "    </tr>\n",
       "  </thead>\n",
       "  <tbody>\n",
       "    <tr>\n",
       "      <th>2022-03-09 00:00:00-05:00</th>\n",
       "      <td>59.042328</td>\n",
       "      <td>52.652187</td>\n",
       "      <td>48.511684</td>\n",
       "      <td>69.522171</td>\n",
       "      <td>29.540001</td>\n",
       "      <td>30.998035</td>\n",
       "      <td>49.669636</td>\n",
       "      <td>51.928959</td>\n",
       "      <td>69.408691</td>\n",
       "      <td>73.179573</td>\n",
       "      <td>...</td>\n",
       "      <td>45.001362</td>\n",
       "      <td>25.057539</td>\n",
       "      <td>24.463577</td>\n",
       "      <td>29.512945</td>\n",
       "      <td>64.847679</td>\n",
       "      <td>NaN</td>\n",
       "      <td>53.328178</td>\n",
       "      <td>24.581072</td>\n",
       "      <td>30.727924</td>\n",
       "      <td>20.821140</td>\n",
       "    </tr>\n",
       "    <tr>\n",
       "      <th>2022-03-10 00:00:00-05:00</th>\n",
       "      <td>58.795288</td>\n",
       "      <td>50.339962</td>\n",
       "      <td>48.344234</td>\n",
       "      <td>69.240082</td>\n",
       "      <td>26.660000</td>\n",
       "      <td>29.593906</td>\n",
       "      <td>50.011658</td>\n",
       "      <td>52.047672</td>\n",
       "      <td>67.314079</td>\n",
       "      <td>71.635323</td>\n",
       "      <td>...</td>\n",
       "      <td>44.961693</td>\n",
       "      <td>25.038069</td>\n",
       "      <td>24.463577</td>\n",
       "      <td>26.517010</td>\n",
       "      <td>64.964432</td>\n",
       "      <td>NaN</td>\n",
       "      <td>53.918423</td>\n",
       "      <td>24.553457</td>\n",
       "      <td>29.911268</td>\n",
       "      <td>19.992971</td>\n",
       "    </tr>\n",
       "    <tr>\n",
       "      <th>2022-03-11 00:00:00-05:00</th>\n",
       "      <td>57.846661</td>\n",
       "      <td>48.106113</td>\n",
       "      <td>47.516827</td>\n",
       "      <td>68.393791</td>\n",
       "      <td>24.000000</td>\n",
       "      <td>28.345795</td>\n",
       "      <td>49.698139</td>\n",
       "      <td>51.216675</td>\n",
       "      <td>66.306297</td>\n",
       "      <td>69.973045</td>\n",
       "      <td>...</td>\n",
       "      <td>44.713722</td>\n",
       "      <td>24.872576</td>\n",
       "      <td>24.317959</td>\n",
       "      <td>23.868284</td>\n",
       "      <td>64.390388</td>\n",
       "      <td>NaN</td>\n",
       "      <td>53.003551</td>\n",
       "      <td>24.415401</td>\n",
       "      <td>29.625933</td>\n",
       "      <td>19.213518</td>\n",
       "    </tr>\n",
       "    <tr>\n",
       "      <th>2022-03-14 00:00:00-04:00</th>\n",
       "      <td>57.925709</td>\n",
       "      <td>44.647568</td>\n",
       "      <td>47.595627</td>\n",
       "      <td>68.111694</td>\n",
       "      <td>21.190001</td>\n",
       "      <td>26.444374</td>\n",
       "      <td>49.109097</td>\n",
       "      <td>50.962284</td>\n",
       "      <td>66.019768</td>\n",
       "      <td>68.291100</td>\n",
       "      <td>...</td>\n",
       "      <td>45.209663</td>\n",
       "      <td>25.018600</td>\n",
       "      <td>24.327667</td>\n",
       "      <td>21.040993</td>\n",
       "      <td>64.302818</td>\n",
       "      <td>NaN</td>\n",
       "      <td>52.285427</td>\n",
       "      <td>24.629391</td>\n",
       "      <td>28.701044</td>\n",
       "      <td>17.859219</td>\n",
       "    </tr>\n",
       "    <tr>\n",
       "      <th>2022-03-15 00:00:00-04:00</th>\n",
       "      <td>58.874344</td>\n",
       "      <td>44.314449</td>\n",
       "      <td>48.432884</td>\n",
       "      <td>68.967720</td>\n",
       "      <td>22.180000</td>\n",
       "      <td>26.395618</td>\n",
       "      <td>49.308609</td>\n",
       "      <td>50.894447</td>\n",
       "      <td>66.750900</td>\n",
       "      <td>68.409134</td>\n",
       "      <td>...</td>\n",
       "      <td>45.933731</td>\n",
       "      <td>25.362240</td>\n",
       "      <td>24.385914</td>\n",
       "      <td>22.072706</td>\n",
       "      <td>65.587135</td>\n",
       "      <td>NaN</td>\n",
       "      <td>52.924850</td>\n",
       "      <td>25.071177</td>\n",
       "      <td>29.370113</td>\n",
       "      <td>17.674099</td>\n",
       "    </tr>\n",
       "  </tbody>\n",
       "</table>\n",
       "<p>5 rows × 44 columns</p>\n",
       "</div>"
      ],
      "text/plain": [
       "                                 EWJ       MCHI       BBJP        VPL  \\\n",
       "2022-03-09 00:00:00-05:00  59.042328  52.652187  48.511684  69.522171   \n",
       "2022-03-10 00:00:00-05:00  58.795288  50.339962  48.344234  69.240082   \n",
       "2022-03-11 00:00:00-05:00  57.846661  48.106113  47.516827  68.393791   \n",
       "2022-03-14 00:00:00-04:00  57.925709  44.647568  47.595627  68.111694   \n",
       "2022-03-15 00:00:00-04:00  58.874344  44.314449  48.432884  68.967720   \n",
       "\n",
       "                                KWEB        FXI       BBAX        EWT  \\\n",
       "2022-03-09 00:00:00-05:00  29.540001  30.998035  49.669636  51.928959   \n",
       "2022-03-10 00:00:00-05:00  26.660000  29.593906  50.011658  52.047672   \n",
       "2022-03-11 00:00:00-05:00  24.000000  28.345795  49.698139  51.216675   \n",
       "2022-03-14 00:00:00-04:00  21.190001  26.444374  49.109097  50.962284   \n",
       "2022-03-15 00:00:00-04:00  22.180000  26.395618  49.308609  50.894447   \n",
       "\n",
       "                                 EWY       AAXJ  ...       DBJP       EWJV  \\\n",
       "2022-03-09 00:00:00-05:00  69.408691  73.179573  ...  45.001362  25.057539   \n",
       "2022-03-10 00:00:00-05:00  67.314079  71.635323  ...  44.961693  25.038069   \n",
       "2022-03-11 00:00:00-05:00  66.306297  69.973045  ...  44.713722  24.872576   \n",
       "2022-03-14 00:00:00-04:00  66.019768  68.291100  ...  45.209663  25.018600   \n",
       "2022-03-15 00:00:00-04:00  66.750900  68.409134  ...  45.933731  25.362240   \n",
       "\n",
       "                                 EWM        PGJ        DFJ  MINV       ENZL  \\\n",
       "2022-03-09 00:00:00-05:00  24.463577  29.512945  64.847679   NaN  53.328178   \n",
       "2022-03-10 00:00:00-05:00  24.463577  26.517010  64.964432   NaN  53.918423   \n",
       "2022-03-11 00:00:00-05:00  24.317959  23.868284  64.390388   NaN  53.003551   \n",
       "2022-03-14 00:00:00-04:00  24.327667  21.040993  64.302818   NaN  52.285427   \n",
       "2022-03-15 00:00:00-04:00  24.385914  22.072706  65.587135   NaN  52.924850   \n",
       "\n",
       "                                HEWJ       EPHE       FLCH  \n",
       "2022-03-09 00:00:00-05:00  24.581072  30.727924  20.821140  \n",
       "2022-03-10 00:00:00-05:00  24.553457  29.911268  19.992971  \n",
       "2022-03-11 00:00:00-05:00  24.415401  29.625933  19.213518  \n",
       "2022-03-14 00:00:00-04:00  24.629391  28.701044  17.859219  \n",
       "2022-03-15 00:00:00-04:00  25.071177  29.370113  17.674099  \n",
       "\n",
       "[5 rows x 44 columns]"
      ]
     },
     "execution_count": 21,
     "metadata": {},
     "output_type": "execute_result"
    }
   ],
   "source": [
    "# create close price df for country etfs\n",
    "df_country_etf_close = pd.DataFrame()\n",
    "for ticker in tqdm(COUNTRY_ETF_TICKERS):\n",
    "  df_country_etf_close = pd.concat([\n",
    "      df_country_etf_close,\n",
    "      etf_histories[ticker]['Close']\n",
    "    ],\n",
    "    axis=1\n",
    "  )\n",
    "  df_country_etf_close = df_country_etf_close.rename(columns={'Close': ticker})\n",
    "\n",
    "df_country_etf_close.head()"
   ]
  },
  {
   "cell_type": "code",
   "execution_count": 22,
   "id": "6ef582cc",
   "metadata": {},
   "outputs": [
    {
     "data": {
      "text/plain": [
       "(251, 44)"
      ]
     },
     "execution_count": 22,
     "metadata": {},
     "output_type": "execute_result"
    }
   ],
   "source": [
    "df_country_etf_close.shape"
   ]
  },
  {
   "cell_type": "code",
   "execution_count": 23,
   "id": "ae10edcc",
   "metadata": {},
   "outputs": [
    {
     "name": "stderr",
     "output_type": "stream",
     "text": [
      "100%|████████████████████████████████████████| 264/264 [00:00<00:00, 753.50it/s]\n"
     ]
    },
    {
     "data": {
      "text/html": [
       "<div>\n",
       "<style scoped>\n",
       "    .dataframe tbody tr th:only-of-type {\n",
       "        vertical-align: middle;\n",
       "    }\n",
       "\n",
       "    .dataframe tbody tr th {\n",
       "        vertical-align: top;\n",
       "    }\n",
       "\n",
       "    .dataframe thead th {\n",
       "        text-align: right;\n",
       "    }\n",
       "</style>\n",
       "<table border=\"1\" class=\"dataframe\">\n",
       "  <thead>\n",
       "    <tr style=\"text-align: right;\">\n",
       "      <th></th>\n",
       "      <th>VGT</th>\n",
       "      <th>XLK</th>\n",
       "      <th>XLE</th>\n",
       "      <th>XLV</th>\n",
       "      <th>XLF</th>\n",
       "      <th>XLP</th>\n",
       "      <th>VHT</th>\n",
       "      <th>XLU</th>\n",
       "      <th>XLI</th>\n",
       "      <th>XLY</th>\n",
       "      <th>...</th>\n",
       "      <th>EIPX</th>\n",
       "      <th>PXJ</th>\n",
       "      <th>QTUM</th>\n",
       "      <th>KCE</th>\n",
       "      <th>LEGR</th>\n",
       "      <th>XHS</th>\n",
       "      <th>IGN</th>\n",
       "      <th>HTEC</th>\n",
       "      <th>GDOC</th>\n",
       "      <th>SBIO</th>\n",
       "    </tr>\n",
       "  </thead>\n",
       "  <tbody>\n",
       "    <tr>\n",
       "      <th>2022-03-09 00:00:00-05:00</th>\n",
       "      <td>386.337463</td>\n",
       "      <td>147.798248</td>\n",
       "      <td>72.095360</td>\n",
       "      <td>127.971901</td>\n",
       "      <td>36.211895</td>\n",
       "      <td>71.123116</td>\n",
       "      <td>238.875168</td>\n",
       "      <td>68.157341</td>\n",
       "      <td>97.170357</td>\n",
       "      <td>167.332352</td>\n",
       "      <td>...</td>\n",
       "      <td>NaN</td>\n",
       "      <td>4.454967</td>\n",
       "      <td>47.700787</td>\n",
       "      <td>85.368248</td>\n",
       "      <td>37.597992</td>\n",
       "      <td>96.841087</td>\n",
       "      <td>70.041924</td>\n",
       "      <td>34.830002</td>\n",
       "      <td>31.774000</td>\n",
       "      <td>33.349998</td>\n",
       "    </tr>\n",
       "    <tr>\n",
       "      <th>2022-03-10 00:00:00-05:00</th>\n",
       "      <td>379.664062</td>\n",
       "      <td>145.213638</td>\n",
       "      <td>74.301285</td>\n",
       "      <td>127.922646</td>\n",
       "      <td>35.908249</td>\n",
       "      <td>70.450577</td>\n",
       "      <td>238.658173</td>\n",
       "      <td>68.613663</td>\n",
       "      <td>97.042572</td>\n",
       "      <td>168.521973</td>\n",
       "      <td>...</td>\n",
       "      <td>NaN</td>\n",
       "      <td>4.633563</td>\n",
       "      <td>47.109089</td>\n",
       "      <td>84.547966</td>\n",
       "      <td>36.809223</td>\n",
       "      <td>95.892845</td>\n",
       "      <td>69.433823</td>\n",
       "      <td>34.169998</td>\n",
       "      <td>31.642000</td>\n",
       "      <td>33.259998</td>\n",
       "    </tr>\n",
       "    <tr>\n",
       "      <th>2022-03-11 00:00:00-05:00</th>\n",
       "      <td>371.770905</td>\n",
       "      <td>142.658722</td>\n",
       "      <td>73.706642</td>\n",
       "      <td>126.967476</td>\n",
       "      <td>35.653591</td>\n",
       "      <td>69.631836</td>\n",
       "      <td>235.906342</td>\n",
       "      <td>68.380646</td>\n",
       "      <td>96.266068</td>\n",
       "      <td>165.280212</td>\n",
       "      <td>...</td>\n",
       "      <td>NaN</td>\n",
       "      <td>4.564109</td>\n",
       "      <td>46.113060</td>\n",
       "      <td>83.815575</td>\n",
       "      <td>36.672890</td>\n",
       "      <td>93.926468</td>\n",
       "      <td>68.157799</td>\n",
       "      <td>32.990002</td>\n",
       "      <td>30.952000</td>\n",
       "      <td>32.110001</td>\n",
       "    </tr>\n",
       "    <tr>\n",
       "      <th>2022-03-14 00:00:00-04:00</th>\n",
       "      <td>363.728973</td>\n",
       "      <td>140.014694</td>\n",
       "      <td>71.500725</td>\n",
       "      <td>127.863564</td>\n",
       "      <td>36.104153</td>\n",
       "      <td>70.002220</td>\n",
       "      <td>236.389664</td>\n",
       "      <td>68.302979</td>\n",
       "      <td>96.590431</td>\n",
       "      <td>162.524231</td>\n",
       "      <td>...</td>\n",
       "      <td>NaN</td>\n",
       "      <td>4.345825</td>\n",
       "      <td>45.166344</td>\n",
       "      <td>84.108528</td>\n",
       "      <td>36.818966</td>\n",
       "      <td>91.271378</td>\n",
       "      <td>66.203880</td>\n",
       "      <td>32.160000</td>\n",
       "      <td>30.427000</td>\n",
       "      <td>30.719999</td>\n",
       "    </tr>\n",
       "    <tr>\n",
       "      <th>2022-03-15 00:00:00-04:00</th>\n",
       "      <td>375.955475</td>\n",
       "      <td>144.718506</td>\n",
       "      <td>68.882378</td>\n",
       "      <td>130.413925</td>\n",
       "      <td>36.613491</td>\n",
       "      <td>71.571472</td>\n",
       "      <td>241.015472</td>\n",
       "      <td>69.176804</td>\n",
       "      <td>98.123764</td>\n",
       "      <td>167.966812</td>\n",
       "      <td>...</td>\n",
       "      <td>NaN</td>\n",
       "      <td>4.196996</td>\n",
       "      <td>46.379326</td>\n",
       "      <td>85.212006</td>\n",
       "      <td>37.266907</td>\n",
       "      <td>93.956413</td>\n",
       "      <td>68.167763</td>\n",
       "      <td>32.869999</td>\n",
       "      <td>31.000999</td>\n",
       "      <td>31.020000</td>\n",
       "    </tr>\n",
       "  </tbody>\n",
       "</table>\n",
       "<p>5 rows × 264 columns</p>\n",
       "</div>"
      ],
      "text/plain": [
       "                                  VGT         XLK        XLE         XLV  \\\n",
       "2022-03-09 00:00:00-05:00  386.337463  147.798248  72.095360  127.971901   \n",
       "2022-03-10 00:00:00-05:00  379.664062  145.213638  74.301285  127.922646   \n",
       "2022-03-11 00:00:00-05:00  371.770905  142.658722  73.706642  126.967476   \n",
       "2022-03-14 00:00:00-04:00  363.728973  140.014694  71.500725  127.863564   \n",
       "2022-03-15 00:00:00-04:00  375.955475  144.718506  68.882378  130.413925   \n",
       "\n",
       "                                 XLF        XLP         VHT        XLU  \\\n",
       "2022-03-09 00:00:00-05:00  36.211895  71.123116  238.875168  68.157341   \n",
       "2022-03-10 00:00:00-05:00  35.908249  70.450577  238.658173  68.613663   \n",
       "2022-03-11 00:00:00-05:00  35.653591  69.631836  235.906342  68.380646   \n",
       "2022-03-14 00:00:00-04:00  36.104153  70.002220  236.389664  68.302979   \n",
       "2022-03-15 00:00:00-04:00  36.613491  71.571472  241.015472  69.176804   \n",
       "\n",
       "                                 XLI         XLY  ...  EIPX       PXJ  \\\n",
       "2022-03-09 00:00:00-05:00  97.170357  167.332352  ...   NaN  4.454967   \n",
       "2022-03-10 00:00:00-05:00  97.042572  168.521973  ...   NaN  4.633563   \n",
       "2022-03-11 00:00:00-05:00  96.266068  165.280212  ...   NaN  4.564109   \n",
       "2022-03-14 00:00:00-04:00  96.590431  162.524231  ...   NaN  4.345825   \n",
       "2022-03-15 00:00:00-04:00  98.123764  167.966812  ...   NaN  4.196996   \n",
       "\n",
       "                                QTUM        KCE       LEGR        XHS  \\\n",
       "2022-03-09 00:00:00-05:00  47.700787  85.368248  37.597992  96.841087   \n",
       "2022-03-10 00:00:00-05:00  47.109089  84.547966  36.809223  95.892845   \n",
       "2022-03-11 00:00:00-05:00  46.113060  83.815575  36.672890  93.926468   \n",
       "2022-03-14 00:00:00-04:00  45.166344  84.108528  36.818966  91.271378   \n",
       "2022-03-15 00:00:00-04:00  46.379326  85.212006  37.266907  93.956413   \n",
       "\n",
       "                                 IGN       HTEC       GDOC       SBIO  \n",
       "2022-03-09 00:00:00-05:00  70.041924  34.830002  31.774000  33.349998  \n",
       "2022-03-10 00:00:00-05:00  69.433823  34.169998  31.642000  33.259998  \n",
       "2022-03-11 00:00:00-05:00  68.157799  32.990002  30.952000  32.110001  \n",
       "2022-03-14 00:00:00-04:00  66.203880  32.160000  30.427000  30.719999  \n",
       "2022-03-15 00:00:00-04:00  68.167763  32.869999  31.000999  31.020000  \n",
       "\n",
       "[5 rows x 264 columns]"
      ]
     },
     "execution_count": 23,
     "metadata": {},
     "output_type": "execute_result"
    }
   ],
   "source": [
    "df_sector_etf_close = pd.DataFrame()\n",
    "for ticker in tqdm(SECTOR_ETF_TICKERS):\n",
    "  df_sector_etf_close = pd.concat([\n",
    "      df_sector_etf_close,\n",
    "      etf_histories[ticker]['Close']\n",
    "    ],\n",
    "    axis=1\n",
    "  )\n",
    "  df_sector_etf_close = df_sector_etf_close.rename(columns={'Close': ticker})\n",
    "\n",
    "df_sector_etf_close.head()"
   ]
  },
  {
   "cell_type": "code",
   "execution_count": 24,
   "id": "87e01696",
   "metadata": {},
   "outputs": [
    {
     "data": {
      "text/plain": [
       "(251, 264)"
      ]
     },
     "execution_count": 24,
     "metadata": {},
     "output_type": "execute_result"
    }
   ],
   "source": [
    "df_sector_etf_close.shape"
   ]
  },
  {
   "cell_type": "code",
   "execution_count": 25,
   "id": "2e19a9b6",
   "metadata": {},
   "outputs": [
    {
     "data": {
      "text/html": [
       "<div>\n",
       "<style scoped>\n",
       "    .dataframe tbody tr th:only-of-type {\n",
       "        vertical-align: middle;\n",
       "    }\n",
       "\n",
       "    .dataframe tbody tr th {\n",
       "        vertical-align: top;\n",
       "    }\n",
       "\n",
       "    .dataframe thead th {\n",
       "        text-align: right;\n",
       "    }\n",
       "</style>\n",
       "<table border=\"1\" class=\"dataframe\">\n",
       "  <thead>\n",
       "    <tr style=\"text-align: right;\">\n",
       "      <th></th>\n",
       "      <th>EWJ</th>\n",
       "      <th>MCHI</th>\n",
       "      <th>BBJP</th>\n",
       "      <th>VPL</th>\n",
       "      <th>KWEB</th>\n",
       "      <th>FXI</th>\n",
       "      <th>BBAX</th>\n",
       "      <th>EWT</th>\n",
       "      <th>EWY</th>\n",
       "      <th>AAXJ</th>\n",
       "      <th>...</th>\n",
       "      <th>DBJP</th>\n",
       "      <th>EWJV</th>\n",
       "      <th>EWM</th>\n",
       "      <th>PGJ</th>\n",
       "      <th>DFJ</th>\n",
       "      <th>MINV</th>\n",
       "      <th>ENZL</th>\n",
       "      <th>HEWJ</th>\n",
       "      <th>EPHE</th>\n",
       "      <th>FLCH</th>\n",
       "    </tr>\n",
       "  </thead>\n",
       "  <tbody>\n",
       "    <tr>\n",
       "      <th>2022-03-09 00:00:00-05:00</th>\n",
       "      <td>NaN</td>\n",
       "      <td>NaN</td>\n",
       "      <td>NaN</td>\n",
       "      <td>NaN</td>\n",
       "      <td>NaN</td>\n",
       "      <td>NaN</td>\n",
       "      <td>NaN</td>\n",
       "      <td>NaN</td>\n",
       "      <td>NaN</td>\n",
       "      <td>NaN</td>\n",
       "      <td>...</td>\n",
       "      <td>NaN</td>\n",
       "      <td>NaN</td>\n",
       "      <td>NaN</td>\n",
       "      <td>NaN</td>\n",
       "      <td>NaN</td>\n",
       "      <td>NaN</td>\n",
       "      <td>NaN</td>\n",
       "      <td>NaN</td>\n",
       "      <td>NaN</td>\n",
       "      <td>NaN</td>\n",
       "    </tr>\n",
       "    <tr>\n",
       "      <th>2022-03-10 00:00:00-05:00</th>\n",
       "      <td>-0.004184</td>\n",
       "      <td>-0.043915</td>\n",
       "      <td>-0.003452</td>\n",
       "      <td>-0.004058</td>\n",
       "      <td>-0.097495</td>\n",
       "      <td>-0.045297</td>\n",
       "      <td>0.006886</td>\n",
       "      <td>0.002286</td>\n",
       "      <td>-0.030178</td>\n",
       "      <td>-0.021102</td>\n",
       "      <td>...</td>\n",
       "      <td>-0.000882</td>\n",
       "      <td>-0.000777</td>\n",
       "      <td>0.000000</td>\n",
       "      <td>-0.101513</td>\n",
       "      <td>0.001800</td>\n",
       "      <td>NaN</td>\n",
       "      <td>0.011068</td>\n",
       "      <td>-0.001123</td>\n",
       "      <td>-0.026577</td>\n",
       "      <td>-0.039775</td>\n",
       "    </tr>\n",
       "    <tr>\n",
       "      <th>2022-03-11 00:00:00-05:00</th>\n",
       "      <td>-0.016134</td>\n",
       "      <td>-0.044375</td>\n",
       "      <td>-0.017115</td>\n",
       "      <td>-0.012223</td>\n",
       "      <td>-0.099775</td>\n",
       "      <td>-0.042175</td>\n",
       "      <td>-0.006269</td>\n",
       "      <td>-0.015966</td>\n",
       "      <td>-0.014971</td>\n",
       "      <td>-0.023205</td>\n",
       "      <td>...</td>\n",
       "      <td>-0.005515</td>\n",
       "      <td>-0.006610</td>\n",
       "      <td>-0.005952</td>\n",
       "      <td>-0.099888</td>\n",
       "      <td>-0.008836</td>\n",
       "      <td>NaN</td>\n",
       "      <td>-0.016968</td>\n",
       "      <td>-0.005623</td>\n",
       "      <td>-0.009539</td>\n",
       "      <td>-0.038986</td>\n",
       "    </tr>\n",
       "    <tr>\n",
       "      <th>2022-03-14 00:00:00-04:00</th>\n",
       "      <td>0.001367</td>\n",
       "      <td>-0.071894</td>\n",
       "      <td>0.001658</td>\n",
       "      <td>-0.004125</td>\n",
       "      <td>-0.117083</td>\n",
       "      <td>-0.067079</td>\n",
       "      <td>-0.011852</td>\n",
       "      <td>-0.004967</td>\n",
       "      <td>-0.004321</td>\n",
       "      <td>-0.024037</td>\n",
       "      <td>...</td>\n",
       "      <td>0.011091</td>\n",
       "      <td>0.005871</td>\n",
       "      <td>0.000399</td>\n",
       "      <td>-0.118454</td>\n",
       "      <td>-0.001360</td>\n",
       "      <td>NaN</td>\n",
       "      <td>-0.013549</td>\n",
       "      <td>0.008765</td>\n",
       "      <td>-0.031219</td>\n",
       "      <td>-0.070487</td>\n",
       "    </tr>\n",
       "    <tr>\n",
       "      <th>2022-03-15 00:00:00-04:00</th>\n",
       "      <td>0.016377</td>\n",
       "      <td>-0.007461</td>\n",
       "      <td>0.017591</td>\n",
       "      <td>0.012568</td>\n",
       "      <td>0.046720</td>\n",
       "      <td>-0.001844</td>\n",
       "      <td>0.004063</td>\n",
       "      <td>-0.001331</td>\n",
       "      <td>0.011074</td>\n",
       "      <td>0.001728</td>\n",
       "      <td>...</td>\n",
       "      <td>0.016016</td>\n",
       "      <td>0.013735</td>\n",
       "      <td>0.002394</td>\n",
       "      <td>0.049033</td>\n",
       "      <td>0.019973</td>\n",
       "      <td>NaN</td>\n",
       "      <td>0.012229</td>\n",
       "      <td>0.017937</td>\n",
       "      <td>0.023312</td>\n",
       "      <td>-0.010365</td>\n",
       "    </tr>\n",
       "  </tbody>\n",
       "</table>\n",
       "<p>5 rows × 44 columns</p>\n",
       "</div>"
      ],
      "text/plain": [
       "                                EWJ      MCHI      BBJP       VPL      KWEB  \\\n",
       "2022-03-09 00:00:00-05:00       NaN       NaN       NaN       NaN       NaN   \n",
       "2022-03-10 00:00:00-05:00 -0.004184 -0.043915 -0.003452 -0.004058 -0.097495   \n",
       "2022-03-11 00:00:00-05:00 -0.016134 -0.044375 -0.017115 -0.012223 -0.099775   \n",
       "2022-03-14 00:00:00-04:00  0.001367 -0.071894  0.001658 -0.004125 -0.117083   \n",
       "2022-03-15 00:00:00-04:00  0.016377 -0.007461  0.017591  0.012568  0.046720   \n",
       "\n",
       "                                FXI      BBAX       EWT       EWY      AAXJ  \\\n",
       "2022-03-09 00:00:00-05:00       NaN       NaN       NaN       NaN       NaN   \n",
       "2022-03-10 00:00:00-05:00 -0.045297  0.006886  0.002286 -0.030178 -0.021102   \n",
       "2022-03-11 00:00:00-05:00 -0.042175 -0.006269 -0.015966 -0.014971 -0.023205   \n",
       "2022-03-14 00:00:00-04:00 -0.067079 -0.011852 -0.004967 -0.004321 -0.024037   \n",
       "2022-03-15 00:00:00-04:00 -0.001844  0.004063 -0.001331  0.011074  0.001728   \n",
       "\n",
       "                           ...      DBJP      EWJV       EWM       PGJ  \\\n",
       "2022-03-09 00:00:00-05:00  ...       NaN       NaN       NaN       NaN   \n",
       "2022-03-10 00:00:00-05:00  ... -0.000882 -0.000777  0.000000 -0.101513   \n",
       "2022-03-11 00:00:00-05:00  ... -0.005515 -0.006610 -0.005952 -0.099888   \n",
       "2022-03-14 00:00:00-04:00  ...  0.011091  0.005871  0.000399 -0.118454   \n",
       "2022-03-15 00:00:00-04:00  ...  0.016016  0.013735  0.002394  0.049033   \n",
       "\n",
       "                                DFJ  MINV      ENZL      HEWJ      EPHE  \\\n",
       "2022-03-09 00:00:00-05:00       NaN   NaN       NaN       NaN       NaN   \n",
       "2022-03-10 00:00:00-05:00  0.001800   NaN  0.011068 -0.001123 -0.026577   \n",
       "2022-03-11 00:00:00-05:00 -0.008836   NaN -0.016968 -0.005623 -0.009539   \n",
       "2022-03-14 00:00:00-04:00 -0.001360   NaN -0.013549  0.008765 -0.031219   \n",
       "2022-03-15 00:00:00-04:00  0.019973   NaN  0.012229  0.017937  0.023312   \n",
       "\n",
       "                               FLCH  \n",
       "2022-03-09 00:00:00-05:00       NaN  \n",
       "2022-03-10 00:00:00-05:00 -0.039775  \n",
       "2022-03-11 00:00:00-05:00 -0.038986  \n",
       "2022-03-14 00:00:00-04:00 -0.070487  \n",
       "2022-03-15 00:00:00-04:00 -0.010365  \n",
       "\n",
       "[5 rows x 44 columns]"
      ]
     },
     "execution_count": 25,
     "metadata": {},
     "output_type": "execute_result"
    }
   ],
   "source": [
    "# calculate daily price change pct\n",
    "df_country_etf_returns = df_country_etf_close.pct_change()\n",
    "df_country_etf_returns.head()"
   ]
  },
  {
   "cell_type": "code",
   "execution_count": 26,
   "id": "215d8d9b",
   "metadata": {},
   "outputs": [
    {
     "data": {
      "text/html": [
       "<div>\n",
       "<style scoped>\n",
       "    .dataframe tbody tr th:only-of-type {\n",
       "        vertical-align: middle;\n",
       "    }\n",
       "\n",
       "    .dataframe tbody tr th {\n",
       "        vertical-align: top;\n",
       "    }\n",
       "\n",
       "    .dataframe thead th {\n",
       "        text-align: right;\n",
       "    }\n",
       "</style>\n",
       "<table border=\"1\" class=\"dataframe\">\n",
       "  <thead>\n",
       "    <tr style=\"text-align: right;\">\n",
       "      <th></th>\n",
       "      <th>VGT</th>\n",
       "      <th>XLK</th>\n",
       "      <th>XLE</th>\n",
       "      <th>XLV</th>\n",
       "      <th>XLF</th>\n",
       "      <th>XLP</th>\n",
       "      <th>VHT</th>\n",
       "      <th>XLU</th>\n",
       "      <th>XLI</th>\n",
       "      <th>XLY</th>\n",
       "      <th>...</th>\n",
       "      <th>EIPX</th>\n",
       "      <th>PXJ</th>\n",
       "      <th>QTUM</th>\n",
       "      <th>KCE</th>\n",
       "      <th>LEGR</th>\n",
       "      <th>XHS</th>\n",
       "      <th>IGN</th>\n",
       "      <th>HTEC</th>\n",
       "      <th>GDOC</th>\n",
       "      <th>SBIO</th>\n",
       "    </tr>\n",
       "  </thead>\n",
       "  <tbody>\n",
       "    <tr>\n",
       "      <th>2022-03-09 00:00:00-05:00</th>\n",
       "      <td>NaN</td>\n",
       "      <td>NaN</td>\n",
       "      <td>NaN</td>\n",
       "      <td>NaN</td>\n",
       "      <td>NaN</td>\n",
       "      <td>NaN</td>\n",
       "      <td>NaN</td>\n",
       "      <td>NaN</td>\n",
       "      <td>NaN</td>\n",
       "      <td>NaN</td>\n",
       "      <td>...</td>\n",
       "      <td>NaN</td>\n",
       "      <td>NaN</td>\n",
       "      <td>NaN</td>\n",
       "      <td>NaN</td>\n",
       "      <td>NaN</td>\n",
       "      <td>NaN</td>\n",
       "      <td>NaN</td>\n",
       "      <td>NaN</td>\n",
       "      <td>NaN</td>\n",
       "      <td>NaN</td>\n",
       "    </tr>\n",
       "    <tr>\n",
       "      <th>2022-03-10 00:00:00-05:00</th>\n",
       "      <td>-0.017274</td>\n",
       "      <td>-0.017487</td>\n",
       "      <td>0.030597</td>\n",
       "      <td>-0.000385</td>\n",
       "      <td>-0.008385</td>\n",
       "      <td>-0.009456</td>\n",
       "      <td>-0.000908</td>\n",
       "      <td>0.006695</td>\n",
       "      <td>-0.001315</td>\n",
       "      <td>0.007109</td>\n",
       "      <td>...</td>\n",
       "      <td>NaN</td>\n",
       "      <td>0.040089</td>\n",
       "      <td>-0.012404</td>\n",
       "      <td>-0.009609</td>\n",
       "      <td>-0.020979</td>\n",
       "      <td>-0.009792</td>\n",
       "      <td>-0.008682</td>\n",
       "      <td>-0.018949</td>\n",
       "      <td>-0.004154</td>\n",
       "      <td>-0.002699</td>\n",
       "    </tr>\n",
       "    <tr>\n",
       "      <th>2022-03-11 00:00:00-05:00</th>\n",
       "      <td>-0.020790</td>\n",
       "      <td>-0.017594</td>\n",
       "      <td>-0.008003</td>\n",
       "      <td>-0.007467</td>\n",
       "      <td>-0.007092</td>\n",
       "      <td>-0.011621</td>\n",
       "      <td>-0.011530</td>\n",
       "      <td>-0.003396</td>\n",
       "      <td>-0.008002</td>\n",
       "      <td>-0.019236</td>\n",
       "      <td>...</td>\n",
       "      <td>NaN</td>\n",
       "      <td>-0.014989</td>\n",
       "      <td>-0.021143</td>\n",
       "      <td>-0.008662</td>\n",
       "      <td>-0.003704</td>\n",
       "      <td>-0.020506</td>\n",
       "      <td>-0.018378</td>\n",
       "      <td>-0.034533</td>\n",
       "      <td>-0.021806</td>\n",
       "      <td>-0.034576</td>\n",
       "    </tr>\n",
       "    <tr>\n",
       "      <th>2022-03-14 00:00:00-04:00</th>\n",
       "      <td>-0.021631</td>\n",
       "      <td>-0.018534</td>\n",
       "      <td>-0.029928</td>\n",
       "      <td>0.007058</td>\n",
       "      <td>0.012637</td>\n",
       "      <td>0.005319</td>\n",
       "      <td>0.002049</td>\n",
       "      <td>-0.001136</td>\n",
       "      <td>0.003369</td>\n",
       "      <td>-0.016675</td>\n",
       "      <td>...</td>\n",
       "      <td>NaN</td>\n",
       "      <td>-0.047826</td>\n",
       "      <td>-0.020530</td>\n",
       "      <td>0.003495</td>\n",
       "      <td>0.003983</td>\n",
       "      <td>-0.028268</td>\n",
       "      <td>-0.028668</td>\n",
       "      <td>-0.025159</td>\n",
       "      <td>-0.016962</td>\n",
       "      <td>-0.043289</td>\n",
       "    </tr>\n",
       "    <tr>\n",
       "      <th>2022-03-15 00:00:00-04:00</th>\n",
       "      <td>0.033614</td>\n",
       "      <td>0.033595</td>\n",
       "      <td>-0.036620</td>\n",
       "      <td>0.019946</td>\n",
       "      <td>0.014107</td>\n",
       "      <td>0.022417</td>\n",
       "      <td>0.019569</td>\n",
       "      <td>0.012793</td>\n",
       "      <td>0.015875</td>\n",
       "      <td>0.033488</td>\n",
       "      <td>...</td>\n",
       "      <td>NaN</td>\n",
       "      <td>-0.034247</td>\n",
       "      <td>0.026856</td>\n",
       "      <td>0.013120</td>\n",
       "      <td>0.012166</td>\n",
       "      <td>0.029418</td>\n",
       "      <td>0.029664</td>\n",
       "      <td>0.022077</td>\n",
       "      <td>0.018865</td>\n",
       "      <td>0.009766</td>\n",
       "    </tr>\n",
       "  </tbody>\n",
       "</table>\n",
       "<p>5 rows × 264 columns</p>\n",
       "</div>"
      ],
      "text/plain": [
       "                                VGT       XLK       XLE       XLV       XLF  \\\n",
       "2022-03-09 00:00:00-05:00       NaN       NaN       NaN       NaN       NaN   \n",
       "2022-03-10 00:00:00-05:00 -0.017274 -0.017487  0.030597 -0.000385 -0.008385   \n",
       "2022-03-11 00:00:00-05:00 -0.020790 -0.017594 -0.008003 -0.007467 -0.007092   \n",
       "2022-03-14 00:00:00-04:00 -0.021631 -0.018534 -0.029928  0.007058  0.012637   \n",
       "2022-03-15 00:00:00-04:00  0.033614  0.033595 -0.036620  0.019946  0.014107   \n",
       "\n",
       "                                XLP       VHT       XLU       XLI       XLY  \\\n",
       "2022-03-09 00:00:00-05:00       NaN       NaN       NaN       NaN       NaN   \n",
       "2022-03-10 00:00:00-05:00 -0.009456 -0.000908  0.006695 -0.001315  0.007109   \n",
       "2022-03-11 00:00:00-05:00 -0.011621 -0.011530 -0.003396 -0.008002 -0.019236   \n",
       "2022-03-14 00:00:00-04:00  0.005319  0.002049 -0.001136  0.003369 -0.016675   \n",
       "2022-03-15 00:00:00-04:00  0.022417  0.019569  0.012793  0.015875  0.033488   \n",
       "\n",
       "                           ...  EIPX       PXJ      QTUM       KCE      LEGR  \\\n",
       "2022-03-09 00:00:00-05:00  ...   NaN       NaN       NaN       NaN       NaN   \n",
       "2022-03-10 00:00:00-05:00  ...   NaN  0.040089 -0.012404 -0.009609 -0.020979   \n",
       "2022-03-11 00:00:00-05:00  ...   NaN -0.014989 -0.021143 -0.008662 -0.003704   \n",
       "2022-03-14 00:00:00-04:00  ...   NaN -0.047826 -0.020530  0.003495  0.003983   \n",
       "2022-03-15 00:00:00-04:00  ...   NaN -0.034247  0.026856  0.013120  0.012166   \n",
       "\n",
       "                                XHS       IGN      HTEC      GDOC      SBIO  \n",
       "2022-03-09 00:00:00-05:00       NaN       NaN       NaN       NaN       NaN  \n",
       "2022-03-10 00:00:00-05:00 -0.009792 -0.008682 -0.018949 -0.004154 -0.002699  \n",
       "2022-03-11 00:00:00-05:00 -0.020506 -0.018378 -0.034533 -0.021806 -0.034576  \n",
       "2022-03-14 00:00:00-04:00 -0.028268 -0.028668 -0.025159 -0.016962 -0.043289  \n",
       "2022-03-15 00:00:00-04:00  0.029418  0.029664  0.022077  0.018865  0.009766  \n",
       "\n",
       "[5 rows x 264 columns]"
      ]
     },
     "execution_count": 26,
     "metadata": {},
     "output_type": "execute_result"
    }
   ],
   "source": [
    "df_sector_etf_returns = df_sector_etf_close.pct_change()\n",
    "df_sector_etf_returns.head()"
   ]
  },
  {
   "cell_type": "code",
   "execution_count": 27,
   "id": "5d630228",
   "metadata": {},
   "outputs": [],
   "source": [
    "def calculate_annual_returns(tickers, df_prices) -> pd.DataFrame:\n",
    "  df = pd.DataFrame(columns=['annualReturn'])\n",
    "  for ticker in tickers:\n",
    "    df.loc[ticker] = (df_prices[ticker].iloc[-1] - df_prices[ticker].iloc[0]) \\\n",
    "                          / df_prices[ticker].iloc[0]\n",
    "  return df"
   ]
  },
  {
   "cell_type": "code",
   "execution_count": 28,
   "id": "8198a498",
   "metadata": {},
   "outputs": [],
   "source": [
    "# calculate annual returns\n",
    "df_c_annual_returns = calculate_annual_returns(COUNTRY_ETF_TICKERS,\n",
    "                                               df_country_etf_close)\n",
    "df_s_annual_returns = calculate_annual_returns(SECTOR_ETF_TICKERS,\n",
    "                                               df_sector_etf_close)"
   ]
  },
  {
   "cell_type": "code",
   "execution_count": 29,
   "id": "3fe5b89a",
   "metadata": {},
   "outputs": [
    {
     "data": {
      "text/html": [
       "<div>\n",
       "<style scoped>\n",
       "    .dataframe tbody tr th:only-of-type {\n",
       "        vertical-align: middle;\n",
       "    }\n",
       "\n",
       "    .dataframe tbody tr th {\n",
       "        vertical-align: top;\n",
       "    }\n",
       "\n",
       "    .dataframe thead th {\n",
       "        text-align: right;\n",
       "    }\n",
       "</style>\n",
       "<table border=\"1\" class=\"dataframe\">\n",
       "  <thead>\n",
       "    <tr style=\"text-align: right;\">\n",
       "      <th></th>\n",
       "      <th>annualReturn</th>\n",
       "    </tr>\n",
       "  </thead>\n",
       "  <tbody>\n",
       "    <tr>\n",
       "      <th>count</th>\n",
       "      <td>43.000000</td>\n",
       "    </tr>\n",
       "    <tr>\n",
       "      <th>mean</th>\n",
       "      <td>-0.049163</td>\n",
       "    </tr>\n",
       "    <tr>\n",
       "      <th>std</th>\n",
       "      <td>0.104404</td>\n",
       "    </tr>\n",
       "    <tr>\n",
       "      <th>min</th>\n",
       "      <td>-0.380330</td>\n",
       "    </tr>\n",
       "    <tr>\n",
       "      <th>25%</th>\n",
       "      <td>-0.109470</td>\n",
       "    </tr>\n",
       "    <tr>\n",
       "      <th>50%</th>\n",
       "      <td>-0.044892</td>\n",
       "    </tr>\n",
       "    <tr>\n",
       "      <th>75%</th>\n",
       "      <td>-0.007048</td>\n",
       "    </tr>\n",
       "    <tr>\n",
       "      <th>max</th>\n",
       "      <td>0.276412</td>\n",
       "    </tr>\n",
       "  </tbody>\n",
       "</table>\n",
       "</div>"
      ],
      "text/plain": [
       "       annualReturn\n",
       "count     43.000000\n",
       "mean      -0.049163\n",
       "std        0.104404\n",
       "min       -0.380330\n",
       "25%       -0.109470\n",
       "50%       -0.044892\n",
       "75%       -0.007048\n",
       "max        0.276412"
      ]
     },
     "execution_count": 29,
     "metadata": {},
     "output_type": "execute_result"
    }
   ],
   "source": [
    "df_c_annual_returns.describe()"
   ]
  },
  {
   "cell_type": "code",
   "execution_count": 30,
   "id": "b40e70b4",
   "metadata": {},
   "outputs": [
    {
     "data": {
      "text/html": [
       "<div>\n",
       "<style scoped>\n",
       "    .dataframe tbody tr th:only-of-type {\n",
       "        vertical-align: middle;\n",
       "    }\n",
       "\n",
       "    .dataframe tbody tr th {\n",
       "        vertical-align: top;\n",
       "    }\n",
       "\n",
       "    .dataframe thead th {\n",
       "        text-align: right;\n",
       "    }\n",
       "</style>\n",
       "<table border=\"1\" class=\"dataframe\">\n",
       "  <thead>\n",
       "    <tr style=\"text-align: right;\">\n",
       "      <th></th>\n",
       "      <th>annualReturn</th>\n",
       "    </tr>\n",
       "  </thead>\n",
       "  <tbody>\n",
       "    <tr>\n",
       "      <th>count</th>\n",
       "      <td>262.000000</td>\n",
       "    </tr>\n",
       "    <tr>\n",
       "      <th>mean</th>\n",
       "      <td>-0.055964</td>\n",
       "    </tr>\n",
       "    <tr>\n",
       "      <th>std</th>\n",
       "      <td>0.135075</td>\n",
       "    </tr>\n",
       "    <tr>\n",
       "      <th>min</th>\n",
       "      <td>-0.640674</td>\n",
       "    </tr>\n",
       "    <tr>\n",
       "      <th>25%</th>\n",
       "      <td>-0.123848</td>\n",
       "    </tr>\n",
       "    <tr>\n",
       "      <th>50%</th>\n",
       "      <td>-0.035727</td>\n",
       "    </tr>\n",
       "    <tr>\n",
       "      <th>75%</th>\n",
       "      <td>0.022270</td>\n",
       "    </tr>\n",
       "    <tr>\n",
       "      <th>max</th>\n",
       "      <td>0.288450</td>\n",
       "    </tr>\n",
       "  </tbody>\n",
       "</table>\n",
       "</div>"
      ],
      "text/plain": [
       "       annualReturn\n",
       "count    262.000000\n",
       "mean      -0.055964\n",
       "std        0.135075\n",
       "min       -0.640674\n",
       "25%       -0.123848\n",
       "50%       -0.035727\n",
       "75%        0.022270\n",
       "max        0.288450"
      ]
     },
     "execution_count": 30,
     "metadata": {},
     "output_type": "execute_result"
    }
   ],
   "source": [
    "df_s_annual_returns.describe()"
   ]
  },
  {
   "cell_type": "code",
   "execution_count": 31,
   "id": "5a1db683",
   "metadata": {},
   "outputs": [
    {
     "data": {
      "text/html": [
       "<div>\n",
       "<style scoped>\n",
       "    .dataframe tbody tr th:only-of-type {\n",
       "        vertical-align: middle;\n",
       "    }\n",
       "\n",
       "    .dataframe tbody tr th {\n",
       "        vertical-align: top;\n",
       "    }\n",
       "\n",
       "    .dataframe thead th {\n",
       "        text-align: right;\n",
       "    }\n",
       "</style>\n",
       "<table border=\"1\" class=\"dataframe\">\n",
       "  <thead>\n",
       "    <tr style=\"text-align: right;\">\n",
       "      <th></th>\n",
       "      <th>annualReturn</th>\n",
       "    </tr>\n",
       "  </thead>\n",
       "  <tbody>\n",
       "    <tr>\n",
       "      <th>KWEB</th>\n",
       "      <td>0.006770</td>\n",
       "    </tr>\n",
       "    <tr>\n",
       "      <th>DXJ</th>\n",
       "      <td>0.276412</td>\n",
       "    </tr>\n",
       "    <tr>\n",
       "      <th>EWS</th>\n",
       "      <td>0.017171</td>\n",
       "    </tr>\n",
       "    <tr>\n",
       "      <th>CHIQ</th>\n",
       "      <td>0.002827</td>\n",
       "    </tr>\n",
       "    <tr>\n",
       "      <th>DBJP</th>\n",
       "      <td>0.194186</td>\n",
       "    </tr>\n",
       "    <tr>\n",
       "      <th>EWJV</th>\n",
       "      <td>0.028034</td>\n",
       "    </tr>\n",
       "    <tr>\n",
       "      <th>DFJ</th>\n",
       "      <td>0.028718</td>\n",
       "    </tr>\n",
       "    <tr>\n",
       "      <th>HEWJ</th>\n",
       "      <td>0.187906</td>\n",
       "    </tr>\n",
       "  </tbody>\n",
       "</table>\n",
       "</div>"
      ],
      "text/plain": [
       "      annualReturn\n",
       "KWEB      0.006770\n",
       "DXJ       0.276412\n",
       "EWS       0.017171\n",
       "CHIQ      0.002827\n",
       "DBJP      0.194186\n",
       "EWJV      0.028034\n",
       "DFJ       0.028718\n",
       "HEWJ      0.187906"
      ]
     },
     "execution_count": 31,
     "metadata": {},
     "output_type": "execute_result"
    }
   ],
   "source": [
    "df_c_annual_returns.query('annualReturn > 0')"
   ]
  },
  {
   "cell_type": "code",
   "execution_count": 32,
   "id": "6c4bd184",
   "metadata": {},
   "outputs": [
    {
     "data": {
      "text/html": [
       "<div>\n",
       "<style scoped>\n",
       "    .dataframe tbody tr th:only-of-type {\n",
       "        vertical-align: middle;\n",
       "    }\n",
       "\n",
       "    .dataframe tbody tr th {\n",
       "        vertical-align: top;\n",
       "    }\n",
       "\n",
       "    .dataframe thead th {\n",
       "        text-align: right;\n",
       "    }\n",
       "</style>\n",
       "<table border=\"1\" class=\"dataframe\">\n",
       "  <thead>\n",
       "    <tr style=\"text-align: right;\">\n",
       "      <th></th>\n",
       "      <th>annualReturn</th>\n",
       "    </tr>\n",
       "  </thead>\n",
       "  <tbody>\n",
       "    <tr>\n",
       "      <th>XLE</th>\n",
       "      <td>0.177607</td>\n",
       "    </tr>\n",
       "    <tr>\n",
       "      <th>VDE</th>\n",
       "      <td>0.178324</td>\n",
       "    </tr>\n",
       "    <tr>\n",
       "      <th>AMJ</th>\n",
       "      <td>0.181047</td>\n",
       "    </tr>\n",
       "    <tr>\n",
       "      <th>IXC</th>\n",
       "      <td>0.160844</td>\n",
       "    </tr>\n",
       "    <tr>\n",
       "      <th>IYE</th>\n",
       "      <td>0.171313</td>\n",
       "    </tr>\n",
       "    <tr>\n",
       "      <th>EUFN</th>\n",
       "      <td>0.170917</td>\n",
       "    </tr>\n",
       "    <tr>\n",
       "      <th>FENY</th>\n",
       "      <td>0.177536</td>\n",
       "    </tr>\n",
       "    <tr>\n",
       "      <th>IEO</th>\n",
       "      <td>0.178454</td>\n",
       "    </tr>\n",
       "    <tr>\n",
       "      <th>XES</th>\n",
       "      <td>0.190737</td>\n",
       "    </tr>\n",
       "    <tr>\n",
       "      <th>IEZ</th>\n",
       "      <td>0.175284</td>\n",
       "    </tr>\n",
       "    <tr>\n",
       "      <th>AMZA</th>\n",
       "      <td>0.197747</td>\n",
       "    </tr>\n",
       "    <tr>\n",
       "      <th>AIRR</th>\n",
       "      <td>0.194776</td>\n",
       "    </tr>\n",
       "    <tr>\n",
       "      <th>MLPB</th>\n",
       "      <td>0.164697</td>\n",
       "    </tr>\n",
       "    <tr>\n",
       "      <th>SLX</th>\n",
       "      <td>0.151071</td>\n",
       "    </tr>\n",
       "    <tr>\n",
       "      <th>PXJ</th>\n",
       "      <td>0.288450</td>\n",
       "    </tr>\n",
       "  </tbody>\n",
       "</table>\n",
       "</div>"
      ],
      "text/plain": [
       "      annualReturn\n",
       "XLE       0.177607\n",
       "VDE       0.178324\n",
       "AMJ       0.181047\n",
       "IXC       0.160844\n",
       "IYE       0.171313\n",
       "EUFN      0.170917\n",
       "FENY      0.177536\n",
       "IEO       0.178454\n",
       "XES       0.190737\n",
       "IEZ       0.175284\n",
       "AMZA      0.197747\n",
       "AIRR      0.194776\n",
       "MLPB      0.164697\n",
       "SLX       0.151071\n",
       "PXJ       0.288450"
      ]
     },
     "execution_count": 32,
     "metadata": {},
     "output_type": "execute_result"
    }
   ],
   "source": [
    "df_s_annual_returns.query('annualReturn > 0.15')"
   ]
  },
  {
   "cell_type": "code",
   "execution_count": 33,
   "id": "b2dae580",
   "metadata": {},
   "outputs": [],
   "source": [
    "def get_underlying_name(ticker, category):\n",
    "  '''\n",
    "  Function to parse ETFs' underlying names fetched from Bloomberg\n",
    "  '''\n",
    "  name = ticker.replace(category, '').strip()\n",
    "  if category == 'AU Equity':\n",
    "    return f'{name}.AX'\n",
    "  elif category == 'C1 Equity':\n",
    "    return f'{name}.SS'\n",
    "  elif category == 'C2 Equity':\n",
    "    return f'{name}.SZ'\n",
    "  elif category == 'CH Equity':\n",
    "    if name.startswith('6'):\n",
    "      return f'{name}.SS'\n",
    "    elif name.startswith('3') or name.startswith('0'):\n",
    "      return f'{name}.SZ'\n",
    "  elif category == 'HK Equity':\n",
    "    zeros = 4 - len(name)\n",
    "    pre = '0' * zeros\n",
    "    return f'{pre}{name}.HK'\n",
    "  elif category == 'JP Equity':\n",
    "    return f'{name}.T'\n",
    "  elif category == 'KS Equity':\n",
    "    return f'{name}.KS'\n",
    "  elif category == 'TT Equity':\n",
    "    return f'{name}.TW'\n",
    "  elif category == 'US Equity':\n",
    "    return name\n",
    "\n",
    "  return None"
   ]
  },
  {
   "cell_type": "code",
   "execution_count": 34,
   "id": "bf42587e",
   "metadata": {},
   "outputs": [
    {
     "data": {
      "text/html": [
       "<div>\n",
       "<style scoped>\n",
       "    .dataframe tbody tr th:only-of-type {\n",
       "        vertical-align: middle;\n",
       "    }\n",
       "\n",
       "    .dataframe tbody tr th {\n",
       "        vertical-align: top;\n",
       "    }\n",
       "\n",
       "    .dataframe thead th {\n",
       "        text-align: right;\n",
       "    }\n",
       "</style>\n",
       "<table border=\"1\" class=\"dataframe\">\n",
       "  <thead>\n",
       "    <tr style=\"text-align: right;\">\n",
       "      <th></th>\n",
       "      <th>Unnamed: 0</th>\n",
       "      <th>ETF Ticker</th>\n",
       "      <th>Underlying Ticker</th>\n",
       "      <th>Type</th>\n",
       "    </tr>\n",
       "  </thead>\n",
       "  <tbody>\n",
       "    <tr>\n",
       "      <th>0</th>\n",
       "      <td>0</td>\n",
       "      <td>GXC</td>\n",
       "      <td>700 HK Equity</td>\n",
       "      <td>HK Equity</td>\n",
       "    </tr>\n",
       "    <tr>\n",
       "      <th>1</th>\n",
       "      <td>1</td>\n",
       "      <td>GXC</td>\n",
       "      <td>BABA US Equity</td>\n",
       "      <td>US Equity</td>\n",
       "    </tr>\n",
       "    <tr>\n",
       "      <th>2</th>\n",
       "      <td>2</td>\n",
       "      <td>GXC</td>\n",
       "      <td>3690 HK Equity</td>\n",
       "      <td>HK Equity</td>\n",
       "    </tr>\n",
       "    <tr>\n",
       "      <th>3</th>\n",
       "      <td>3</td>\n",
       "      <td>GXC</td>\n",
       "      <td>939 HK Equity</td>\n",
       "      <td>HK Equity</td>\n",
       "    </tr>\n",
       "    <tr>\n",
       "      <th>4</th>\n",
       "      <td>4</td>\n",
       "      <td>GXC</td>\n",
       "      <td>PDD US Equity</td>\n",
       "      <td>US Equity</td>\n",
       "    </tr>\n",
       "  </tbody>\n",
       "</table>\n",
       "</div>"
      ],
      "text/plain": [
       "   Unnamed: 0 ETF Ticker Underlying Ticker       Type\n",
       "0           0        GXC     700 HK Equity  HK Equity\n",
       "1           1        GXC    BABA US Equity  US Equity\n",
       "2           2        GXC    3690 HK Equity  HK Equity\n",
       "3           3        GXC     939 HK Equity  HK Equity\n",
       "4           4        GXC     PDD US Equity  US Equity"
      ]
     },
     "execution_count": 34,
     "metadata": {},
     "output_type": "execute_result"
    }
   ],
   "source": [
    "df_underlyings = pd.read_csv('/Users/waleedzafar/Dropbox/WQU/Capstone/Week 7/ETF Underlying/ETF Underlyings.csv')\n",
    "df_underlyings.head()"
   ]
  },
  {
   "cell_type": "code",
   "execution_count": 35,
   "id": "3042b034",
   "metadata": {},
   "outputs": [
    {
     "data": {
      "text/plain": [
       "(14750, 4)"
      ]
     },
     "execution_count": 35,
     "metadata": {},
     "output_type": "execute_result"
    }
   ],
   "source": [
    "df_underlyings.shape"
   ]
  },
  {
   "cell_type": "code",
   "execution_count": 36,
   "id": "e2583a0a",
   "metadata": {},
   "outputs": [],
   "source": [
    "df_underlyings.loc[:, 'Underlying'] = df_underlyings.apply(\n",
    "    lambda row: get_underlying_name(row['Underlying Ticker'], row['Type']),\n",
    "    axis=1\n",
    ")"
   ]
  },
  {
   "cell_type": "code",
   "execution_count": 37,
   "id": "f9a13e92",
   "metadata": {},
   "outputs": [
    {
     "data": {
      "text/html": [
       "<div>\n",
       "<style scoped>\n",
       "    .dataframe tbody tr th:only-of-type {\n",
       "        vertical-align: middle;\n",
       "    }\n",
       "\n",
       "    .dataframe tbody tr th {\n",
       "        vertical-align: top;\n",
       "    }\n",
       "\n",
       "    .dataframe thead th {\n",
       "        text-align: right;\n",
       "    }\n",
       "</style>\n",
       "<table border=\"1\" class=\"dataframe\">\n",
       "  <thead>\n",
       "    <tr style=\"text-align: right;\">\n",
       "      <th></th>\n",
       "      <th>Unnamed: 0</th>\n",
       "      <th>ETF Ticker</th>\n",
       "      <th>Underlying Ticker</th>\n",
       "      <th>Type</th>\n",
       "      <th>Underlying</th>\n",
       "    </tr>\n",
       "  </thead>\n",
       "  <tbody>\n",
       "    <tr>\n",
       "      <th>0</th>\n",
       "      <td>0</td>\n",
       "      <td>GXC</td>\n",
       "      <td>700 HK Equity</td>\n",
       "      <td>HK Equity</td>\n",
       "      <td>0700.HK</td>\n",
       "    </tr>\n",
       "    <tr>\n",
       "      <th>1</th>\n",
       "      <td>1</td>\n",
       "      <td>GXC</td>\n",
       "      <td>BABA US Equity</td>\n",
       "      <td>US Equity</td>\n",
       "      <td>BABA</td>\n",
       "    </tr>\n",
       "    <tr>\n",
       "      <th>2</th>\n",
       "      <td>2</td>\n",
       "      <td>GXC</td>\n",
       "      <td>3690 HK Equity</td>\n",
       "      <td>HK Equity</td>\n",
       "      <td>3690.HK</td>\n",
       "    </tr>\n",
       "    <tr>\n",
       "      <th>3</th>\n",
       "      <td>3</td>\n",
       "      <td>GXC</td>\n",
       "      <td>939 HK Equity</td>\n",
       "      <td>HK Equity</td>\n",
       "      <td>0939.HK</td>\n",
       "    </tr>\n",
       "    <tr>\n",
       "      <th>4</th>\n",
       "      <td>4</td>\n",
       "      <td>GXC</td>\n",
       "      <td>PDD US Equity</td>\n",
       "      <td>US Equity</td>\n",
       "      <td>PDD</td>\n",
       "    </tr>\n",
       "  </tbody>\n",
       "</table>\n",
       "</div>"
      ],
      "text/plain": [
       "   Unnamed: 0 ETF Ticker Underlying Ticker       Type Underlying\n",
       "0           0        GXC     700 HK Equity  HK Equity    0700.HK\n",
       "1           1        GXC    BABA US Equity  US Equity       BABA\n",
       "2           2        GXC    3690 HK Equity  HK Equity    3690.HK\n",
       "3           3        GXC     939 HK Equity  HK Equity    0939.HK\n",
       "4           4        GXC     PDD US Equity  US Equity        PDD"
      ]
     },
     "execution_count": 37,
     "metadata": {},
     "output_type": "execute_result"
    }
   ],
   "source": [
    "df_underlyings.head()"
   ]
  },
  {
   "cell_type": "code",
   "execution_count": 38,
   "id": "a0b2211a",
   "metadata": {},
   "outputs": [],
   "source": [
    "df_underlyings = df_underlyings.dropna()"
   ]
  },
  {
   "cell_type": "code",
   "execution_count": 39,
   "id": "8b46eca9",
   "metadata": {},
   "outputs": [
    {
     "data": {
      "text/plain": [
       "(13442, 5)"
      ]
     },
     "execution_count": 39,
     "metadata": {},
     "output_type": "execute_result"
    }
   ],
   "source": [
    "df_underlyings.shape"
   ]
  },
  {
   "cell_type": "code",
   "execution_count": 40,
   "id": "90d1c977",
   "metadata": {},
   "outputs": [],
   "source": [
    "underlying_tickers = df_underlyings['Underlying'].unique()"
   ]
  },
  {
   "cell_type": "code",
   "execution_count": 41,
   "id": "6dc7fc14",
   "metadata": {},
   "outputs": [
    {
     "data": {
      "text/plain": [
       "4063"
      ]
     },
     "execution_count": 41,
     "metadata": {},
     "output_type": "execute_result"
    }
   ],
   "source": [
    "len(underlying_tickers)"
   ]
  },
  {
   "cell_type": "code",
   "execution_count": 42,
   "id": "babd0445",
   "metadata": {},
   "outputs": [],
   "source": [
    "stock_histories = {}"
   ]
  },
  {
   "cell_type": "code",
   "execution_count": 43,
   "id": "bf43cea5",
   "metadata": {},
   "outputs": [
    {
     "name": "stderr",
     "output_type": "stream",
     "text": [
      "  1%|▍                                        | 45/4063 [00:22<32:13,  2.08it/s]"
     ]
    },
    {
     "name": "stdout",
     "output_type": "stream",
     "text": [
      "SSIXX: Period '1mo' is invalid, must be one of ['1d', '5d']\n"
     ]
    },
    {
     "name": "stderr",
     "output_type": "stream",
     "text": [
      " 11%|████                                  | 434/4063 [03:49<3:29:42,  3.47s/it]"
     ]
    },
    {
     "name": "stdout",
     "output_type": "stream",
     "text": [
      "0921.HK: No data found for this date range, symbol may be delisted\n"
     ]
    },
    {
     "name": "stderr",
     "output_type": "stream",
     "text": [
      " 23%|█████████▏                              | 929/4063 [09:30<25:07,  2.08it/s]"
     ]
    },
    {
     "name": "stdout",
     "output_type": "stream",
     "text": [
      "0773.HK: No data found for this date range, symbol may be delisted\n"
     ]
    },
    {
     "name": "stderr",
     "output_type": "stream",
     "text": [
      "\r",
      " 23%|█████████▏                              | 930/4063 [09:31<25:37,  2.04it/s]"
     ]
    },
    {
     "name": "stdout",
     "output_type": "stream",
     "text": [
      "6863.HK: No data found for this date range, symbol may be delisted\n"
     ]
    },
    {
     "name": "stderr",
     "output_type": "stream",
     "text": [
      "\r",
      " 23%|█████████▏                              | 931/4063 [09:31<21:38,  2.41it/s]"
     ]
    },
    {
     "name": "stdout",
     "output_type": "stream",
     "text": [
      "Got error from yahoo api for ticker 8207.HK, Error: {'code': 'Not Found', 'description': 'No data found, symbol may be delisted'}\n",
      "- 8207.HK: No timezone found, symbol may be delisted\n"
     ]
    },
    {
     "name": "stderr",
     "output_type": "stream",
     "text": [
      "\r",
      " 23%|█████████▏                              | 932/4063 [09:31<19:05,  2.73it/s]"
     ]
    },
    {
     "name": "stdout",
     "output_type": "stream",
     "text": [
      "Got error from yahoo api for ticker 1893712D.HK, Error: {'code': 'Not Found', 'description': 'No data found, symbol may be delisted'}\n",
      "- 1893712D.HK: No timezone found, symbol may be delisted\n"
     ]
    },
    {
     "name": "stderr",
     "output_type": "stream",
     "text": [
      " 24%|█████████▋                              | 983/4063 [09:58<21:36,  2.38it/s]"
     ]
    },
    {
     "name": "stdout",
     "output_type": "stream",
     "text": [
      "Got error from yahoo api for ticker XTSLA, Error: {'code': 'Not Found', 'description': 'No data found, symbol may be delisted'}\n",
      "- XTSLA: No timezone found, symbol may be delisted\n"
     ]
    },
    {
     "name": "stderr",
     "output_type": "stream",
     "text": [
      " 25%|█████████▌                             | 1000/4063 [10:07<22:22,  2.28it/s]"
     ]
    },
    {
     "name": "stdout",
     "output_type": "stream",
     "text": [
      "Got error from yahoo api for ticker 247540.KS, Error: {'code': 'Not Found', 'description': 'No data found, symbol may be delisted'}\n",
      "- 247540.KS: No timezone found, symbol may be delisted\n"
     ]
    },
    {
     "name": "stderr",
     "output_type": "stream",
     "text": [
      " 25%|█████████▊                             | 1027/4063 [10:21<22:55,  2.21it/s]"
     ]
    },
    {
     "name": "stdout",
     "output_type": "stream",
     "text": [
      "Got error from yahoo api for ticker 8069.TW, Error: {'code': 'Not Found', 'description': 'No data found, symbol may be delisted'}\n",
      "- 8069.TW: No timezone found, symbol may be delisted\n"
     ]
    },
    {
     "name": "stderr",
     "output_type": "stream",
     "text": [
      " 25%|█████████▉                             | 1033/4063 [10:24<21:40,  2.33it/s]"
     ]
    },
    {
     "name": "stdout",
     "output_type": "stream",
     "text": [
      "Got error from yahoo api for ticker 3529.TW, Error: {'code': 'Not Found', 'description': 'No data found, symbol may be delisted'}\n",
      "- 3529.TW: No timezone found, symbol may be delisted\n"
     ]
    },
    {
     "name": "stderr",
     "output_type": "stream",
     "text": [
      " 26%|█████████▉                             | 1040/4063 [10:27<21:51,  2.30it/s]"
     ]
    },
    {
     "name": "stdout",
     "output_type": "stream",
     "text": [
      "Got error from yahoo api for ticker 091990.KS, Error: {'code': 'Not Found', 'description': 'No data found, symbol may be delisted'}\n",
      "- 091990.KS: No timezone found, symbol may be delisted\n"
     ]
    },
    {
     "name": "stderr",
     "output_type": "stream",
     "text": [
      "\r",
      " 26%|█████████▉                             | 1041/4063 [10:28<18:42,  2.69it/s]"
     ]
    },
    {
     "name": "stdout",
     "output_type": "stream",
     "text": [
      "Got error from yahoo api for ticker 066970.KS, Error: {'code': 'Not Found', 'description': 'No data found, symbol may be delisted'}\n",
      "- 066970.KS: No timezone found, symbol may be delisted\n"
     ]
    },
    {
     "name": "stderr",
     "output_type": "stream",
     "text": [
      " 26%|██████████▏                            | 1059/4063 [10:36<20:44,  2.41it/s]"
     ]
    },
    {
     "name": "stdout",
     "output_type": "stream",
     "text": [
      "Got error from yahoo api for ticker 6488.TW, Error: {'code': 'Not Found', 'description': 'No data found, symbol may be delisted'}\n",
      "- 6488.TW: No timezone found, symbol may be delisted\n"
     ]
    },
    {
     "name": "stderr",
     "output_type": "stream",
     "text": [
      " 26%|██████████▎                            | 1071/4063 [10:43<22:09,  2.25it/s]"
     ]
    },
    {
     "name": "stdout",
     "output_type": "stream",
     "text": [
      "Got error from yahoo api for ticker 028300.KS, Error: {'code': 'Not Found', 'description': 'No data found, symbol may be delisted'}\n",
      "- 028300.KS: No timezone found, symbol may be delisted\n"
     ]
    },
    {
     "name": "stderr",
     "output_type": "stream",
     "text": [
      " 26%|██████████▎                            | 1076/4063 [10:45<20:04,  2.48it/s]"
     ]
    },
    {
     "name": "stdout",
     "output_type": "stream",
     "text": [
      "Got error from yahoo api for ticker 4966.TW, Error: {'code': 'Not Found', 'description': 'No data found, symbol may be delisted'}\n",
      "- 4966.TW: No timezone found, symbol may be delisted\n"
     ]
    },
    {
     "name": "stderr",
     "output_type": "stream",
     "text": [
      " 27%|██████████▍                            | 1084/4063 [10:49<21:08,  2.35it/s]"
     ]
    },
    {
     "name": "stdout",
     "output_type": "stream",
     "text": [
      "Got error from yahoo api for ticker 6446.TW, Error: {'code': 'Not Found', 'description': 'No data found, symbol may be delisted'}\n",
      "- 6446.TW: No timezone found, symbol may be delisted\n"
     ]
    },
    {
     "name": "stderr",
     "output_type": "stream",
     "text": [
      " 27%|██████████▍                            | 1089/4063 [10:51<20:35,  2.41it/s]"
     ]
    },
    {
     "name": "stdout",
     "output_type": "stream",
     "text": [
      "Got error from yahoo api for ticker 5347.TW, Error: {'code': 'Not Found', 'description': 'No data found, symbol may be delisted'}\n",
      "- 5347.TW: No timezone found, symbol may be delisted\n"
     ]
    },
    {
     "name": "stderr",
     "output_type": "stream",
     "text": [
      " 27%|██████████▌                            | 1103/4063 [10:58<22:30,  2.19it/s]"
     ]
    },
    {
     "name": "stdout",
     "output_type": "stream",
     "text": [
      "Got error from yahoo api for ticker 3105.TW, Error: {'code': 'Not Found', 'description': 'No data found, symbol may be delisted'}\n",
      "- 3105.TW: No timezone found, symbol may be delisted\n"
     ]
    },
    {
     "name": "stderr",
     "output_type": "stream",
     "text": [
      " 28%|███████████                            | 1157/4063 [11:26<19:59,  2.42it/s]"
     ]
    },
    {
     "name": "stdout",
     "output_type": "stream",
     "text": [
      "Got error from yahoo api for ticker 293490.KS, Error: {'code': 'Not Found', 'description': 'No data found, symbol may be delisted'}\n",
      "- 293490.KS: No timezone found, symbol may be delisted\n"
     ]
    },
    {
     "name": "stderr",
     "output_type": "stream",
     "text": [
      " 29%|███████████▏                           | 1169/4063 [11:32<19:47,  2.44it/s]"
     ]
    },
    {
     "name": "stdout",
     "output_type": "stream",
     "text": [
      "Got error from yahoo api for ticker 263750.KS, Error: {'code': 'Not Found', 'description': 'No data found, symbol may be delisted'}\n",
      "- 263750.KS: No timezone found, symbol may be delisted\n"
     ]
    },
    {
     "name": "stderr",
     "output_type": "stream",
     "text": [
      " 30%|███████████▋                           | 1223/4063 [12:00<25:04,  1.89it/s]"
     ]
    },
    {
     "name": "stdout",
     "output_type": "stream",
     "text": [
      "2915.HK: Period '1mo' is invalid, must be one of ['1d', '5d']\n"
     ]
    },
    {
     "name": "stderr",
     "output_type": "stream",
     "text": [
      " 41%|████████████████                       | 1667/4063 [17:50<21:53,  1.82it/s]"
     ]
    },
    {
     "name": "stdout",
     "output_type": "stream",
     "text": [
      "ICAXX: Period '1mo' is invalid, must be one of ['1d', '5d']\n"
     ]
    },
    {
     "name": "stderr",
     "output_type": "stream",
     "text": [
      " 44%|████████████████▉                      | 1770/4063 [18:50<21:20,  1.79it/s]"
     ]
    },
    {
     "name": "stdout",
     "output_type": "stream",
     "text": [
      "ESIXX: Period '1mo' is invalid, must be one of ['1d', '5d']\n"
     ]
    },
    {
     "name": "stderr",
     "output_type": "stream",
     "text": [
      " 44%|█████████████████                      | 1781/4063 [18:56<17:32,  2.17it/s]"
     ]
    },
    {
     "name": "stdout",
     "output_type": "stream",
     "text": [
      "AGPXX: Period '1mo' is invalid, must be one of ['1d', '5d']\n"
     ]
    },
    {
     "name": "stderr",
     "output_type": "stream",
     "text": [
      " 45%|████████████████▌                    | 1819/4063 [19:55<1:09:34,  1.86s/it]"
     ]
    },
    {
     "name": "stdout",
     "output_type": "stream",
     "text": [
      "Got error from yahoo api for ticker 6121.TW, Error: {'code': 'Not Found', 'description': 'No data found, symbol may be delisted'}\n",
      "- 6121.TW: No timezone found, symbol may be delisted\n"
     ]
    },
    {
     "name": "stderr",
     "output_type": "stream",
     "text": [
      " 45%|████████████████▌                    | 1824/4063 [20:05<1:00:59,  1.63s/it]"
     ]
    },
    {
     "name": "stdout",
     "output_type": "stream",
     "text": [
      "Got error from yahoo api for ticker 4743.TW, Error: {'code': 'Not Found', 'description': 'No data found, symbol may be delisted'}\n",
      "- 4743.TW: No timezone found, symbol may be delisted\n"
     ]
    },
    {
     "name": "stderr",
     "output_type": "stream",
     "text": [
      " 45%|█████████████████▌                     | 1828/4063 [20:10<47:08,  1.27s/it]"
     ]
    },
    {
     "name": "stdout",
     "output_type": "stream",
     "text": [
      "Got error from yahoo api for ticker 5483.TW, Error: {'code': 'Not Found', 'description': 'No data found, symbol may be delisted'}\n",
      "- 5483.TW: No timezone found, symbol may be delisted\n"
     ]
    },
    {
     "name": "stderr",
     "output_type": "stream",
     "text": [
      " 45%|█████████████████▋                     | 1844/4063 [20:32<44:13,  1.20s/it]"
     ]
    },
    {
     "name": "stdout",
     "output_type": "stream",
     "text": [
      "Got error from yahoo api for ticker 4123.TW, Error: {'code': 'Not Found', 'description': 'No data found, symbol may be delisted'}\n",
      "- 4123.TW: No timezone found, symbol may be delisted\n"
     ]
    },
    {
     "name": "stderr",
     "output_type": "stream",
     "text": [
      " 46%|█████████████████▉                     | 1865/4063 [20:51<16:18,  2.25it/s]"
     ]
    },
    {
     "name": "stdout",
     "output_type": "stream",
     "text": [
      "Got error from yahoo api for ticker 6244.TW, Error: {'code': 'Not Found', 'description': 'No data found, symbol may be delisted'}\n",
      "- 6244.TW: No timezone found, symbol may be delisted\n"
     ]
    },
    {
     "name": "stderr",
     "output_type": "stream",
     "text": [
      " 46%|██████████████████                     | 1880/4063 [20:58<16:37,  2.19it/s]"
     ]
    },
    {
     "name": "stdout",
     "output_type": "stream",
     "text": [
      "Got error from yahoo api for ticker 6589.TW, Error: {'code': 'Not Found', 'description': 'No data found, symbol may be delisted'}\n",
      "- 6589.TW: No timezone found, symbol may be delisted\n"
     ]
    },
    {
     "name": "stderr",
     "output_type": "stream",
     "text": [
      " 47%|██████████████████▏                    | 1899/4063 [21:07<14:46,  2.44it/s]"
     ]
    },
    {
     "name": "stdout",
     "output_type": "stream",
     "text": [
      "Got error from yahoo api for ticker 3228.TW, Error: {'code': 'Not Found', 'description': 'No data found, symbol may be delisted'}\n",
      "- 3228.TW: No timezone found, symbol may be delisted\n"
     ]
    },
    {
     "name": "stderr",
     "output_type": "stream",
     "text": [
      " 48%|██████████████████▌                    | 1932/4063 [21:24<15:17,  2.32it/s]"
     ]
    },
    {
     "name": "stdout",
     "output_type": "stream",
     "text": [
      "Got error from yahoo api for ticker 6547.TW, Error: {'code': 'Not Found', 'description': 'No data found, symbol may be delisted'}\n",
      "- 6547.TW: No timezone found, symbol may be delisted\n"
     ]
    },
    {
     "name": "stderr",
     "output_type": "stream",
     "text": [
      " 48%|██████████████████▊                    | 1963/4063 [21:40<15:12,  2.30it/s]"
     ]
    },
    {
     "name": "stdout",
     "output_type": "stream",
     "text": [
      "Got error from yahoo api for ticker 8044.TW, Error: {'code': 'Not Found', 'description': 'No data found, symbol may be delisted'}\n",
      "- 8044.TW: No timezone found, symbol may be delisted\n"
     ]
    },
    {
     "name": "stderr",
     "output_type": "stream",
     "text": [
      " 49%|███████████████████                    | 1983/4063 [21:50<14:54,  2.32it/s]"
     ]
    },
    {
     "name": "stdout",
     "output_type": "stream",
     "text": [
      "Got error from yahoo api for ticker 8076.TW, Error: {'code': 'Not Found', 'description': 'No data found, symbol may be delisted'}\n",
      "- 8076.TW: No timezone found, symbol may be delisted\n"
     ]
    },
    {
     "name": "stderr",
     "output_type": "stream",
     "text": [
      " 49%|███████████████████                    | 1988/4063 [21:52<13:51,  2.50it/s]"
     ]
    },
    {
     "name": "stdout",
     "output_type": "stream",
     "text": [
      "Got error from yahoo api for ticker 6274.TW, Error: {'code': 'Not Found', 'description': 'No data found, symbol may be delisted'}\n",
      "- 6274.TW: No timezone found, symbol may be delisted\n"
     ]
    },
    {
     "name": "stderr",
     "output_type": "stream",
     "text": [
      " 50%|███████████████████▎                   | 2014/4063 [22:05<14:44,  2.32it/s]"
     ]
    },
    {
     "name": "stdout",
     "output_type": "stream",
     "text": [
      "Got error from yahoo api for ticker 3176.TW, Error: {'code': 'Not Found', 'description': 'No data found, symbol may be delisted'}\n",
      "- 3176.TW: No timezone found, symbol may be delisted\n"
     ]
    },
    {
     "name": "stderr",
     "output_type": "stream",
     "text": [
      " 50%|███████████████████▍                   | 2025/4063 [22:11<14:21,  2.37it/s]"
     ]
    },
    {
     "name": "stdout",
     "output_type": "stream",
     "text": [
      "Got error from yahoo api for ticker 4128.TW, Error: {'code': 'Not Found', 'description': 'No data found, symbol may be delisted'}\n",
      "- 4128.TW: No timezone found, symbol may be delisted\n"
     ]
    },
    {
     "name": "stderr",
     "output_type": "stream",
     "text": [
      " 50%|███████████████████▌                   | 2042/4063 [22:19<13:22,  2.52it/s]"
     ]
    },
    {
     "name": "stdout",
     "output_type": "stream",
     "text": [
      "Got error from yahoo api for ticker 6492.TW, Error: {'code': 'Not Found', 'description': 'No data found, symbol may be delisted'}\n",
      "- 6492.TW: No timezone found, symbol may be delisted\n"
     ]
    },
    {
     "name": "stderr",
     "output_type": "stream",
     "text": [
      " 50%|███████████████████▋                   | 2049/4063 [22:22<15:39,  2.14it/s]"
     ]
    },
    {
     "name": "stdout",
     "output_type": "stream",
     "text": [
      "3777.HK: No data found for this date range, symbol may be delisted\n"
     ]
    },
    {
     "name": "stderr",
     "output_type": "stream",
     "text": [
      "\r",
      " 50%|███████████████████▋                   | 2050/4063 [22:23<15:47,  2.12it/s]"
     ]
    },
    {
     "name": "stdout",
     "output_type": "stream",
     "text": [
      "0940.HK: No data found for this date range, symbol may be delisted\n"
     ]
    },
    {
     "name": "stderr",
     "output_type": "stream",
     "text": [
      "\r",
      " 50%|███████████████████▋                   | 2051/4063 [22:23<15:53,  2.11it/s]"
     ]
    },
    {
     "name": "stdout",
     "output_type": "stream",
     "text": [
      "1886.HK: No data found for this date range, symbol may be delisted\n"
     ]
    },
    {
     "name": "stderr",
     "output_type": "stream",
     "text": [
      "\r",
      " 51%|███████████████████▋                   | 2052/4063 [22:24<13:13,  2.53it/s]"
     ]
    },
    {
     "name": "stdout",
     "output_type": "stream",
     "text": [
      "Got error from yahoo api for ticker 5387.TW, Error: {'code': 'Not Found', 'description': 'No data found, symbol may be delisted'}\n",
      "- 5387.TW: No timezone found, symbol may be delisted\n"
     ]
    },
    {
     "name": "stderr",
     "output_type": "stream",
     "text": [
      "\r",
      " 51%|███████████████████▋                   | 2053/4063 [22:24<13:43,  2.44it/s]"
     ]
    },
    {
     "name": "stdout",
     "output_type": "stream",
     "text": [
      "2418.TW: No data found for this date range, symbol may be delisted\n"
     ]
    },
    {
     "name": "stderr",
     "output_type": "stream",
     "text": [
      "\r",
      " 51%|███████████████████▋                   | 2054/4063 [22:24<12:12,  2.74it/s]"
     ]
    },
    {
     "name": "stdout",
     "output_type": "stream",
     "text": [
      "Got error from yahoo api for ticker 1602.TW, Error: {'code': 'Not Found', 'description': 'No data found, symbol may be delisted'}\n",
      "- 1602.TW: No timezone found, symbol may be delisted\n"
     ]
    },
    {
     "name": "stderr",
     "output_type": "stream",
     "text": [
      " 66%|█████████████████████████▋             | 2674/4063 [30:37<11:55,  1.94it/s]"
     ]
    },
    {
     "name": "stdout",
     "output_type": "stream",
     "text": [
      "INFXX: Period '1mo' is invalid, must be one of ['1d', '5d']\n"
     ]
    },
    {
     "name": "stderr",
     "output_type": "stream",
     "text": [
      " 76%|█████████████████████████████▋         | 3098/4063 [36:15<55:05,  3.43s/it]"
     ]
    },
    {
     "name": "stdout",
     "output_type": "stream",
     "text": [
      "Failed to get ticker 'ACL.AX' reason: HTTPSConnectionPool(host='query2.finance.yahoo.com', port=443): Read timed out. (read timeout=10)\n",
      "- ACL.AX: No timezone found, symbol may be delisted\n"
     ]
    },
    {
     "name": "stderr",
     "output_type": "stream",
     "text": [
      " 78%|██████████████████████████████▍        | 3175/4063 [36:57<06:19,  2.34it/s]"
     ]
    },
    {
     "name": "stdout",
     "output_type": "stream",
     "text": [
      "Got error from yahoo api for ticker PBHAL.AX, Error: {'code': 'Not Found', 'description': 'No data found, symbol may be delisted'}\n",
      "- PBHAL.AX: No timezone found, symbol may be delisted\n"
     ]
    },
    {
     "name": "stderr",
     "output_type": "stream",
     "text": [
      "\r",
      " 78%|██████████████████████████████▍        | 3176/4063 [36:58<06:52,  2.15it/s]"
     ]
    },
    {
     "name": "stdout",
     "output_type": "stream",
     "text": [
      "0404.HK: No data found for this date range, symbol may be delisted\n"
     ]
    },
    {
     "name": "stderr",
     "output_type": "stream",
     "text": [
      "\r",
      " 78%|██████████████████████████████▍        | 3177/4063 [36:58<06:10,  2.39it/s]"
     ]
    },
    {
     "name": "stdout",
     "output_type": "stream",
     "text": [
      "Got error from yahoo api for ticker 0966466D.AX, Error: {'code': 'Not Found', 'description': 'No data found, symbol may be delisted'}\n",
      "- 0966466D.AX: No timezone found, symbol may be delisted\n"
     ]
    },
    {
     "name": "stderr",
     "output_type": "stream",
     "text": [
      "\r",
      " 78%|██████████████████████████████▌        | 3178/4063 [36:59<06:56,  2.13it/s]"
     ]
    },
    {
     "name": "stdout",
     "output_type": "stream",
     "text": [
      "0933.HK: No data found for this date range, symbol may be delisted\n"
     ]
    },
    {
     "name": "stderr",
     "output_type": "stream",
     "text": [
      " 79%|██████████████████████████████▋        | 3191/4063 [37:06<07:29,  1.94it/s]"
     ]
    },
    {
     "name": "stdout",
     "output_type": "stream",
     "text": [
      "OGVXX: Period '1mo' is invalid, must be one of ['1d', '5d']\n"
     ]
    },
    {
     "name": "stderr",
     "output_type": "stream",
     "text": [
      " 82%|████████████████████████████████▏      | 3347/4063 [38:33<05:35,  2.13it/s]"
     ]
    },
    {
     "name": "stdout",
     "output_type": "stream",
     "text": [
      "Got error from yahoo api for ticker 086520.KS, Error: {'code': 'Not Found', 'description': 'No data found, symbol may be delisted'}\n",
      "- 086520.KS: No timezone found, symbol may be delisted\n"
     ]
    },
    {
     "name": "stderr",
     "output_type": "stream",
     "text": [
      " 83%|████████████████████████████████▏      | 3357/4063 [38:38<04:58,  2.37it/s]"
     ]
    },
    {
     "name": "stdout",
     "output_type": "stream",
     "text": [
      "Got error from yahoo api for ticker 035900.KS, Error: {'code': 'Not Found', 'description': 'No data found, symbol may be delisted'}\n",
      "- 035900.KS: No timezone found, symbol may be delisted\n"
     ]
    },
    {
     "name": "stderr",
     "output_type": "stream",
     "text": [
      " 83%|████████████████████████████████▍      | 3377/4063 [38:49<05:07,  2.23it/s]"
     ]
    },
    {
     "name": "stdout",
     "output_type": "stream",
     "text": [
      "Got error from yahoo api for ticker 058470.KS, Error: {'code': 'Not Found', 'description': 'No data found, symbol may be delisted'}\n",
      "- 058470.KS: No timezone found, symbol may be delisted\n"
     ]
    },
    {
     "name": "stderr",
     "output_type": "stream",
     "text": [
      " 83%|████████████████████████████████▍      | 3383/4063 [38:52<04:53,  2.32it/s]"
     ]
    },
    {
     "name": "stdout",
     "output_type": "stream",
     "text": [
      "Got error from yahoo api for ticker 196170.KS, Error: {'code': 'Not Found', 'description': 'No data found, symbol may be delisted'}\n",
      "- 196170.KS: No timezone found, symbol may be delisted\n"
     ]
    },
    {
     "name": "stderr",
     "output_type": "stream",
     "text": [
      " 83%|████████████████████████████████▌      | 3390/4063 [38:55<04:58,  2.25it/s]"
     ]
    },
    {
     "name": "stdout",
     "output_type": "stream",
     "text": [
      "Got error from yahoo api for ticker 240810.KS, Error: {'code': 'Not Found', 'description': 'No data found, symbol may be delisted'}\n",
      "- 240810.KS: No timezone found, symbol may be delisted\n"
     ]
    },
    {
     "name": "stderr",
     "output_type": "stream",
     "text": [
      " 84%|████████████████████████████████▌      | 3397/4063 [39:00<05:27,  2.03it/s]"
     ]
    },
    {
     "name": "stdout",
     "output_type": "stream",
     "text": [
      "Got error from yahoo api for ticker 086900.KS, Error: {'code': 'Not Found', 'description': 'No data found, symbol may be delisted'}\n",
      "- 086900.KS: No timezone found, symbol may be delisted\n"
     ]
    },
    {
     "name": "stderr",
     "output_type": "stream",
     "text": [
      " 84%|████████████████████████████████▋      | 3399/4063 [39:01<04:46,  2.32it/s]"
     ]
    },
    {
     "name": "stdout",
     "output_type": "stream",
     "text": [
      "Got error from yahoo api for ticker 278280.KS, Error: {'code': 'Not Found', 'description': 'No data found, symbol may be delisted'}\n",
      "- 278280.KS: No timezone found, symbol may be delisted\n"
     ]
    },
    {
     "name": "stderr",
     "output_type": "stream",
     "text": [
      " 84%|████████████████████████████████▋      | 3401/4063 [39:02<04:18,  2.56it/s]"
     ]
    },
    {
     "name": "stdout",
     "output_type": "stream",
     "text": [
      "Got error from yahoo api for ticker 098460.KS, Error: {'code': 'Not Found', 'description': 'No data found, symbol may be delisted'}\n",
      "- 098460.KS: No timezone found, symbol may be delisted\n"
     ]
    },
    {
     "name": "stderr",
     "output_type": "stream",
     "text": [
      "\r",
      " 84%|████████████████████████████████▋      | 3402/4063 [39:02<03:42,  2.98it/s]"
     ]
    },
    {
     "name": "stdout",
     "output_type": "stream",
     "text": [
      "Got error from yahoo api for ticker 121600.KS, Error: {'code': 'Not Found', 'description': 'No data found, symbol may be delisted'}\n",
      "- 121600.KS: No timezone found, symbol may be delisted\n"
     ]
    },
    {
     "name": "stderr",
     "output_type": "stream",
     "text": [
      "\r",
      " 84%|████████████████████████████████▋      | 3403/4063 [39:02<03:21,  3.27it/s]"
     ]
    },
    {
     "name": "stdout",
     "output_type": "stream",
     "text": [
      "Got error from yahoo api for ticker 100090.KS, Error: {'code': 'Not Found', 'description': 'No data found, symbol may be delisted'}\n",
      "- 100090.KS: No timezone found, symbol may be delisted\n"
     ]
    },
    {
     "name": "stderr",
     "output_type": "stream",
     "text": [
      " 84%|████████████████████████████████▋      | 3408/4063 [39:05<04:32,  2.41it/s]"
     ]
    },
    {
     "name": "stdout",
     "output_type": "stream",
     "text": [
      "Got error from yahoo api for ticker 357780.KS, Error: {'code': 'Not Found', 'description': 'No data found, symbol may be delisted'}\n",
      "- 357780.KS: No timezone found, symbol may be delisted\n"
     ]
    },
    {
     "name": "stderr",
     "output_type": "stream",
     "text": [
      " 84%|████████████████████████████████▋      | 3411/4063 [39:06<04:28,  2.43it/s]"
     ]
    },
    {
     "name": "stdout",
     "output_type": "stream",
     "text": [
      "Got error from yahoo api for ticker 035760.KS, Error: {'code': 'Not Found', 'description': 'No data found, symbol may be delisted'}\n",
      "- 035760.KS: No timezone found, symbol may be delisted\n"
     ]
    },
    {
     "name": "stderr",
     "output_type": "stream",
     "text": [
      " 84%|████████████████████████████████▊      | 3417/4063 [39:09<04:33,  2.36it/s]"
     ]
    },
    {
     "name": "stdout",
     "output_type": "stream",
     "text": [
      "Got error from yahoo api for ticker 078600.KS, Error: {'code': 'Not Found', 'description': 'No data found, symbol may be delisted'}\n",
      "- 078600.KS: No timezone found, symbol may be delisted\n"
     ]
    },
    {
     "name": "stderr",
     "output_type": "stream",
     "text": [
      "\r",
      " 84%|████████████████████████████████▊      | 3418/4063 [39:09<03:55,  2.74it/s]"
     ]
    },
    {
     "name": "stdout",
     "output_type": "stream",
     "text": [
      "Got error from yahoo api for ticker 365340.KS, Error: {'code': 'Not Found', 'description': 'No data found, symbol may be delisted'}\n",
      "- 365340.KS: No timezone found, symbol may be delisted\n"
     ]
    },
    {
     "name": "stderr",
     "output_type": "stream",
     "text": [
      "\r",
      " 84%|████████████████████████████████▊      | 3419/4063 [39:09<03:33,  3.02it/s]"
     ]
    },
    {
     "name": "stdout",
     "output_type": "stream",
     "text": [
      "Got error from yahoo api for ticker 137400.KS, Error: {'code': 'Not Found', 'description': 'No data found, symbol may be delisted'}\n",
      "- 137400.KS: No timezone found, symbol may be delisted\n"
     ]
    },
    {
     "name": "stderr",
     "output_type": "stream",
     "text": [
      " 84%|████████████████████████████████▉      | 3425/4063 [39:12<04:28,  2.37it/s]"
     ]
    },
    {
     "name": "stdout",
     "output_type": "stream",
     "text": [
      "Got error from yahoo api for ticker 048410.KS, Error: {'code': 'Not Found', 'description': 'No data found, symbol may be delisted'}\n",
      "- 048410.KS: No timezone found, symbol may be delisted\n"
     ]
    },
    {
     "name": "stderr",
     "output_type": "stream",
     "text": [
      " 84%|████████████████████████████████▉      | 3428/4063 [39:14<04:14,  2.49it/s]"
     ]
    },
    {
     "name": "stdout",
     "output_type": "stream",
     "text": [
      "Got error from yahoo api for ticker 112040.KS, Error: {'code': 'Not Found', 'description': 'No data found, symbol may be delisted'}\n",
      "- 112040.KS: No timezone found, symbol may be delisted\n"
     ]
    },
    {
     "name": "stderr",
     "output_type": "stream",
     "text": [
      " 84%|████████████████████████████████▉      | 3431/4063 [39:15<04:16,  2.46it/s]"
     ]
    },
    {
     "name": "stdout",
     "output_type": "stream",
     "text": [
      "Got error from yahoo api for ticker 007390.KS, Error: {'code': 'Not Found', 'description': 'No data found, symbol may be delisted'}\n",
      "- 007390.KS: No timezone found, symbol may be delisted\n"
     ]
    },
    {
     "name": "stderr",
     "output_type": "stream",
     "text": [
      " 85%|████████████████████████████████▉      | 3437/4063 [39:18<04:18,  2.42it/s]"
     ]
    },
    {
     "name": "stdout",
     "output_type": "stream",
     "text": [
      "Got error from yahoo api for ticker 383310.KS, Error: {'code': 'Not Found', 'description': 'No data found, symbol may be delisted'}\n",
      "- 383310.KS: No timezone found, symbol may be delisted\n"
     ]
    },
    {
     "name": "stderr",
     "output_type": "stream",
     "text": [
      "\r",
      " 85%|█████████████████████████████████      | 3438/4063 [39:18<03:46,  2.76it/s]"
     ]
    },
    {
     "name": "stdout",
     "output_type": "stream",
     "text": [
      "Got error from yahoo api for ticker 145020.KS, Error: {'code': 'Not Found', 'description': 'No data found, symbol may be delisted'}\n",
      "- 145020.KS: No timezone found, symbol may be delisted\n"
     ]
    },
    {
     "name": "stderr",
     "output_type": "stream",
     "text": [
      " 85%|█████████████████████████████████      | 3440/4063 [39:21<09:07,  1.14it/s]"
     ]
    },
    {
     "name": "stdout",
     "output_type": "stream",
     "text": [
      "Got error from yahoo api for ticker 032500.KS, Error: {'code': 'Not Found', 'description': 'No data found, symbol may be delisted'}\n",
      "- 032500.KS: No timezone found, symbol may be delisted\n"
     ]
    },
    {
     "name": "stderr",
     "output_type": "stream",
     "text": [
      " 85%|█████████████████████████████████▏     | 3452/4063 [39:49<18:44,  1.84s/it]"
     ]
    },
    {
     "name": "stdout",
     "output_type": "stream",
     "text": [
      "Got error from yahoo api for ticker 096530.KS, Error: {'code': 'Not Found', 'description': 'No data found, symbol may be delisted'}\n",
      "- 096530.KS: No timezone found, symbol may be delisted\n"
     ]
    },
    {
     "name": "stderr",
     "output_type": "stream",
     "text": [
      " 85%|█████████████████████████████████▏     | 3454/4063 [39:52<16:36,  1.64s/it]"
     ]
    },
    {
     "name": "stdout",
     "output_type": "stream",
     "text": [
      "Got error from yahoo api for ticker 034230.KS, Error: {'code': 'Not Found', 'description': 'No data found, symbol may be delisted'}\n",
      "- 034230.KS: No timezone found, symbol may be delisted\n"
     ]
    },
    {
     "name": "stderr",
     "output_type": "stream",
     "text": [
      "\r",
      " 85%|█████████████████████████████████▏     | 3455/4063 [39:52<13:25,  1.32s/it]"
     ]
    },
    {
     "name": "stdout",
     "output_type": "stream",
     "text": [
      "Got error from yahoo api for ticker 237690.KS, Error: {'code': 'Not Found', 'description': 'No data found, symbol may be delisted'}\n",
      "- 237690.KS: No timezone found, symbol may be delisted\n"
     ]
    },
    {
     "name": "stderr",
     "output_type": "stream",
     "text": [
      " 85%|█████████████████████████████████▎     | 3466/4063 [40:15<16:55,  1.70s/it]"
     ]
    },
    {
     "name": "stdout",
     "output_type": "stream",
     "text": [
      "Got error from yahoo api for ticker 056190.KS, Error: {'code': 'Not Found', 'description': 'No data found, symbol may be delisted'}\n",
      "- 056190.KS: No timezone found, symbol may be delisted\n"
     ]
    },
    {
     "name": "stderr",
     "output_type": "stream",
     "text": [
      " 85%|█████████████████████████████████▎     | 3468/4063 [40:18<13:43,  1.38s/it]"
     ]
    },
    {
     "name": "stdout",
     "output_type": "stream",
     "text": [
      "Got error from yahoo api for ticker 078340.KS, Error: {'code': 'Not Found', 'description': 'No data found, symbol may be delisted'}\n",
      "- 078340.KS: No timezone found, symbol may be delisted\n"
     ]
    },
    {
     "name": "stderr",
     "output_type": "stream",
     "text": [
      " 86%|█████████████████████████████████▎     | 3476/4063 [40:36<19:00,  1.94s/it]"
     ]
    },
    {
     "name": "stdout",
     "output_type": "stream",
     "text": [
      "Got error from yahoo api for ticker 141080.KS, Error: {'code': 'Not Found', 'description': 'No data found, symbol may be delisted'}\n",
      "- 141080.KS: No timezone found, symbol may be delisted\n"
     ]
    },
    {
     "name": "stderr",
     "output_type": "stream",
     "text": [
      " 86%|█████████████████████████████████▍     | 3478/4063 [40:38<14:47,  1.52s/it]"
     ]
    },
    {
     "name": "stdout",
     "output_type": "stream",
     "text": [
      "Got error from yahoo api for ticker 294090.KS, Error: {'code': 'Not Found', 'description': 'No data found, symbol may be delisted'}\n",
      "- 294090.KS: No timezone found, symbol may be delisted\n"
     ]
    },
    {
     "name": "stderr",
     "output_type": "stream",
     "text": [
      " 86%|█████████████████████████████████▍     | 3480/4063 [40:42<14:35,  1.50s/it]"
     ]
    },
    {
     "name": "stdout",
     "output_type": "stream",
     "text": [
      "Got error from yahoo api for ticker 039030.KS, Error: {'code': 'Not Found', 'description': 'No data found, symbol may be delisted'}\n",
      "- 039030.KS: No timezone found, symbol may be delisted\n"
     ]
    },
    {
     "name": "stderr",
     "output_type": "stream",
     "text": [
      " 86%|█████████████████████████████████▍     | 3482/4063 [40:45<13:58,  1.44s/it]"
     ]
    },
    {
     "name": "stdout",
     "output_type": "stream",
     "text": [
      "Got error from yahoo api for ticker 067160.KS, Error: {'code': 'Not Found', 'description': 'No data found, symbol may be delisted'}\n",
      "- 067160.KS: No timezone found, symbol may be delisted\n"
     ]
    },
    {
     "name": "stderr",
     "output_type": "stream",
     "text": [
      " 86%|█████████████████████████████████▍     | 3484/4063 [40:48<13:12,  1.37s/it]"
     ]
    },
    {
     "name": "stdout",
     "output_type": "stream",
     "text": [
      "Got error from yahoo api for ticker 090460.KS, Error: {'code': 'Not Found', 'description': 'No data found, symbol may be delisted'}\n",
      "- 090460.KS: No timezone found, symbol may be delisted\n"
     ]
    },
    {
     "name": "stderr",
     "output_type": "stream",
     "text": [
      "\r",
      " 86%|█████████████████████████████████▍     | 3485/4063 [40:48<10:48,  1.12s/it]"
     ]
    },
    {
     "name": "stdout",
     "output_type": "stream",
     "text": [
      "Got error from yahoo api for ticker 122870.KS, Error: {'code': 'Not Found', 'description': 'No data found, symbol may be delisted'}\n",
      "- 122870.KS: No timezone found, symbol may be delisted\n"
     ]
    },
    {
     "name": "stderr",
     "output_type": "stream",
     "text": [
      " 86%|█████████████████████████████████▍     | 3490/4063 [40:57<14:01,  1.47s/it]"
     ]
    },
    {
     "name": "stdout",
     "output_type": "stream",
     "text": [
      "Got error from yahoo api for ticker 140860.KS, Error: {'code': 'Not Found', 'description': 'No data found, symbol may be delisted'}\n",
      "- 140860.KS: No timezone found, symbol may be delisted\n"
     ]
    },
    {
     "name": "stderr",
     "output_type": "stream",
     "text": [
      " 86%|█████████████████████████████████▌     | 3492/4063 [41:00<13:31,  1.42s/it]"
     ]
    },
    {
     "name": "stdout",
     "output_type": "stream",
     "text": [
      "Got error from yahoo api for ticker 205470.KS, Error: {'code': 'Not Found', 'description': 'No data found, symbol may be delisted'}\n",
      "- 205470.KS: No timezone found, symbol may be delisted\n"
     ]
    },
    {
     "name": "stderr",
     "output_type": "stream",
     "text": [
      "\r",
      " 86%|█████████████████████████████████▌     | 3493/4063 [41:01<11:06,  1.17s/it]"
     ]
    },
    {
     "name": "stdout",
     "output_type": "stream",
     "text": [
      "Got error from yahoo api for ticker 213420.KS, Error: {'code': 'Not Found', 'description': 'No data found, symbol may be delisted'}\n",
      "- 213420.KS: No timezone found, symbol may be delisted\n"
     ]
    },
    {
     "name": "stderr",
     "output_type": "stream",
     "text": [
      "\r",
      " 86%|█████████████████████████████████▌     | 3494/4063 [41:01<09:29,  1.00s/it]"
     ]
    },
    {
     "name": "stdout",
     "output_type": "stream",
     "text": [
      "Got error from yahoo api for ticker 085660.KS, Error: {'code': 'Not Found', 'description': 'No data found, symbol may be delisted'}\n",
      "- 085660.KS: No timezone found, symbol may be delisted\n"
     ]
    },
    {
     "name": "stderr",
     "output_type": "stream",
     "text": [
      " 86%|█████████████████████████████████▌     | 3499/4063 [41:12<15:46,  1.68s/it]"
     ]
    },
    {
     "name": "stdout",
     "output_type": "stream",
     "text": [
      "Got error from yahoo api for ticker 039200.KS, Error: {'code': 'Not Found', 'description': 'No data found, symbol may be delisted'}\n",
      "- 039200.KS: No timezone found, symbol may be delisted\n"
     ]
    },
    {
     "name": "stderr",
     "output_type": "stream",
     "text": [
      " 86%|█████████████████████████████████▌     | 3502/4063 [41:17<12:35,  1.35s/it]"
     ]
    },
    {
     "name": "stdout",
     "output_type": "stream",
     "text": [
      "Got error from yahoo api for ticker 101490.KS, Error: {'code': 'Not Found', 'description': 'No data found, symbol may be delisted'}\n",
      "- 101490.KS: No timezone found, symbol may be delisted\n"
     ]
    },
    {
     "name": "stderr",
     "output_type": "stream",
     "text": [
      " 86%|█████████████████████████████████▋     | 3506/4063 [41:19<06:46,  1.37it/s]"
     ]
    },
    {
     "name": "stdout",
     "output_type": "stream",
     "text": [
      "Got error from yahoo api for ticker 082270.KS, Error: {'code': 'Not Found', 'description': 'No data found, symbol may be delisted'}\n",
      "- 082270.KS: No timezone found, symbol may be delisted\n"
     ]
    },
    {
     "name": "stderr",
     "output_type": "stream",
     "text": [
      " 86%|█████████████████████████████████▋     | 3510/4063 [41:21<04:28,  2.06it/s]"
     ]
    },
    {
     "name": "stdout",
     "output_type": "stream",
     "text": [
      "Got error from yahoo api for ticker 195940.KS, Error: {'code': 'Not Found', 'description': 'No data found, symbol may be delisted'}\n",
      "- 195940.KS: No timezone found, symbol may be delisted\n"
     ]
    },
    {
     "name": "stderr",
     "output_type": "stream",
     "text": [
      "\r",
      " 86%|█████████████████████████████████▋     | 3511/4063 [41:21<03:43,  2.46it/s]"
     ]
    },
    {
     "name": "stdout",
     "output_type": "stream",
     "text": [
      "Got error from yahoo api for ticker 298380.KS, Error: {'code': 'Not Found', 'description': 'No data found, symbol may be delisted'}\n",
      "- 298380.KS: No timezone found, symbol may be delisted\n"
     ]
    },
    {
     "name": "stderr",
     "output_type": "stream",
     "text": [
      " 87%|█████████████████████████████████▋     | 3515/4063 [41:23<03:54,  2.34it/s]"
     ]
    },
    {
     "name": "stdout",
     "output_type": "stream",
     "text": [
      "Got error from yahoo api for ticker 003380.KS, Error: {'code': 'Not Found', 'description': 'No data found, symbol may be delisted'}\n",
      "- 003380.KS: No timezone found, symbol may be delisted\n"
     ]
    },
    {
     "name": "stderr",
     "output_type": "stream",
     "text": [
      "\r",
      " 87%|█████████████████████████████████▋     | 3516/4063 [41:23<03:26,  2.65it/s]"
     ]
    },
    {
     "name": "stdout",
     "output_type": "stream",
     "text": [
      "Got error from yahoo api for ticker 189300.KS, Error: {'code': 'Not Found', 'description': 'No data found, symbol may be delisted'}\n",
      "- 189300.KS: No timezone found, symbol may be delisted\n"
     ]
    },
    {
     "name": "stderr",
     "output_type": "stream",
     "text": [
      " 87%|█████████████████████████████████▊     | 3518/4063 [41:24<03:15,  2.79it/s]"
     ]
    },
    {
     "name": "stdout",
     "output_type": "stream",
     "text": [
      "Got error from yahoo api for ticker 215200.KS, Error: {'code': 'Not Found', 'description': 'No data found, symbol may be delisted'}\n",
      "- 215200.KS: No timezone found, symbol may be delisted\n"
     ]
    },
    {
     "name": "stderr",
     "output_type": "stream",
     "text": [
      " 87%|█████████████████████████████████▊     | 3520/4063 [41:24<03:10,  2.85it/s]"
     ]
    },
    {
     "name": "stdout",
     "output_type": "stream",
     "text": [
      "Got error from yahoo api for ticker 222800.KS, Error: {'code': 'Not Found', 'description': 'No data found, symbol may be delisted'}\n",
      "- 222800.KS: No timezone found, symbol may be delisted\n"
     ]
    },
    {
     "name": "stderr",
     "output_type": "stream",
     "text": [
      " 87%|█████████████████████████████████▊     | 3526/4063 [41:27<03:28,  2.57it/s]"
     ]
    },
    {
     "name": "stdout",
     "output_type": "stream",
     "text": [
      "Got error from yahoo api for ticker 253450.KS, Error: {'code': 'Not Found', 'description': 'No data found, symbol may be delisted'}\n",
      "- 253450.KS: No timezone found, symbol may be delisted\n"
     ]
    },
    {
     "name": "stderr",
     "output_type": "stream",
     "text": [
      " 87%|█████████████████████████████████▉     | 3530/4063 [41:29<03:40,  2.42it/s]"
     ]
    },
    {
     "name": "stdout",
     "output_type": "stream",
     "text": [
      "Got error from yahoo api for ticker 222080.KS, Error: {'code': 'Not Found', 'description': 'No data found, symbol may be delisted'}\n",
      "- 222080.KS: No timezone found, symbol may be delisted\n"
     ]
    },
    {
     "name": "stderr",
     "output_type": "stream",
     "text": [
      " 87%|█████████████████████████████████▉     | 3540/4063 [41:34<03:40,  2.37it/s]"
     ]
    },
    {
     "name": "stdout",
     "output_type": "stream",
     "text": [
      "Got error from yahoo api for ticker 095660.KS, Error: {'code': 'Not Found', 'description': 'No data found, symbol may be delisted'}\n",
      "- 095660.KS: No timezone found, symbol may be delisted\n"
     ]
    },
    {
     "name": "stderr",
     "output_type": "stream",
     "text": [
      " 87%|██████████████████████████████████     | 3549/4063 [41:38<03:47,  2.26it/s]"
     ]
    },
    {
     "name": "stdout",
     "output_type": "stream",
     "text": [
      "Got error from yahoo api for ticker 095700.KS, Error: {'code': 'Not Found', 'description': 'No data found, symbol may be delisted'}\n",
      "- 095700.KS: No timezone found, symbol may be delisted\n"
     ]
    },
    {
     "name": "stderr",
     "output_type": "stream",
     "text": [
      " 87%|██████████████████████████████████     | 3552/4063 [41:39<03:33,  2.39it/s]"
     ]
    },
    {
     "name": "stdout",
     "output_type": "stream",
     "text": [
      "Got error from yahoo api for ticker 272290.KS, Error: {'code': 'Not Found', 'description': 'No data found, symbol may be delisted'}\n",
      "- 272290.KS: No timezone found, symbol may be delisted\n"
     ]
    },
    {
     "name": "stderr",
     "output_type": "stream",
     "text": [
      " 88%|██████████████████████████████████▏    | 3557/4063 [41:43<04:04,  2.07it/s]"
     ]
    },
    {
     "name": "stdout",
     "output_type": "stream",
     "text": [
      "Got error from yahoo api for ticker 348370.KS, Error: {'code': 'Not Found', 'description': 'No data found, symbol may be delisted'}\n",
      "- 348370.KS: No timezone found, symbol may be delisted\n"
     ]
    },
    {
     "name": "stderr",
     "output_type": "stream",
     "text": [
      " 88%|██████████████████████████████████▏    | 3563/4063 [41:45<03:14,  2.56it/s]"
     ]
    },
    {
     "name": "stdout",
     "output_type": "stream",
     "text": [
      "Got error from yahoo api for ticker 214450.KS, Error: {'code': 'Not Found', 'description': 'No data found, symbol may be delisted'}\n",
      "- 214450.KS: No timezone found, symbol may be delisted\n"
     ]
    },
    {
     "name": "stderr",
     "output_type": "stream",
     "text": [
      " 88%|██████████████████████████████████▎    | 3572/4063 [41:50<03:35,  2.28it/s]"
     ]
    },
    {
     "name": "stdout",
     "output_type": "stream",
     "text": [
      "Got error from yahoo api for ticker 323990.KS, Error: {'code': 'Not Found', 'description': 'No data found, symbol may be delisted'}\n",
      "- 323990.KS: No timezone found, symbol may be delisted\n"
     ]
    },
    {
     "name": "stderr",
     "output_type": "stream",
     "text": [
      " 88%|██████████████████████████████████▎    | 3577/4063 [41:52<03:32,  2.29it/s]"
     ]
    },
    {
     "name": "stdout",
     "output_type": "stream",
     "text": [
      "Got error from yahoo api for ticker 030190.KS, Error: {'code': 'Not Found', 'description': 'No data found, symbol may be delisted'}\n",
      "- 030190.KS: No timezone found, symbol may be delisted\n"
     ]
    },
    {
     "name": "stderr",
     "output_type": "stream",
     "text": [
      " 88%|██████████████████████████████████▍    | 3583/4063 [41:55<02:54,  2.75it/s]"
     ]
    },
    {
     "name": "stdout",
     "output_type": "stream",
     "text": [
      "Got error from yahoo api for ticker 218410.KS, Error: {'code': 'Not Found', 'description': 'No data found, symbol may be delisted'}\n",
      "- 218410.KS: No timezone found, symbol may be delisted\n",
      "Got error from yahoo api for ticker 215000.KS, Error: {'code': 'Not Found', 'description': 'No data found, symbol may be delisted'}\n",
      "- 215000.KS: No timezone found, symbol may be delisted\n"
     ]
    },
    {
     "name": "stderr",
     "output_type": "stream",
     "text": [
      " 88%|██████████████████████████████████▍    | 3588/4063 [41:57<03:17,  2.40it/s]"
     ]
    },
    {
     "name": "stdout",
     "output_type": "stream",
     "text": [
      "Got error from yahoo api for ticker 299900.KS, Error: {'code': 'Not Found', 'description': 'No data found, symbol may be delisted'}\n",
      "- 299900.KS: No timezone found, symbol may be delisted\n"
     ]
    },
    {
     "name": "stderr",
     "output_type": "stream",
     "text": [
      " 88%|██████████████████████████████████▌    | 3595/4063 [42:01<03:14,  2.40it/s]"
     ]
    },
    {
     "name": "stdout",
     "output_type": "stream",
     "text": [
      "Got error from yahoo api for ticker 084370.KS, Error: {'code': 'Not Found', 'description': 'No data found, symbol may be delisted'}\n",
      "- 084370.KS: No timezone found, symbol may be delisted\n"
     ]
    },
    {
     "name": "stderr",
     "output_type": "stream",
     "text": [
      " 89%|██████████████████████████████████▌    | 3601/4063 [42:04<03:28,  2.22it/s]"
     ]
    },
    {
     "name": "stdout",
     "output_type": "stream",
     "text": [
      "Got error from yahoo api for ticker 053800.KS, Error: {'code': 'Not Found', 'description': 'No data found, symbol may be delisted'}\n",
      "- 053800.KS: No timezone found, symbol may be delisted\n"
     ]
    },
    {
     "name": "stderr",
     "output_type": "stream",
     "text": [
      " 89%|██████████████████████████████████▌    | 3603/4063 [42:04<03:02,  2.52it/s]"
     ]
    },
    {
     "name": "stdout",
     "output_type": "stream",
     "text": [
      "Got error from yahoo api for ticker 067310.KS, Error: {'code': 'Not Found', 'description': 'No data found, symbol may be delisted'}\n",
      "- 067310.KS: No timezone found, symbol may be delisted\n"
     ]
    },
    {
     "name": "stderr",
     "output_type": "stream",
     "text": [
      "\r",
      " 89%|██████████████████████████████████▌    | 3604/4063 [42:05<02:37,  2.92it/s]"
     ]
    },
    {
     "name": "stdout",
     "output_type": "stream",
     "text": [
      "Got error from yahoo api for ticker 036930.KS, Error: {'code': 'Not Found', 'description': 'No data found, symbol may be delisted'}\n",
      "- 036930.KS: No timezone found, symbol may be delisted\n"
     ]
    },
    {
     "name": "stderr",
     "output_type": "stream",
     "text": [
      " 89%|██████████████████████████████████▌    | 3606/4063 [42:05<02:40,  2.85it/s]"
     ]
    },
    {
     "name": "stdout",
     "output_type": "stream",
     "text": [
      "Got error from yahoo api for ticker 068240.KS, Error: {'code': 'Not Found', 'description': 'No data found, symbol may be delisted'}\n",
      "- 068240.KS: No timezone found, symbol may be delisted\n"
     ]
    },
    {
     "name": "stderr",
     "output_type": "stream",
     "text": [
      " 89%|██████████████████████████████████▋    | 3608/4063 [42:06<02:54,  2.61it/s]"
     ]
    },
    {
     "name": "stdout",
     "output_type": "stream",
     "text": [
      "Got error from yahoo api for ticker 046890.KS, Error: {'code': 'Not Found', 'description': 'No data found, symbol may be delisted'}\n",
      "- 046890.KS: No timezone found, symbol may be delisted\n"
     ]
    },
    {
     "name": "stderr",
     "output_type": "stream",
     "text": [
      " 89%|██████████████████████████████████▋    | 3616/4063 [42:11<03:23,  2.20it/s]"
     ]
    },
    {
     "name": "stdout",
     "output_type": "stream",
     "text": [
      "Got error from yahoo api for ticker 033640.KS, Error: {'code': 'Not Found', 'description': 'No data found, symbol may be delisted'}\n",
      "- 033640.KS: No timezone found, symbol may be delisted\n"
     ]
    },
    {
     "name": "stderr",
     "output_type": "stream",
     "text": [
      "\r",
      " 89%|██████████████████████████████████▋    | 3617/4063 [42:11<02:54,  2.56it/s]"
     ]
    },
    {
     "name": "stdout",
     "output_type": "stream",
     "text": [
      "Got error from yahoo api for ticker 131970.KS, Error: {'code': 'Not Found', 'description': 'No data found, symbol may be delisted'}\n",
      "- 131970.KS: No timezone found, symbol may be delisted\n"
     ]
    },
    {
     "name": "stderr",
     "output_type": "stream",
     "text": [
      " 89%|██████████████████████████████████▊    | 3625/4063 [42:15<03:25,  2.13it/s]"
     ]
    },
    {
     "name": "stdout",
     "output_type": "stream",
     "text": [
      "Got error from yahoo api for ticker 144510.KS, Error: {'code': 'Not Found', 'description': 'No data found, symbol may be delisted'}\n",
      "- 144510.KS: No timezone found, symbol may be delisted\n"
     ]
    },
    {
     "name": "stderr",
     "output_type": "stream",
     "text": [
      "\r",
      " 89%|██████████████████████████████████▊    | 3626/4063 [42:15<02:50,  2.56it/s]"
     ]
    },
    {
     "name": "stdout",
     "output_type": "stream",
     "text": [
      "Got error from yahoo api for ticker 115450.KS, Error: {'code': 'Not Found', 'description': 'No data found, symbol may be delisted'}\n",
      "- 115450.KS: No timezone found, symbol may be delisted\n"
     ]
    },
    {
     "name": "stderr",
     "output_type": "stream",
     "text": [
      " 89%|██████████████████████████████████▊    | 3628/4063 [42:16<02:34,  2.82it/s]"
     ]
    },
    {
     "name": "stdout",
     "output_type": "stream",
     "text": [
      "Got error from yahoo api for ticker 091700.KS, Error: {'code': 'Not Found', 'description': 'No data found, symbol may be delisted'}\n",
      "- 091700.KS: No timezone found, symbol may be delisted\n"
     ]
    },
    {
     "name": "stderr",
     "output_type": "stream",
     "text": [
      " 89%|██████████████████████████████████▊    | 3631/4063 [42:17<02:50,  2.54it/s]"
     ]
    },
    {
     "name": "stdout",
     "output_type": "stream",
     "text": [
      "Got error from yahoo api for ticker 086450.KS, Error: {'code': 'Not Found', 'description': 'No data found, symbol may be delisted'}\n",
      "- 086450.KS: No timezone found, symbol may be delisted\n"
     ]
    },
    {
     "name": "stderr",
     "output_type": "stream",
     "text": [
      "\r",
      " 89%|██████████████████████████████████▊    | 3632/4063 [42:18<02:27,  2.91it/s]"
     ]
    },
    {
     "name": "stdout",
     "output_type": "stream",
     "text": [
      "Got error from yahoo api for ticker 182400.KS, Error: {'code': 'Not Found', 'description': 'No data found, symbol may be delisted'}\n",
      "- 182400.KS: No timezone found, symbol may be delisted\n"
     ]
    },
    {
     "name": "stderr",
     "output_type": "stream",
     "text": [
      " 90%|██████████████████████████████████▉    | 3638/4063 [42:20<02:55,  2.42it/s]"
     ]
    },
    {
     "name": "stdout",
     "output_type": "stream",
     "text": [
      "Got error from yahoo api for ticker 084990.KS, Error: {'code': 'Not Found', 'description': 'No data found, symbol may be delisted'}\n",
      "- 084990.KS: No timezone found, symbol may be delisted\n"
     ]
    },
    {
     "name": "stderr",
     "output_type": "stream",
     "text": [
      "\r",
      " 90%|██████████████████████████████████▉    | 3639/4063 [42:21<02:29,  2.83it/s]"
     ]
    },
    {
     "name": "stdout",
     "output_type": "stream",
     "text": [
      "Got error from yahoo api for ticker 290650.KS, Error: {'code': 'Not Found', 'description': 'No data found, symbol may be delisted'}\n",
      "- 290650.KS: No timezone found, symbol may be delisted\n"
     ]
    },
    {
     "name": "stderr",
     "output_type": "stream",
     "text": [
      " 90%|██████████████████████████████████▉    | 3642/4063 [42:22<02:37,  2.68it/s]"
     ]
    },
    {
     "name": "stdout",
     "output_type": "stream",
     "text": [
      "Got error from yahoo api for ticker 022100.KS, Error: {'code': 'Not Found', 'description': 'No data found, symbol may be delisted'}\n",
      "- 022100.KS: No timezone found, symbol may be delisted\n"
     ]
    },
    {
     "name": "stderr",
     "output_type": "stream",
     "text": [
      " 90%|███████████████████████████████████    | 3659/4063 [42:31<03:03,  2.20it/s]"
     ]
    },
    {
     "name": "stdout",
     "output_type": "stream",
     "text": [
      "Got error from yahoo api for ticker 050890.KS, Error: {'code': 'Not Found', 'description': 'No data found, symbol may be delisted'}\n",
      "- 050890.KS: No timezone found, symbol may be delisted\n"
     ]
    },
    {
     "name": "stderr",
     "output_type": "stream",
     "text": [
      " 90%|███████████████████████████████████▏   | 3663/4063 [42:33<02:48,  2.38it/s]"
     ]
    },
    {
     "name": "stdout",
     "output_type": "stream",
     "text": [
      "Got error from yahoo api for ticker 092040.KS, Error: {'code': 'Not Found', 'description': 'No data found, symbol may be delisted'}\n",
      "- 092040.KS: No timezone found, symbol may be delisted\n"
     ]
    },
    {
     "name": "stderr",
     "output_type": "stream",
     "text": [
      " 90%|███████████████████████████████████▏   | 3669/4063 [42:36<02:47,  2.35it/s]"
     ]
    },
    {
     "name": "stdout",
     "output_type": "stream",
     "text": [
      "Got error from yahoo api for ticker 025980.KS, Error: {'code': 'Not Found', 'description': 'No data found, symbol may be delisted'}\n",
      "- 025980.KS: No timezone found, symbol may be delisted\n"
     ]
    },
    {
     "name": "stderr",
     "output_type": "stream",
     "text": [
      " 90%|███████████████████████████████████▏   | 3672/4063 [42:37<02:39,  2.45it/s]"
     ]
    },
    {
     "name": "stdout",
     "output_type": "stream",
     "text": [
      "Got error from yahoo api for ticker 041830.KS, Error: {'code': 'Not Found', 'description': 'No data found, symbol may be delisted'}\n",
      "- 041830.KS: No timezone found, symbol may be delisted\n"
     ]
    },
    {
     "name": "stderr",
     "output_type": "stream",
     "text": [
      " 91%|███████████████████████████████████▎   | 3680/4063 [42:41<02:41,  2.37it/s]"
     ]
    },
    {
     "name": "stdout",
     "output_type": "stream",
     "text": [
      "Got error from yahoo api for ticker 298540.KS, Error: {'code': 'Not Found', 'description': 'No data found, symbol may be delisted'}\n",
      "- 298540.KS: No timezone found, symbol may be delisted\n"
     ]
    },
    {
     "name": "stderr",
     "output_type": "stream",
     "text": [
      "\r",
      " 91%|███████████████████████████████████▎   | 3681/4063 [42:41<02:18,  2.77it/s]"
     ]
    },
    {
     "name": "stdout",
     "output_type": "stream",
     "text": [
      "Got error from yahoo api for ticker 268600.KS, Error: {'code': 'Not Found', 'description': 'No data found, symbol may be delisted'}\n",
      "- 268600.KS: No timezone found, symbol may be delisted\n"
     ]
    },
    {
     "name": "stderr",
     "output_type": "stream",
     "text": [
      "\r",
      " 91%|███████████████████████████████████▎   | 3682/4063 [42:41<02:01,  3.14it/s]"
     ]
    },
    {
     "name": "stdout",
     "output_type": "stream",
     "text": [
      "Got error from yahoo api for ticker 058820.KS, Error: {'code': 'Not Found', 'description': 'No data found, symbol may be delisted'}\n",
      "- 058820.KS: No timezone found, symbol may be delisted\n"
     ]
    },
    {
     "name": "stderr",
     "output_type": "stream",
     "text": [
      " 91%|███████████████████████████████████▍   | 3688/4063 [42:54<21:44,  3.48s/it]"
     ]
    },
    {
     "name": "stdout",
     "output_type": "stream",
     "text": [
      "8151.T: No data found for this date range, symbol may be delisted\n"
     ]
    },
    {
     "name": "stderr",
     "output_type": "stream",
     "text": [
      " 91%|███████████████████████████████████▍   | 3691/4063 [42:56<09:17,  1.50s/it]"
     ]
    },
    {
     "name": "stdout",
     "output_type": "stream",
     "text": [
      "Got error from yahoo api for ticker 080160.KS, Error: {'code': 'Not Found', 'description': 'No data found, symbol may be delisted'}\n",
      "- 080160.KS: No timezone found, symbol may be delisted\n"
     ]
    },
    {
     "name": "stderr",
     "output_type": "stream",
     "text": [
      "\r",
      " 91%|███████████████████████████████████▍   | 3692/4063 [42:56<07:00,  1.13s/it]"
     ]
    },
    {
     "name": "stdout",
     "output_type": "stream",
     "text": [
      "Got error from yahoo api for ticker 060720.KS, Error: {'code': 'Not Found', 'description': 'No data found, symbol may be delisted'}\n",
      "- 060720.KS: No timezone found, symbol may be delisted\n"
     ]
    },
    {
     "name": "stderr",
     "output_type": "stream",
     "text": [
      " 91%|███████████████████████████████████▍   | 3698/4063 [42:59<03:18,  1.84it/s]"
     ]
    },
    {
     "name": "stdout",
     "output_type": "stream",
     "text": [
      "Got error from yahoo api for ticker 140410.KS, Error: {'code': 'Not Found', 'description': 'No data found, symbol may be delisted'}\n",
      "- 140410.KS: No timezone found, symbol may be delisted\n"
     ]
    },
    {
     "name": "stderr",
     "output_type": "stream",
     "text": [
      " 91%|███████████████████████████████████▌   | 3704/4063 [43:02<02:29,  2.40it/s]"
     ]
    },
    {
     "name": "stdout",
     "output_type": "stream",
     "text": [
      "Got error from yahoo api for ticker 039840.KS, Error: {'code': 'Not Found', 'description': 'No data found, symbol may be delisted'}\n",
      "- 039840.KS: No timezone found, symbol may be delisted\n"
     ]
    },
    {
     "name": "stderr",
     "output_type": "stream",
     "text": [
      " 91%|███████████████████████████████████▌   | 3706/4063 [43:03<02:16,  2.61it/s]"
     ]
    },
    {
     "name": "stdout",
     "output_type": "stream",
     "text": [
      "Got error from yahoo api for ticker 060250.KS, Error: {'code': 'Not Found', 'description': 'No data found, symbol may be delisted'}\n",
      "- 060250.KS: No timezone found, symbol may be delisted\n"
     ]
    },
    {
     "name": "stderr",
     "output_type": "stream",
     "text": [
      " 91%|███████████████████████████████████▌   | 3711/4063 [43:05<02:24,  2.44it/s]"
     ]
    },
    {
     "name": "stdout",
     "output_type": "stream",
     "text": [
      "Got error from yahoo api for ticker 235980.KS, Error: {'code': 'Not Found', 'description': 'No data found, symbol may be delisted'}\n",
      "- 235980.KS: No timezone found, symbol may be delisted\n"
     ]
    },
    {
     "name": "stderr",
     "output_type": "stream",
     "text": [
      " 91%|███████████████████████████████████▋   | 3715/4063 [43:07<02:27,  2.36it/s]"
     ]
    },
    {
     "name": "stdout",
     "output_type": "stream",
     "text": [
      "Got error from yahoo api for ticker 048530.KS, Error: {'code': 'Not Found', 'description': 'No data found, symbol may be delisted'}\n",
      "- 048530.KS: No timezone found, symbol may be delisted\n"
     ]
    },
    {
     "name": "stderr",
     "output_type": "stream",
     "text": [
      " 91%|███████████████████████████████████▋   | 3717/4063 [43:08<02:18,  2.50it/s]"
     ]
    },
    {
     "name": "stdout",
     "output_type": "stream",
     "text": [
      "Got error from yahoo api for ticker 064260.KS, Error: {'code': 'Not Found', 'description': 'No data found, symbol may be delisted'}\n",
      "- 064260.KS: No timezone found, symbol may be delisted\n"
     ]
    },
    {
     "name": "stderr",
     "output_type": "stream",
     "text": [
      " 92%|███████████████████████████████████▊   | 3725/4063 [43:12<02:25,  2.32it/s]"
     ]
    },
    {
     "name": "stdout",
     "output_type": "stream",
     "text": [
      "Got error from yahoo api for ticker 095610.KS, Error: {'code': 'Not Found', 'description': 'No data found, symbol may be delisted'}\n",
      "- 095610.KS: No timezone found, symbol may be delisted\n"
     ]
    },
    {
     "name": "stderr",
     "output_type": "stream",
     "text": [
      " 92%|███████████████████████████████████▊   | 3732/4063 [43:15<02:25,  2.28it/s]"
     ]
    },
    {
     "name": "stdout",
     "output_type": "stream",
     "text": [
      "Got error from yahoo api for ticker 206650.KS, Error: {'code': 'Not Found', 'description': 'No data found, symbol may be delisted'}\n",
      "- 206650.KS: No timezone found, symbol may be delisted\n"
     ]
    },
    {
     "name": "stderr",
     "output_type": "stream",
     "text": [
      " 92%|███████████████████████████████████▉   | 3738/4063 [43:18<02:21,  2.30it/s]"
     ]
    },
    {
     "name": "stdout",
     "output_type": "stream",
     "text": [
      "Got error from yahoo api for ticker 023160.KS, Error: {'code': 'Not Found', 'description': 'No data found, symbol may be delisted'}\n",
      "- 023160.KS: No timezone found, symbol may be delisted\n"
     ]
    },
    {
     "name": "stderr",
     "output_type": "stream",
     "text": [
      " 92%|███████████████████████████████████▉   | 3741/4063 [43:20<02:07,  2.52it/s]"
     ]
    },
    {
     "name": "stdout",
     "output_type": "stream",
     "text": [
      "Got error from yahoo api for ticker 041960.KS, Error: {'code': 'Not Found', 'description': 'No data found, symbol may be delisted'}\n",
      "- 041960.KS: No timezone found, symbol may be delisted\n"
     ]
    },
    {
     "name": "stderr",
     "output_type": "stream",
     "text": [
      " 92%|████████████████████████████████████   | 3752/4063 [43:25<02:11,  2.37it/s]"
     ]
    },
    {
     "name": "stdout",
     "output_type": "stream",
     "text": [
      "Got error from yahoo api for ticker 078160.KS, Error: {'code': 'Not Found', 'description': 'No data found, symbol may be delisted'}\n",
      "- 078160.KS: No timezone found, symbol may be delisted\n"
     ]
    },
    {
     "name": "stderr",
     "output_type": "stream",
     "text": [
      " 92%|████████████████████████████████████   | 3755/4063 [43:26<01:55,  2.66it/s]"
     ]
    },
    {
     "name": "stdout",
     "output_type": "stream",
     "text": [
      "Got error from yahoo api for ticker 174900.KS, Error: {'code': 'Not Found', 'description': 'No data found, symbol may be delisted'}\n",
      "- 174900.KS: No timezone found, symbol may be delisted\n"
     ]
    },
    {
     "name": "stderr",
     "output_type": "stream",
     "text": [
      " 92%|████████████████████████████████████   | 3758/4063 [43:28<01:57,  2.59it/s]"
     ]
    },
    {
     "name": "stdout",
     "output_type": "stream",
     "text": [
      "Got error from yahoo api for ticker 014620.KS, Error: {'code': 'Not Found', 'description': 'No data found, symbol may be delisted'}\n",
      "- 014620.KS: No timezone found, symbol may be delisted\n"
     ]
    },
    {
     "name": "stderr",
     "output_type": "stream",
     "text": [
      " 93%|████████████████████████████████████   | 3763/4063 [43:30<02:03,  2.42it/s]"
     ]
    },
    {
     "name": "stdout",
     "output_type": "stream",
     "text": [
      "Got error from yahoo api for ticker 053030.KS, Error: {'code': 'Not Found', 'description': 'No data found, symbol may be delisted'}\n",
      "- 053030.KS: No timezone found, symbol may be delisted\n"
     ]
    },
    {
     "name": "stderr",
     "output_type": "stream",
     "text": [
      "\r",
      " 93%|████████████████████████████████████▏  | 3764/4063 [43:30<01:46,  2.80it/s]"
     ]
    },
    {
     "name": "stdout",
     "output_type": "stream",
     "text": [
      "Got error from yahoo api for ticker 063080.KS, Error: {'code': 'Not Found', 'description': 'No data found, symbol may be delisted'}\n",
      "- 063080.KS: No timezone found, symbol may be delisted\n"
     ]
    },
    {
     "name": "stderr",
     "output_type": "stream",
     "text": [
      " 93%|████████████████████████████████████▏  | 3766/4063 [43:31<01:43,  2.86it/s]"
     ]
    },
    {
     "name": "stdout",
     "output_type": "stream",
     "text": [
      "Got error from yahoo api for ticker 226950.KS, Error: {'code': 'Not Found', 'description': 'No data found, symbol may be delisted'}\n",
      "- 226950.KS: No timezone found, symbol may be delisted\n"
     ]
    },
    {
     "name": "stderr",
     "output_type": "stream",
     "text": [
      " 93%|████████████████████████████████████▎  | 3777/4063 [43:37<02:11,  2.18it/s]"
     ]
    },
    {
     "name": "stdout",
     "output_type": "stream",
     "text": [
      "Got error from yahoo api for ticker 036830.KS, Error: {'code': 'Not Found', 'description': 'No data found, symbol may be delisted'}\n",
      "- 036830.KS: No timezone found, symbol may be delisted\n"
     ]
    },
    {
     "name": "stderr",
     "output_type": "stream",
     "text": [
      " 93%|████████████████████████████████████▎  | 3780/4063 [43:38<02:05,  2.26it/s]"
     ]
    },
    {
     "name": "stdout",
     "output_type": "stream",
     "text": [
      "Got error from yahoo api for ticker 083790.KS, Error: {'code': 'Not Found', 'description': 'No data found, symbol may be delisted'}\n",
      "- 083790.KS: No timezone found, symbol may be delisted\n"
     ]
    },
    {
     "name": "stderr",
     "output_type": "stream",
     "text": [
      " 93%|████████████████████████████████████▎  | 3782/4063 [43:39<01:56,  2.42it/s]"
     ]
    },
    {
     "name": "stdout",
     "output_type": "stream",
     "text": [
      "Got error from yahoo api for ticker 038540.KS, Error: {'code': 'Not Found', 'description': 'No data found, symbol may be delisted'}\n",
      "- 038540.KS: No timezone found, symbol may be delisted\n"
     ]
    },
    {
     "name": "stderr",
     "output_type": "stream",
     "text": [
      " 93%|████████████████████████████████████▎  | 3787/4063 [43:41<01:55,  2.39it/s]"
     ]
    },
    {
     "name": "stdout",
     "output_type": "stream",
     "text": [
      "Got error from yahoo api for ticker 086390.KS, Error: {'code': 'Not Found', 'description': 'No data found, symbol may be delisted'}\n",
      "- 086390.KS: No timezone found, symbol may be delisted\n"
     ]
    },
    {
     "name": "stderr",
     "output_type": "stream",
     "text": [
      "\r",
      " 93%|████████████████████████████████████▎  | 3788/4063 [43:42<01:40,  2.74it/s]"
     ]
    },
    {
     "name": "stdout",
     "output_type": "stream",
     "text": [
      "Got error from yahoo api for ticker 006730.KS, Error: {'code': 'Not Found', 'description': 'No data found, symbol may be delisted'}\n",
      "- 006730.KS: No timezone found, symbol may be delisted\n"
     ]
    },
    {
     "name": "stderr",
     "output_type": "stream",
     "text": [
      " 94%|████████████████████████████████████▌  | 3804/4063 [43:50<01:52,  2.30it/s]"
     ]
    },
    {
     "name": "stdout",
     "output_type": "stream",
     "text": [
      "Got error from yahoo api for ticker 289220.KS, Error: {'code': 'Not Found', 'description': 'No data found, symbol may be delisted'}\n",
      "- 289220.KS: No timezone found, symbol may be delisted\n"
     ]
    },
    {
     "name": "stderr",
     "output_type": "stream",
     "text": [
      "\r",
      " 94%|████████████████████████████████████▌  | 3805/4063 [43:51<01:36,  2.67it/s]"
     ]
    },
    {
     "name": "stdout",
     "output_type": "stream",
     "text": [
      "Got error from yahoo api for ticker 088800.KS, Error: {'code': 'Not Found', 'description': 'No data found, symbol may be delisted'}\n",
      "- 088800.KS: No timezone found, symbol may be delisted\n"
     ]
    },
    {
     "name": "stderr",
     "output_type": "stream",
     "text": [
      "\r",
      " 94%|████████████████████████████████████▌  | 3806/4063 [43:51<01:24,  3.04it/s]"
     ]
    },
    {
     "name": "stdout",
     "output_type": "stream",
     "text": [
      "Got error from yahoo api for ticker 045390.KS, Error: {'code': 'Not Found', 'description': 'No data found, symbol may be delisted'}\n",
      "- 045390.KS: No timezone found, symbol may be delisted\n"
     ]
    },
    {
     "name": "stderr",
     "output_type": "stream",
     "text": [
      " 94%|████████████████████████████████████▌  | 3808/4063 [43:52<01:31,  2.77it/s]"
     ]
    },
    {
     "name": "stdout",
     "output_type": "stream",
     "text": [
      "Got error from yahoo api for ticker 256840.KS, Error: {'code': 'Not Found', 'description': 'No data found, symbol may be delisted'}\n",
      "- 256840.KS: No timezone found, symbol may be delisted\n"
     ]
    },
    {
     "name": "stderr",
     "output_type": "stream",
     "text": [
      " 94%|████████████████████████████████████▌  | 3811/4063 [43:53<01:41,  2.49it/s]"
     ]
    },
    {
     "name": "stdout",
     "output_type": "stream",
     "text": [
      "Got error from yahoo api for ticker 100120.KS, Error: {'code': 'Not Found', 'description': 'No data found, symbol may be delisted'}\n",
      "- 100120.KS: No timezone found, symbol may be delisted\n"
     ]
    },
    {
     "name": "stderr",
     "output_type": "stream",
     "text": [
      " 94%|████████████████████████████████████▋  | 3818/4063 [43:56<01:42,  2.39it/s]"
     ]
    },
    {
     "name": "stdout",
     "output_type": "stream",
     "text": [
      "Got error from yahoo api for ticker 035080.KS, Error: {'code': 'Not Found', 'description': 'No data found, symbol may be delisted'}\n",
      "- 035080.KS: No timezone found, symbol may be delisted\n"
     ]
    },
    {
     "name": "stderr",
     "output_type": "stream",
     "text": [
      " 94%|████████████████████████████████████▋  | 3826/4063 [44:00<01:33,  2.53it/s]"
     ]
    },
    {
     "name": "stdout",
     "output_type": "stream",
     "text": [
      "Got error from yahoo api for ticker 243070.KS, Error: {'code': 'Not Found', 'description': 'No data found, symbol may be delisted'}\n",
      "- 243070.KS: No timezone found, symbol may be delisted\n"
     ]
    },
    {
     "name": "stderr",
     "output_type": "stream",
     "text": [
      " 94%|████████████████████████████████████▊  | 3833/4063 [44:05<01:58,  1.93it/s]"
     ]
    },
    {
     "name": "stdout",
     "output_type": "stream",
     "text": [
      "Got error from yahoo api for ticker 084850.KS, Error: {'code': 'Not Found', 'description': 'No data found, symbol may be delisted'}\n",
      "- 084850.KS: No timezone found, symbol may be delisted\n"
     ]
    },
    {
     "name": "stderr",
     "output_type": "stream",
     "text": [
      " 95%|████████████████████████████████████▉  | 3842/4063 [44:10<02:31,  1.46it/s]"
     ]
    },
    {
     "name": "stdout",
     "output_type": "stream",
     "text": [
      "Got error from yahoo api for ticker 102710.KS, Error: {'code': 'Not Found', 'description': 'No data found, symbol may be delisted'}\n",
      "- 102710.KS: No timezone found, symbol may be delisted\n"
     ]
    },
    {
     "name": "stderr",
     "output_type": "stream",
     "text": [
      "\r",
      " 95%|████████████████████████████████████▉  | 3843/4063 [44:11<02:01,  1.81it/s]"
     ]
    },
    {
     "name": "stdout",
     "output_type": "stream",
     "text": [
      "Got error from yahoo api for ticker 108230.KS, Error: {'code': 'Not Found', 'description': 'No data found, symbol may be delisted'}\n",
      "- 108230.KS: No timezone found, symbol may be delisted\n"
     ]
    },
    {
     "name": "stderr",
     "output_type": "stream",
     "text": [
      " 95%|█████████████████████████████████████  | 3855/4063 [44:17<01:43,  2.00it/s]"
     ]
    },
    {
     "name": "stdout",
     "output_type": "stream",
     "text": [
      "Got error from yahoo api for ticker 030530.KS, Error: {'code': 'Not Found', 'description': 'No data found, symbol may be delisted'}\n",
      "- 030530.KS: No timezone found, symbol may be delisted\n"
     ]
    },
    {
     "name": "stderr",
     "output_type": "stream",
     "text": [
      " 95%|█████████████████████████████████████  | 3864/4063 [44:23<01:37,  2.04it/s]"
     ]
    },
    {
     "name": "stdout",
     "output_type": "stream",
     "text": [
      "Got error from yahoo api for ticker 138080.KS, Error: {'code': 'Not Found', 'description': 'No data found, symbol may be delisted'}\n",
      "- 138080.KS: No timezone found, symbol may be delisted\n"
     ]
    },
    {
     "name": "stderr",
     "output_type": "stream",
     "text": [
      " 95%|█████████████████████████████████████▏ | 3875/4063 [44:29<01:19,  2.36it/s]"
     ]
    },
    {
     "name": "stdout",
     "output_type": "stream",
     "text": [
      "Got error from yahoo api for ticker 267980.KS, Error: {'code': 'Not Found', 'description': 'No data found, symbol may be delisted'}\n",
      "- 267980.KS: No timezone found, symbol may be delisted\n"
     ]
    },
    {
     "name": "stderr",
     "output_type": "stream",
     "text": [
      " 95%|█████████████████████████████████████▏ | 3879/4063 [44:30<01:18,  2.33it/s]"
     ]
    },
    {
     "name": "stdout",
     "output_type": "stream",
     "text": [
      "Got error from yahoo api for ticker 051500.KS, Error: {'code': 'Not Found', 'description': 'No data found, symbol may be delisted'}\n",
      "- 051500.KS: No timezone found, symbol may be delisted\n"
     ]
    },
    {
     "name": "stderr",
     "output_type": "stream",
     "text": [
      " 96%|█████████████████████████████████████▎ | 3881/4063 [44:31<01:12,  2.52it/s]"
     ]
    },
    {
     "name": "stdout",
     "output_type": "stream",
     "text": [
      "Got error from yahoo api for ticker 200670.KS, Error: {'code': 'Not Found', 'description': 'No data found, symbol may be delisted'}\n",
      "- 200670.KS: No timezone found, symbol may be delisted\n"
     ]
    },
    {
     "name": "stderr",
     "output_type": "stream",
     "text": [
      " 96%|█████████████████████████████████████▎ | 3886/4063 [44:34<01:13,  2.41it/s]"
     ]
    },
    {
     "name": "stdout",
     "output_type": "stream",
     "text": [
      "Got error from yahoo api for ticker 052260.KS, Error: {'code': 'Not Found', 'description': 'No data found, symbol may be delisted'}\n",
      "- 052260.KS: No timezone found, symbol may be delisted\n"
     ]
    },
    {
     "name": "stderr",
     "output_type": "stream",
     "text": [
      " 96%|█████████████████████████████████████▎ | 3893/4063 [44:37<01:14,  2.29it/s]"
     ]
    },
    {
     "name": "stdout",
     "output_type": "stream",
     "text": [
      "Got error from yahoo api for ticker 064240.KS, Error: {'code': 'Not Found', 'description': 'No data found, symbol may be delisted'}\n",
      "- 064240.KS: No timezone found, symbol may be delisted\n"
     ]
    },
    {
     "name": "stderr",
     "output_type": "stream",
     "text": [
      " 96%|█████████████████████████████████████▍ | 3902/4063 [44:42<01:13,  2.20it/s]"
     ]
    },
    {
     "name": "stdout",
     "output_type": "stream",
     "text": [
      "Got error from yahoo api for ticker 087010.KS, Error: {'code': 'Not Found', 'description': 'No data found, symbol may be delisted'}\n",
      "- 087010.KS: No timezone found, symbol may be delisted\n"
     ]
    },
    {
     "name": "stderr",
     "output_type": "stream",
     "text": [
      " 96%|█████████████████████████████████████▌ | 3917/4063 [44:49<01:04,  2.26it/s]"
     ]
    },
    {
     "name": "stdout",
     "output_type": "stream",
     "text": [
      "Got error from yahoo api for ticker 040910.KS, Error: {'code': 'Not Found', 'description': 'No data found, symbol may be delisted'}\n",
      "- 040910.KS: No timezone found, symbol may be delisted\n"
     ]
    },
    {
     "name": "stderr",
     "output_type": "stream",
     "text": [
      " 97%|█████████████████████████████████████▋ | 3921/4063 [44:51<00:58,  2.43it/s]"
     ]
    },
    {
     "name": "stdout",
     "output_type": "stream",
     "text": [
      "Got error from yahoo api for ticker 042000.KS, Error: {'code': 'Not Found', 'description': 'No data found, symbol may be delisted'}\n",
      "- 042000.KS: No timezone found, symbol may be delisted\n"
     ]
    },
    {
     "name": "stderr",
     "output_type": "stream",
     "text": [
      " 97%|█████████████████████████████████████▋ | 3923/4063 [44:52<00:50,  2.77it/s]"
     ]
    },
    {
     "name": "stdout",
     "output_type": "stream",
     "text": [
      "Got error from yahoo api for ticker 200230.KS, Error: {'code': 'Not Found', 'description': 'No data found, symbol may be delisted'}\n",
      "- 200230.KS: No timezone found, symbol may be delisted\n"
     ]
    },
    {
     "name": "stderr",
     "output_type": "stream",
     "text": [
      " 97%|█████████████████████████████████████▉ | 3951/4063 [45:07<00:54,  2.07it/s]"
     ]
    },
    {
     "name": "stdout",
     "output_type": "stream",
     "text": [
      "Got error from yahoo api for ticker 263050.KS, Error: {'code': 'Not Found', 'description': 'No data found, symbol may be delisted'}\n",
      "- 263050.KS: No timezone found, symbol may be delisted\n"
     ]
    },
    {
     "name": "stderr",
     "output_type": "stream",
     "text": [
      " 98%|██████████████████████████████████████▏| 3975/4063 [45:21<00:41,  2.11it/s]"
     ]
    },
    {
     "name": "stdout",
     "output_type": "stream",
     "text": [
      "Got error from yahoo api for ticker 051370.KS, Error: {'code': 'Not Found', 'description': 'No data found, symbol may be delisted'}\n",
      "- 051370.KS: No timezone found, symbol may be delisted\n"
     ]
    },
    {
     "name": "stderr",
     "output_type": "stream",
     "text": [
      " 98%|██████████████████████████████████████▏| 3980/4063 [45:27<01:42,  1.23s/it]"
     ]
    },
    {
     "name": "stdout",
     "output_type": "stream",
     "text": [
      "Got error from yahoo api for ticker 084110.KS, Error: {'code': 'Not Found', 'description': 'No data found, symbol may be delisted'}\n",
      "- 084110.KS: No timezone found, symbol may be delisted\n"
     ]
    },
    {
     "name": "stderr",
     "output_type": "stream",
     "text": [
      " 98%|██████████████████████████████████████▎| 3987/4063 [45:42<02:16,  1.79s/it]"
     ]
    },
    {
     "name": "stdout",
     "output_type": "stream",
     "text": [
      "Got error from yahoo api for ticker 065660.KS, Error: {'code': 'Not Found', 'description': 'No data found, symbol may be delisted'}\n",
      "- 065660.KS: No timezone found, symbol may be delisted\n"
     ]
    },
    {
     "name": "stderr",
     "output_type": "stream",
     "text": [
      " 98%|██████████████████████████████████████▎| 3996/4063 [46:00<01:49,  1.63s/it]"
     ]
    },
    {
     "name": "stdout",
     "output_type": "stream",
     "text": [
      "Got error from yahoo api for ticker 078130.KS, Error: {'code': 'Not Found', 'description': 'No data found, symbol may be delisted'}\n",
      "- 078130.KS: No timezone found, symbol may be delisted\n"
     ]
    },
    {
     "name": "stderr",
     "output_type": "stream",
     "text": [
      " 99%|██████████████████████████████████████▍| 4010/4063 [46:32<01:34,  1.79s/it]"
     ]
    },
    {
     "name": "stdout",
     "output_type": "stream",
     "text": [
      "Got error from yahoo api for ticker 299660.KS, Error: {'code': 'Not Found', 'description': 'No data found, symbol may be delisted'}\n",
      "- 299660.KS: No timezone found, symbol may be delisted\n"
     ]
    },
    {
     "name": "stderr",
     "output_type": "stream",
     "text": [
      " 99%|██████████████████████████████████████▌| 4023/4063 [47:02<01:15,  1.88s/it]"
     ]
    },
    {
     "name": "stdout",
     "output_type": "stream",
     "text": [
      "Got error from yahoo api for ticker 040350.KS, Error: {'code': 'Not Found', 'description': 'No data found, symbol may be delisted'}\n",
      "- 040350.KS: No timezone found, symbol may be delisted\n"
     ]
    },
    {
     "name": "stderr",
     "output_type": "stream",
     "text": [
      " 99%|██████████████████████████████████████▋| 4034/4063 [47:19<00:21,  1.32it/s]"
     ]
    },
    {
     "name": "stdout",
     "output_type": "stream",
     "text": [
      "Got error from yahoo api for ticker 2662.HK, Error: {'code': 'Not Found', 'description': 'No data found, symbol may be delisted'}\n",
      "- 2662.HK: No timezone found, symbol may be delisted\n"
     ]
    },
    {
     "name": "stderr",
     "output_type": "stream",
     "text": [
      "\r",
      " 99%|██████████████████████████████████████▋| 4035/4063 [47:20<00:16,  1.69it/s]"
     ]
    },
    {
     "name": "stdout",
     "output_type": "stream",
     "text": [
      "Got error from yahoo api for ticker 2040111D.AX, Error: {'code': 'Not Found', 'description': 'No data found, symbol may be delisted'}\n",
      "- 2040111D.AX: No timezone found, symbol may be delisted\n"
     ]
    },
    {
     "name": "stderr",
     "output_type": "stream",
     "text": [
      "\r",
      " 99%|██████████████████████████████████████▋| 4036/4063 [47:20<00:14,  1.83it/s]"
     ]
    },
    {
     "name": "stdout",
     "output_type": "stream",
     "text": [
      "0111701C.KS: Period '1mo' is invalid, must be one of ['1d', '5d']\n"
     ]
    },
    {
     "name": "stderr",
     "output_type": "stream",
     "text": [
      " 99%|██████████████████████████████████████▊| 4039/4063 [47:22<00:12,  1.97it/s]"
     ]
    },
    {
     "name": "stdout",
     "output_type": "stream",
     "text": [
      "1019.HK: No data found for this date range, symbol may be delisted\n"
     ]
    },
    {
     "name": "stderr",
     "output_type": "stream",
     "text": [
      "\r",
      " 99%|██████████████████████████████████████▊| 4040/4063 [47:22<00:09,  2.34it/s]"
     ]
    },
    {
     "name": "stdout",
     "output_type": "stream",
     "text": [
      "Got error from yahoo api for ticker MMMAM.AX, Error: {'code': 'Not Found', 'description': 'No data found, symbol may be delisted'}\n",
      "- MMMAM.AX: No timezone found, symbol may be delisted\n"
     ]
    },
    {
     "name": "stderr",
     "output_type": "stream",
     "text": [
      "\r",
      " 99%|██████████████████████████████████████▊| 4041/4063 [47:22<00:07,  2.76it/s]"
     ]
    },
    {
     "name": "stdout",
     "output_type": "stream",
     "text": [
      "Got error from yahoo api for ticker 0957001C.KS, Error: {'code': 'Not Found', 'description': 'No data found, symbol may be delisted'}\n",
      "- 0957001C.KS: No timezone found, symbol may be delisted\n"
     ]
    },
    {
     "name": "stderr",
     "output_type": "stream",
     "text": [
      "100%|███████████████████████████████████████| 4063/4063 [47:33<00:00,  1.42it/s]\n"
     ]
    }
   ],
   "source": [
    "for ticker in tqdm(underlying_tickers):\n",
    "  stock_histories[ticker] = yf.Ticker(ticker).history(\n",
    "      start=start_date.strftime('%Y-%m-%d'),\n",
    "      end=end_date.strftime('%Y-%m-%d')\n",
    "  )"
   ]
  },
  {
   "cell_type": "code",
   "execution_count": 45,
   "id": "868572f9",
   "metadata": {},
   "outputs": [
    {
     "name": "stderr",
     "output_type": "stream",
     "text": [
      "100%|██████████████████████████████████████| 4063/4063 [00:25<00:00, 161.54it/s]\n"
     ]
    }
   ],
   "source": [
    "# store prices on disk for easier retrieval later\n",
    "folder = '/Users/waleedzafar/Dropbox/WQU/Capstone/Week 7/Prices'\n",
    "for ticker in tqdm(underlying_tickers):\n",
    "    df = stock_histories[ticker]\n",
    "    if isinstance(df, pd.DataFrame) and not df.empty:\n",
    "        df.to_csv(f'{folder}/{ticker}.csv')"
   ]
  },
  {
   "cell_type": "code",
   "execution_count": 46,
   "id": "a6d6ae35",
   "metadata": {},
   "outputs": [
    {
     "data": {
      "text/html": [
       "<div>\n",
       "<style scoped>\n",
       "    .dataframe tbody tr th:only-of-type {\n",
       "        vertical-align: middle;\n",
       "    }\n",
       "\n",
       "    .dataframe tbody tr th {\n",
       "        vertical-align: top;\n",
       "    }\n",
       "\n",
       "    .dataframe thead th {\n",
       "        text-align: right;\n",
       "    }\n",
       "</style>\n",
       "<table border=\"1\" class=\"dataframe\">\n",
       "  <thead>\n",
       "    <tr style=\"text-align: right;\">\n",
       "      <th></th>\n",
       "      <th>0700.HK</th>\n",
       "      <th>BABA</th>\n",
       "      <th>3690.HK</th>\n",
       "      <th>0939.HK</th>\n",
       "      <th>PDD</th>\n",
       "      <th>2318.HK</th>\n",
       "      <th>JD</th>\n",
       "      <th>BIDU</th>\n",
       "      <th>1398.HK</th>\n",
       "      <th>NTES</th>\n",
       "      <th>...</th>\n",
       "      <th>688561.SS</th>\n",
       "      <th>688169.SS</th>\n",
       "      <th>688303.SS</th>\n",
       "      <th>603195.SS</th>\n",
       "      <th>600606.SS</th>\n",
       "      <th>688065.SS</th>\n",
       "      <th>605499.SS</th>\n",
       "      <th>601236.SS</th>\n",
       "      <th>300979.SZ</th>\n",
       "      <th>001289.SZ</th>\n",
       "    </tr>\n",
       "  </thead>\n",
       "  <tbody>\n",
       "    <tr>\n",
       "      <th>2022-03-09 00:00:00</th>\n",
       "      <td>382.998688</td>\n",
       "      <td>100.930000</td>\n",
       "      <td>148.500000</td>\n",
       "      <td>5.106776</td>\n",
       "      <td>43.340000</td>\n",
       "      <td>50.223202</td>\n",
       "      <td>60.864376</td>\n",
       "      <td>144.229996</td>\n",
       "      <td>4.177830</td>\n",
       "      <td>86.721725</td>\n",
       "      <td>...</td>\n",
       "      <td>60.349998</td>\n",
       "      <td>377.489716</td>\n",
       "      <td>59.258842</td>\n",
       "      <td>132.763718</td>\n",
       "      <td>3.700000</td>\n",
       "      <td>79.672607</td>\n",
       "      <td>153.797195</td>\n",
       "      <td>8.914510</td>\n",
       "      <td>73.694801</td>\n",
       "      <td>29.837063</td>\n",
       "    </tr>\n",
       "    <tr>\n",
       "      <th>2022-03-10 00:00:00</th>\n",
       "      <td>383.197784</td>\n",
       "      <td>92.919998</td>\n",
       "      <td>144.199997</td>\n",
       "      <td>5.199290</td>\n",
       "      <td>35.759998</td>\n",
       "      <td>51.823566</td>\n",
       "      <td>51.227516</td>\n",
       "      <td>135.160004</td>\n",
       "      <td>4.233411</td>\n",
       "      <td>80.382950</td>\n",
       "      <td>...</td>\n",
       "      <td>62.200001</td>\n",
       "      <td>373.242126</td>\n",
       "      <td>62.120773</td>\n",
       "      <td>133.245514</td>\n",
       "      <td>3.709090</td>\n",
       "      <td>78.430054</td>\n",
       "      <td>155.834518</td>\n",
       "      <td>8.845251</td>\n",
       "      <td>71.989906</td>\n",
       "      <td>29.409824</td>\n",
       "    </tr>\n",
       "    <tr>\n",
       "      <th>2022-03-11 00:00:00</th>\n",
       "      <td>366.078278</td>\n",
       "      <td>86.709999</td>\n",
       "      <td>135.399994</td>\n",
       "      <td>5.199290</td>\n",
       "      <td>32.130001</td>\n",
       "      <td>51.635288</td>\n",
       "      <td>46.808998</td>\n",
       "      <td>118.919998</td>\n",
       "      <td>4.242674</td>\n",
       "      <td>77.786453</td>\n",
       "      <td>...</td>\n",
       "      <td>63.529999</td>\n",
       "      <td>366.934631</td>\n",
       "      <td>62.665432</td>\n",
       "      <td>134.858109</td>\n",
       "      <td>3.709090</td>\n",
       "      <td>79.715202</td>\n",
       "      <td>154.519165</td>\n",
       "      <td>9.191542</td>\n",
       "      <td>70.166748</td>\n",
       "      <td>28.167856</td>\n",
       "    </tr>\n",
       "    <tr>\n",
       "      <th>2022-03-14 00:00:00</th>\n",
       "      <td>330.246796</td>\n",
       "      <td>77.760002</td>\n",
       "      <td>112.599998</td>\n",
       "      <td>5.208542</td>\n",
       "      <td>25.530001</td>\n",
       "      <td>49.940784</td>\n",
       "      <td>41.883270</td>\n",
       "      <td>108.970001</td>\n",
       "      <td>4.261201</td>\n",
       "      <td>70.351059</td>\n",
       "      <td>...</td>\n",
       "      <td>60.480000</td>\n",
       "      <td>361.337463</td>\n",
       "      <td>58.209137</td>\n",
       "      <td>133.432343</td>\n",
       "      <td>3.618181</td>\n",
       "      <td>77.173294</td>\n",
       "      <td>145.479843</td>\n",
       "      <td>9.033237</td>\n",
       "      <td>66.520447</td>\n",
       "      <td>27.790297</td>\n",
       "    </tr>\n",
       "    <tr>\n",
       "      <th>2022-03-15 00:00:00</th>\n",
       "      <td>296.605042</td>\n",
       "      <td>76.760002</td>\n",
       "      <td>106.000000</td>\n",
       "      <td>5.079022</td>\n",
       "      <td>27.309999</td>\n",
       "      <td>43.633469</td>\n",
       "      <td>44.848461</td>\n",
       "      <td>108.379997</td>\n",
       "      <td>4.103722</td>\n",
       "      <td>73.016388</td>\n",
       "      <td>...</td>\n",
       "      <td>57.040001</td>\n",
       "      <td>343.352631</td>\n",
       "      <td>57.020794</td>\n",
       "      <td>125.890518</td>\n",
       "      <td>3.372727</td>\n",
       "      <td>73.360428</td>\n",
       "      <td>140.979950</td>\n",
       "      <td>8.855145</td>\n",
       "      <td>62.755882</td>\n",
       "      <td>25.832954</td>\n",
       "    </tr>\n",
       "  </tbody>\n",
       "</table>\n",
       "<p>5 rows × 4063 columns</p>\n",
       "</div>"
      ],
      "text/plain": [
       "                        0700.HK        BABA     3690.HK   0939.HK        PDD  \\\n",
       "2022-03-09 00:00:00  382.998688  100.930000  148.500000  5.106776  43.340000   \n",
       "2022-03-10 00:00:00  383.197784   92.919998  144.199997  5.199290  35.759998   \n",
       "2022-03-11 00:00:00  366.078278   86.709999  135.399994  5.199290  32.130001   \n",
       "2022-03-14 00:00:00  330.246796   77.760002  112.599998  5.208542  25.530001   \n",
       "2022-03-15 00:00:00  296.605042   76.760002  106.000000  5.079022  27.309999   \n",
       "\n",
       "                       2318.HK         JD        BIDU   1398.HK       NTES  \\\n",
       "2022-03-09 00:00:00  50.223202  60.864376  144.229996  4.177830  86.721725   \n",
       "2022-03-10 00:00:00  51.823566  51.227516  135.160004  4.233411  80.382950   \n",
       "2022-03-11 00:00:00  51.635288  46.808998  118.919998  4.242674  77.786453   \n",
       "2022-03-14 00:00:00  49.940784  41.883270  108.970001  4.261201  70.351059   \n",
       "2022-03-15 00:00:00  43.633469  44.848461  108.379997  4.103722  73.016388   \n",
       "\n",
       "                     ...  688561.SS   688169.SS  688303.SS   603195.SS  \\\n",
       "2022-03-09 00:00:00  ...  60.349998  377.489716  59.258842  132.763718   \n",
       "2022-03-10 00:00:00  ...  62.200001  373.242126  62.120773  133.245514   \n",
       "2022-03-11 00:00:00  ...  63.529999  366.934631  62.665432  134.858109   \n",
       "2022-03-14 00:00:00  ...  60.480000  361.337463  58.209137  133.432343   \n",
       "2022-03-15 00:00:00  ...  57.040001  343.352631  57.020794  125.890518   \n",
       "\n",
       "                     600606.SS  688065.SS   605499.SS  601236.SS  300979.SZ  \\\n",
       "2022-03-09 00:00:00   3.700000  79.672607  153.797195   8.914510  73.694801   \n",
       "2022-03-10 00:00:00   3.709090  78.430054  155.834518   8.845251  71.989906   \n",
       "2022-03-11 00:00:00   3.709090  79.715202  154.519165   9.191542  70.166748   \n",
       "2022-03-14 00:00:00   3.618181  77.173294  145.479843   9.033237  66.520447   \n",
       "2022-03-15 00:00:00   3.372727  73.360428  140.979950   8.855145  62.755882   \n",
       "\n",
       "                     001289.SZ  \n",
       "2022-03-09 00:00:00  29.837063  \n",
       "2022-03-10 00:00:00  29.409824  \n",
       "2022-03-11 00:00:00  28.167856  \n",
       "2022-03-14 00:00:00  27.790297  \n",
       "2022-03-15 00:00:00  25.832954  \n",
       "\n",
       "[5 rows x 4063 columns]"
      ]
     },
     "execution_count": 46,
     "metadata": {},
     "output_type": "execute_result"
    }
   ],
   "source": [
    "df_underlying_close = pd.DataFrame()\n",
    "for ticker in underlying_tickers:\n",
    "  df = stock_histories[ticker]['Close']\n",
    "  try:\n",
    "    df.index = df.index.tz_localize(None)\n",
    "    df_underlying_close = pd.concat([\n",
    "        df_underlying_close,\n",
    "        df\n",
    "      ],\n",
    "      axis=1\n",
    "    )\n",
    "    df_underlying_close = df_underlying_close.rename(columns={'Close': ticker})\n",
    "  except:\n",
    "    try:\n",
    "      df.index = pd.to_datetime(df.index)\n",
    "      df.index = df.index.tz_localize(None)\n",
    "      df_underlying_close = pd.concat([\n",
    "          df_underlying_close,\n",
    "          df\n",
    "      ],\n",
    "      axis=1\n",
    "      )\n",
    "      df_underlying_close = df_underlying_close.rename(\n",
    "          columns={'Close': ticker}\n",
    "      )\n",
    "    except:\n",
    "      pass\n",
    "\n",
    "df_underlying_close.head()"
   ]
  },
  {
   "cell_type": "code",
   "execution_count": 47,
   "id": "5d6cbb5c",
   "metadata": {},
   "outputs": [
    {
     "data": {
      "text/plain": [
       "(261, 4063)"
      ]
     },
     "execution_count": 47,
     "metadata": {},
     "output_type": "execute_result"
    }
   ],
   "source": [
    "df_underlying_close.shape"
   ]
  },
  {
   "cell_type": "code",
   "execution_count": 48,
   "id": "2e887180",
   "metadata": {},
   "outputs": [
    {
     "data": {
      "text/html": [
       "<div>\n",
       "<style scoped>\n",
       "    .dataframe tbody tr th:only-of-type {\n",
       "        vertical-align: middle;\n",
       "    }\n",
       "\n",
       "    .dataframe tbody tr th {\n",
       "        vertical-align: top;\n",
       "    }\n",
       "\n",
       "    .dataframe thead th {\n",
       "        text-align: right;\n",
       "    }\n",
       "</style>\n",
       "<table border=\"1\" class=\"dataframe\">\n",
       "  <thead>\n",
       "    <tr style=\"text-align: right;\">\n",
       "      <th></th>\n",
       "      <th>0700.HK</th>\n",
       "      <th>BABA</th>\n",
       "      <th>3690.HK</th>\n",
       "      <th>0939.HK</th>\n",
       "      <th>PDD</th>\n",
       "      <th>2318.HK</th>\n",
       "      <th>JD</th>\n",
       "      <th>BIDU</th>\n",
       "      <th>1398.HK</th>\n",
       "      <th>NTES</th>\n",
       "      <th>...</th>\n",
       "      <th>688561.SS</th>\n",
       "      <th>688169.SS</th>\n",
       "      <th>688303.SS</th>\n",
       "      <th>603195.SS</th>\n",
       "      <th>600606.SS</th>\n",
       "      <th>688065.SS</th>\n",
       "      <th>605499.SS</th>\n",
       "      <th>601236.SS</th>\n",
       "      <th>300979.SZ</th>\n",
       "      <th>001289.SZ</th>\n",
       "    </tr>\n",
       "  </thead>\n",
       "  <tbody>\n",
       "    <tr>\n",
       "      <th>2022-03-09 00:00:00</th>\n",
       "      <td>NaN</td>\n",
       "      <td>NaN</td>\n",
       "      <td>NaN</td>\n",
       "      <td>NaN</td>\n",
       "      <td>NaN</td>\n",
       "      <td>NaN</td>\n",
       "      <td>NaN</td>\n",
       "      <td>NaN</td>\n",
       "      <td>NaN</td>\n",
       "      <td>NaN</td>\n",
       "      <td>...</td>\n",
       "      <td>NaN</td>\n",
       "      <td>NaN</td>\n",
       "      <td>NaN</td>\n",
       "      <td>NaN</td>\n",
       "      <td>NaN</td>\n",
       "      <td>NaN</td>\n",
       "      <td>NaN</td>\n",
       "      <td>NaN</td>\n",
       "      <td>NaN</td>\n",
       "      <td>NaN</td>\n",
       "    </tr>\n",
       "    <tr>\n",
       "      <th>2022-03-10 00:00:00</th>\n",
       "      <td>0.000520</td>\n",
       "      <td>-0.079362</td>\n",
       "      <td>-0.028956</td>\n",
       "      <td>0.018116</td>\n",
       "      <td>-0.174896</td>\n",
       "      <td>0.031865</td>\n",
       "      <td>-0.158333</td>\n",
       "      <td>-0.062886</td>\n",
       "      <td>0.013304</td>\n",
       "      <td>-0.073093</td>\n",
       "      <td>...</td>\n",
       "      <td>0.030655</td>\n",
       "      <td>-0.011252</td>\n",
       "      <td>0.048295</td>\n",
       "      <td>0.003629</td>\n",
       "      <td>0.002457</td>\n",
       "      <td>-0.015596</td>\n",
       "      <td>0.013247</td>\n",
       "      <td>-0.007769</td>\n",
       "      <td>-0.023135</td>\n",
       "      <td>-0.014319</td>\n",
       "    </tr>\n",
       "    <tr>\n",
       "      <th>2022-03-11 00:00:00</th>\n",
       "      <td>-0.044675</td>\n",
       "      <td>-0.066832</td>\n",
       "      <td>-0.061026</td>\n",
       "      <td>0.000000</td>\n",
       "      <td>-0.101510</td>\n",
       "      <td>-0.003633</td>\n",
       "      <td>-0.086253</td>\n",
       "      <td>-0.120154</td>\n",
       "      <td>0.002188</td>\n",
       "      <td>-0.032302</td>\n",
       "      <td>...</td>\n",
       "      <td>0.021383</td>\n",
       "      <td>-0.016899</td>\n",
       "      <td>0.008768</td>\n",
       "      <td>0.012102</td>\n",
       "      <td>0.000000</td>\n",
       "      <td>0.016386</td>\n",
       "      <td>-0.008441</td>\n",
       "      <td>0.039150</td>\n",
       "      <td>-0.025325</td>\n",
       "      <td>-0.042230</td>\n",
       "    </tr>\n",
       "    <tr>\n",
       "      <th>2022-03-14 00:00:00</th>\n",
       "      <td>-0.097879</td>\n",
       "      <td>-0.103218</td>\n",
       "      <td>-0.168390</td>\n",
       "      <td>0.001779</td>\n",
       "      <td>-0.205416</td>\n",
       "      <td>-0.032817</td>\n",
       "      <td>-0.105230</td>\n",
       "      <td>-0.083670</td>\n",
       "      <td>0.004367</td>\n",
       "      <td>-0.095587</td>\n",
       "      <td>...</td>\n",
       "      <td>-0.048009</td>\n",
       "      <td>-0.015254</td>\n",
       "      <td>-0.071112</td>\n",
       "      <td>-0.010572</td>\n",
       "      <td>-0.024510</td>\n",
       "      <td>-0.031887</td>\n",
       "      <td>-0.058500</td>\n",
       "      <td>-0.017223</td>\n",
       "      <td>-0.051966</td>\n",
       "      <td>-0.013404</td>\n",
       "    </tr>\n",
       "    <tr>\n",
       "      <th>2022-03-15 00:00:00</th>\n",
       "      <td>-0.101869</td>\n",
       "      <td>-0.012860</td>\n",
       "      <td>-0.058615</td>\n",
       "      <td>-0.024867</td>\n",
       "      <td>0.069722</td>\n",
       "      <td>-0.126296</td>\n",
       "      <td>0.070797</td>\n",
       "      <td>-0.005414</td>\n",
       "      <td>-0.036956</td>\n",
       "      <td>0.037886</td>\n",
       "      <td>...</td>\n",
       "      <td>-0.056878</td>\n",
       "      <td>-0.049773</td>\n",
       "      <td>-0.020415</td>\n",
       "      <td>-0.056522</td>\n",
       "      <td>-0.067839</td>\n",
       "      <td>-0.049407</td>\n",
       "      <td>-0.030931</td>\n",
       "      <td>-0.019715</td>\n",
       "      <td>-0.056593</td>\n",
       "      <td>-0.070433</td>\n",
       "    </tr>\n",
       "  </tbody>\n",
       "</table>\n",
       "<p>5 rows × 4063 columns</p>\n",
       "</div>"
      ],
      "text/plain": [
       "                      0700.HK      BABA   3690.HK   0939.HK       PDD  \\\n",
       "2022-03-09 00:00:00       NaN       NaN       NaN       NaN       NaN   \n",
       "2022-03-10 00:00:00  0.000520 -0.079362 -0.028956  0.018116 -0.174896   \n",
       "2022-03-11 00:00:00 -0.044675 -0.066832 -0.061026  0.000000 -0.101510   \n",
       "2022-03-14 00:00:00 -0.097879 -0.103218 -0.168390  0.001779 -0.205416   \n",
       "2022-03-15 00:00:00 -0.101869 -0.012860 -0.058615 -0.024867  0.069722   \n",
       "\n",
       "                      2318.HK        JD      BIDU   1398.HK      NTES  ...  \\\n",
       "2022-03-09 00:00:00       NaN       NaN       NaN       NaN       NaN  ...   \n",
       "2022-03-10 00:00:00  0.031865 -0.158333 -0.062886  0.013304 -0.073093  ...   \n",
       "2022-03-11 00:00:00 -0.003633 -0.086253 -0.120154  0.002188 -0.032302  ...   \n",
       "2022-03-14 00:00:00 -0.032817 -0.105230 -0.083670  0.004367 -0.095587  ...   \n",
       "2022-03-15 00:00:00 -0.126296  0.070797 -0.005414 -0.036956  0.037886  ...   \n",
       "\n",
       "                     688561.SS  688169.SS  688303.SS  603195.SS  600606.SS  \\\n",
       "2022-03-09 00:00:00        NaN        NaN        NaN        NaN        NaN   \n",
       "2022-03-10 00:00:00   0.030655  -0.011252   0.048295   0.003629   0.002457   \n",
       "2022-03-11 00:00:00   0.021383  -0.016899   0.008768   0.012102   0.000000   \n",
       "2022-03-14 00:00:00  -0.048009  -0.015254  -0.071112  -0.010572  -0.024510   \n",
       "2022-03-15 00:00:00  -0.056878  -0.049773  -0.020415  -0.056522  -0.067839   \n",
       "\n",
       "                     688065.SS  605499.SS  601236.SS  300979.SZ  001289.SZ  \n",
       "2022-03-09 00:00:00        NaN        NaN        NaN        NaN        NaN  \n",
       "2022-03-10 00:00:00  -0.015596   0.013247  -0.007769  -0.023135  -0.014319  \n",
       "2022-03-11 00:00:00   0.016386  -0.008441   0.039150  -0.025325  -0.042230  \n",
       "2022-03-14 00:00:00  -0.031887  -0.058500  -0.017223  -0.051966  -0.013404  \n",
       "2022-03-15 00:00:00  -0.049407  -0.030931  -0.019715  -0.056593  -0.070433  \n",
       "\n",
       "[5 rows x 4063 columns]"
      ]
     },
     "execution_count": 48,
     "metadata": {},
     "output_type": "execute_result"
    }
   ],
   "source": [
    "df_underlying_returns = df_underlying_close.pct_change()\n",
    "df_underlying_returns.head()"
   ]
  },
  {
   "cell_type": "code",
   "execution_count": 49,
   "id": "c7f13838",
   "metadata": {},
   "outputs": [],
   "source": [
    "# standardize returns' indices\n",
    "df_country_etf_returns.index = pd.to_datetime(df_country_etf_returns.index)\n",
    "df_sector_etf_returns.index = pd.to_datetime(df_sector_etf_returns.index)\n",
    "df_underlying_returns.index = pd.to_datetime(df_underlying_returns.index)\n",
    "df_country_etf_returns.index = df_country_etf_returns.index.tz_localize(None)\n",
    "df_sector_etf_returns.index = df_sector_etf_returns.index.tz_localize(None)\n",
    "df_underlying_returns.index = df_underlying_returns.index.tz_localize(None)"
   ]
  },
  {
   "cell_type": "code",
   "execution_count": 50,
   "id": "228e44aa",
   "metadata": {},
   "outputs": [],
   "source": [
    "# calculate monthly returns\n",
    "def calculate_monthly_returns(df):\n",
    "  df_m = df.resample('M').agg(lambda x: (x+1).prod() - 1)\n",
    "  return df_m"
   ]
  },
  {
   "cell_type": "code",
   "execution_count": 51,
   "id": "f4aedde7",
   "metadata": {},
   "outputs": [],
   "source": [
    "df_c_monthly_rets = calculate_monthly_returns(df_country_etf_returns)\n",
    "df_s_monthly_rets = calculate_monthly_returns(df_sector_etf_returns)\n",
    "df_u_monthly_rets = calculate_monthly_returns(df_underlying_returns)"
   ]
  },
  {
   "cell_type": "code",
   "execution_count": 52,
   "id": "26b913cc",
   "metadata": {},
   "outputs": [
    {
     "name": "stdout",
     "output_type": "stream",
     "text": [
      "(13, 44)\n",
      "(13, 264)\n",
      "(13, 4063)\n"
     ]
    }
   ],
   "source": [
    "print(df_c_monthly_rets.shape)\n",
    "print(df_s_monthly_rets.shape)\n",
    "print(df_u_monthly_rets.shape)"
   ]
  },
  {
   "cell_type": "code",
   "execution_count": 53,
   "id": "efb9b29c",
   "metadata": {},
   "outputs": [
    {
     "data": {
      "text/html": [
       "<div>\n",
       "<style scoped>\n",
       "    .dataframe tbody tr th:only-of-type {\n",
       "        vertical-align: middle;\n",
       "    }\n",
       "\n",
       "    .dataframe tbody tr th {\n",
       "        vertical-align: top;\n",
       "    }\n",
       "\n",
       "    .dataframe thead th {\n",
       "        text-align: right;\n",
       "    }\n",
       "</style>\n",
       "<table border=\"1\" class=\"dataframe\">\n",
       "  <thead>\n",
       "    <tr style=\"text-align: right;\">\n",
       "      <th></th>\n",
       "      <th>EWJ</th>\n",
       "      <th>MCHI</th>\n",
       "      <th>BBJP</th>\n",
       "      <th>VPL</th>\n",
       "      <th>KWEB</th>\n",
       "      <th>FXI</th>\n",
       "      <th>BBAX</th>\n",
       "      <th>EWT</th>\n",
       "      <th>EWY</th>\n",
       "      <th>AAXJ</th>\n",
       "      <th>...</th>\n",
       "      <th>DBJP</th>\n",
       "      <th>EWJV</th>\n",
       "      <th>EWM</th>\n",
       "      <th>PGJ</th>\n",
       "      <th>DFJ</th>\n",
       "      <th>MINV</th>\n",
       "      <th>ENZL</th>\n",
       "      <th>HEWJ</th>\n",
       "      <th>EPHE</th>\n",
       "      <th>FLCH</th>\n",
       "    </tr>\n",
       "  </thead>\n",
       "  <tbody>\n",
       "    <tr>\n",
       "      <th>2022-03-31</th>\n",
       "      <td>0.031130</td>\n",
       "      <td>-0.015817</td>\n",
       "      <td>0.030254</td>\n",
       "      <td>0.036823</td>\n",
       "      <td>-0.034868</td>\n",
       "      <td>0.005662</td>\n",
       "      <td>0.074457</td>\n",
       "      <td>0.003429</td>\n",
       "      <td>0.013950</td>\n",
       "      <td>0.008468</td>\n",
       "      <td>...</td>\n",
       "      <td>0.080450</td>\n",
       "      <td>0.037762</td>\n",
       "      <td>0.016270</td>\n",
       "      <td>-0.025882</td>\n",
       "      <td>-0.011103</td>\n",
       "      <td>0.000000</td>\n",
       "      <td>0.014758</td>\n",
       "      <td>0.083404</td>\n",
       "      <td>-0.004163</td>\n",
       "      <td>-0.013617</td>\n",
       "    </tr>\n",
       "    <tr>\n",
       "      <th>2022-04-30</th>\n",
       "      <td>-0.080993</td>\n",
       "      <td>-0.045944</td>\n",
       "      <td>-0.080607</td>\n",
       "      <td>-0.069142</td>\n",
       "      <td>-0.008418</td>\n",
       "      <td>-0.032218</td>\n",
       "      <td>-0.065253</td>\n",
       "      <td>-0.090155</td>\n",
       "      <td>-0.064439</td>\n",
       "      <td>-0.054778</td>\n",
       "      <td>...</td>\n",
       "      <td>-0.016116</td>\n",
       "      <td>-0.058850</td>\n",
       "      <td>-0.031238</td>\n",
       "      <td>-0.049689</td>\n",
       "      <td>-0.063268</td>\n",
       "      <td>0.000000</td>\n",
       "      <td>-0.091801</td>\n",
       "      <td>-0.018403</td>\n",
       "      <td>-0.072990</td>\n",
       "      <td>-0.051663</td>\n",
       "    </tr>\n",
       "    <tr>\n",
       "      <th>2022-05-31</th>\n",
       "      <td>0.017308</td>\n",
       "      <td>0.026358</td>\n",
       "      <td>0.017578</td>\n",
       "      <td>0.011751</td>\n",
       "      <td>0.030421</td>\n",
       "      <td>0.029735</td>\n",
       "      <td>0.005769</td>\n",
       "      <td>0.020569</td>\n",
       "      <td>0.021008</td>\n",
       "      <td>0.010857</td>\n",
       "      <td>...</td>\n",
       "      <td>0.011818</td>\n",
       "      <td>0.007558</td>\n",
       "      <td>-0.025796</td>\n",
       "      <td>0.027959</td>\n",
       "      <td>0.011338</td>\n",
       "      <td>0.000000</td>\n",
       "      <td>-0.032226</td>\n",
       "      <td>0.011091</td>\n",
       "      <td>0.018730</td>\n",
       "      <td>0.022511</td>\n",
       "    </tr>\n",
       "    <tr>\n",
       "      <th>2022-06-30</th>\n",
       "      <td>-0.073902</td>\n",
       "      <td>0.083678</td>\n",
       "      <td>-0.071624</td>\n",
       "      <td>-0.081823</td>\n",
       "      <td>0.124614</td>\n",
       "      <td>0.068913</td>\n",
       "      <td>-0.069468</td>\n",
       "      <td>-0.116369</td>\n",
       "      <td>-0.144768</td>\n",
       "      <td>-0.030244</td>\n",
       "      <td>...</td>\n",
       "      <td>-0.023165</td>\n",
       "      <td>-0.053277</td>\n",
       "      <td>-0.073517</td>\n",
       "      <td>0.154078</td>\n",
       "      <td>-0.033515</td>\n",
       "      <td>0.000000</td>\n",
       "      <td>-0.069630</td>\n",
       "      <td>-0.023244</td>\n",
       "      <td>-0.125846</td>\n",
       "      <td>0.086531</td>\n",
       "    </tr>\n",
       "    <tr>\n",
       "      <th>2022-07-31</th>\n",
       "      <td>0.062843</td>\n",
       "      <td>-0.109658</td>\n",
       "      <td>0.062628</td>\n",
       "      <td>0.053403</td>\n",
       "      <td>-0.134615</td>\n",
       "      <td>-0.104099</td>\n",
       "      <td>0.038583</td>\n",
       "      <td>0.017255</td>\n",
       "      <td>0.040557</td>\n",
       "      <td>-0.017341</td>\n",
       "      <td>...</td>\n",
       "      <td>0.046089</td>\n",
       "      <td>0.043644</td>\n",
       "      <td>0.029157</td>\n",
       "      <td>-0.108622</td>\n",
       "      <td>0.053252</td>\n",
       "      <td>0.004946</td>\n",
       "      <td>0.081628</td>\n",
       "      <td>0.049577</td>\n",
       "      <td>0.022065</td>\n",
       "      <td>-0.104356</td>\n",
       "    </tr>\n",
       "  </tbody>\n",
       "</table>\n",
       "<p>5 rows × 44 columns</p>\n",
       "</div>"
      ],
      "text/plain": [
       "                 EWJ      MCHI      BBJP       VPL      KWEB       FXI  \\\n",
       "2022-03-31  0.031130 -0.015817  0.030254  0.036823 -0.034868  0.005662   \n",
       "2022-04-30 -0.080993 -0.045944 -0.080607 -0.069142 -0.008418 -0.032218   \n",
       "2022-05-31  0.017308  0.026358  0.017578  0.011751  0.030421  0.029735   \n",
       "2022-06-30 -0.073902  0.083678 -0.071624 -0.081823  0.124614  0.068913   \n",
       "2022-07-31  0.062843 -0.109658  0.062628  0.053403 -0.134615 -0.104099   \n",
       "\n",
       "                BBAX       EWT       EWY      AAXJ  ...      DBJP      EWJV  \\\n",
       "2022-03-31  0.074457  0.003429  0.013950  0.008468  ...  0.080450  0.037762   \n",
       "2022-04-30 -0.065253 -0.090155 -0.064439 -0.054778  ... -0.016116 -0.058850   \n",
       "2022-05-31  0.005769  0.020569  0.021008  0.010857  ...  0.011818  0.007558   \n",
       "2022-06-30 -0.069468 -0.116369 -0.144768 -0.030244  ... -0.023165 -0.053277   \n",
       "2022-07-31  0.038583  0.017255  0.040557 -0.017341  ...  0.046089  0.043644   \n",
       "\n",
       "                 EWM       PGJ       DFJ      MINV      ENZL      HEWJ  \\\n",
       "2022-03-31  0.016270 -0.025882 -0.011103  0.000000  0.014758  0.083404   \n",
       "2022-04-30 -0.031238 -0.049689 -0.063268  0.000000 -0.091801 -0.018403   \n",
       "2022-05-31 -0.025796  0.027959  0.011338  0.000000 -0.032226  0.011091   \n",
       "2022-06-30 -0.073517  0.154078 -0.033515  0.000000 -0.069630 -0.023244   \n",
       "2022-07-31  0.029157 -0.108622  0.053252  0.004946  0.081628  0.049577   \n",
       "\n",
       "                EPHE      FLCH  \n",
       "2022-03-31 -0.004163 -0.013617  \n",
       "2022-04-30 -0.072990 -0.051663  \n",
       "2022-05-31  0.018730  0.022511  \n",
       "2022-06-30 -0.125846  0.086531  \n",
       "2022-07-31  0.022065 -0.104356  \n",
       "\n",
       "[5 rows x 44 columns]"
      ]
     },
     "execution_count": 53,
     "metadata": {},
     "output_type": "execute_result"
    }
   ],
   "source": [
    "df_c_monthly_rets.head()"
   ]
  },
  {
   "cell_type": "code",
   "execution_count": 55,
   "id": "5a90b66d",
   "metadata": {},
   "outputs": [],
   "source": [
    "import warnings\n",
    "from statsmodels.tsa.arima.model import ARIMA\n",
    "from statsmodels.tools.sm_exceptions import ConvergenceWarning"
   ]
  },
  {
   "cell_type": "code",
   "execution_count": 56,
   "id": "53ea0d67",
   "metadata": {},
   "outputs": [],
   "source": [
    "warnings.simplefilter('ignore', ConvergenceWarning)"
   ]
  },
  {
   "cell_type": "code",
   "execution_count": 57,
   "id": "0db5ca48",
   "metadata": {},
   "outputs": [],
   "source": [
    "# predict next month's return\n",
    "df_monthly_rets_pred = pd.DataFrame(columns=['PredictedReturn'])"
   ]
  },
  {
   "cell_type": "code",
   "execution_count": 64,
   "id": "7b2905f8",
   "metadata": {},
   "outputs": [],
   "source": [
    "def get_monthly_return_prediction(df, df_returns, max_i=5, max_j=5, max_k=5):\n",
    "    for col in tqdm(df.columns):\n",
    "        data = pd.DataFrame(df[col])\n",
    "        min_aic_order = None\n",
    "        min_aic = 10000000\n",
    "        for i in range(1, max_i):\n",
    "            for j in range(1, max_j):\n",
    "                for k in range(max_k):\n",
    "                    try:\n",
    "                        model = ARIMA(data, order=(i, j, k)).fit()\n",
    "                        aic = model.aic\n",
    "                        if aic < min_aic:\n",
    "                            min_aic = aic\n",
    "                            min_aic_order = (i, j, k)\n",
    "                    except:\n",
    "                        pass\n",
    "        if min_aic_order:\n",
    "            model = ARIMA(data, order=min_aic_order).fit()\n",
    "            pred = model.predict()[-1]\n",
    "            df_returns.loc[col] = pred"
   ]
  },
  {
   "cell_type": "code",
   "execution_count": null,
   "id": "ea6a1bf3",
   "metadata": {},
   "outputs": [],
   "source": [
    "get_monthly_return_prediction(df_c_monthly_rets, df_monthly_rets_pred)"
   ]
  },
  {
   "cell_type": "code",
   "execution_count": 60,
   "id": "f0dd77c2",
   "metadata": {},
   "outputs": [
    {
     "data": {
      "text/plain": [
       "(44, 1)"
      ]
     },
     "execution_count": 60,
     "metadata": {},
     "output_type": "execute_result"
    }
   ],
   "source": [
    "df_monthly_rets_pred.shape"
   ]
  },
  {
   "cell_type": "code",
   "execution_count": 62,
   "id": "ff179cff",
   "metadata": {},
   "outputs": [
    {
     "data": {
      "text/html": [
       "<div>\n",
       "<style scoped>\n",
       "    .dataframe tbody tr th:only-of-type {\n",
       "        vertical-align: middle;\n",
       "    }\n",
       "\n",
       "    .dataframe tbody tr th {\n",
       "        vertical-align: top;\n",
       "    }\n",
       "\n",
       "    .dataframe thead th {\n",
       "        text-align: right;\n",
       "    }\n",
       "</style>\n",
       "<table border=\"1\" class=\"dataframe\">\n",
       "  <thead>\n",
       "    <tr style=\"text-align: right;\">\n",
       "      <th></th>\n",
       "      <th>EWJ</th>\n",
       "      <th>MCHI</th>\n",
       "      <th>BBJP</th>\n",
       "      <th>VPL</th>\n",
       "      <th>KWEB</th>\n",
       "      <th>FXI</th>\n",
       "      <th>BBAX</th>\n",
       "      <th>EWT</th>\n",
       "      <th>EWY</th>\n",
       "      <th>AAXJ</th>\n",
       "      <th>...</th>\n",
       "      <th>DBJP</th>\n",
       "      <th>EWJV</th>\n",
       "      <th>EWM</th>\n",
       "      <th>PGJ</th>\n",
       "      <th>DFJ</th>\n",
       "      <th>MINV</th>\n",
       "      <th>ENZL</th>\n",
       "      <th>HEWJ</th>\n",
       "      <th>EPHE</th>\n",
       "      <th>FLCH</th>\n",
       "    </tr>\n",
       "  </thead>\n",
       "  <tbody>\n",
       "    <tr>\n",
       "      <th>PredictedReturn</th>\n",
       "      <td>0.024023</td>\n",
       "      <td>0.014215</td>\n",
       "      <td>0.022955</td>\n",
       "      <td>0.0095</td>\n",
       "      <td>0.036447</td>\n",
       "      <td>0.017948</td>\n",
       "      <td>0.016625</td>\n",
       "      <td>0.032875</td>\n",
       "      <td>0.00866</td>\n",
       "      <td>0.003853</td>\n",
       "      <td>...</td>\n",
       "      <td>0.01785</td>\n",
       "      <td>0.007432</td>\n",
       "      <td>-0.009782</td>\n",
       "      <td>0.041608</td>\n",
       "      <td>0.059691</td>\n",
       "      <td>0.026143</td>\n",
       "      <td>-0.004399</td>\n",
       "      <td>0.019222</td>\n",
       "      <td>0.00738</td>\n",
       "      <td>0.013483</td>\n",
       "    </tr>\n",
       "  </tbody>\n",
       "</table>\n",
       "<p>1 rows × 44 columns</p>\n",
       "</div>"
      ],
      "text/plain": [
       "                      EWJ      MCHI      BBJP     VPL      KWEB       FXI  \\\n",
       "PredictedReturn  0.024023  0.014215  0.022955  0.0095  0.036447  0.017948   \n",
       "\n",
       "                     BBAX       EWT      EWY      AAXJ  ...     DBJP  \\\n",
       "PredictedReturn  0.016625  0.032875  0.00866  0.003853  ...  0.01785   \n",
       "\n",
       "                     EWJV       EWM       PGJ       DFJ      MINV      ENZL  \\\n",
       "PredictedReturn  0.007432 -0.009782  0.041608  0.059691  0.026143 -0.004399   \n",
       "\n",
       "                     HEWJ     EPHE      FLCH  \n",
       "PredictedReturn  0.019222  0.00738  0.013483  \n",
       "\n",
       "[1 rows x 44 columns]"
      ]
     },
     "execution_count": 62,
     "metadata": {},
     "output_type": "execute_result"
    }
   ],
   "source": [
    "df_monthly_rets_pred.transpose()"
   ]
  },
  {
   "cell_type": "code",
   "execution_count": 65,
   "id": "f6e68d86",
   "metadata": {},
   "outputs": [
    {
     "data": {
      "text/html": [
       "<div>\n",
       "<style scoped>\n",
       "    .dataframe tbody tr th:only-of-type {\n",
       "        vertical-align: middle;\n",
       "    }\n",
       "\n",
       "    .dataframe tbody tr th {\n",
       "        vertical-align: top;\n",
       "    }\n",
       "\n",
       "    .dataframe thead th {\n",
       "        text-align: right;\n",
       "    }\n",
       "</style>\n",
       "<table border=\"1\" class=\"dataframe\">\n",
       "  <thead>\n",
       "    <tr style=\"text-align: right;\">\n",
       "      <th></th>\n",
       "      <th>PredictedReturn</th>\n",
       "    </tr>\n",
       "  </thead>\n",
       "  <tbody>\n",
       "    <tr>\n",
       "      <th>count</th>\n",
       "      <td>44.000000</td>\n",
       "    </tr>\n",
       "    <tr>\n",
       "      <th>mean</th>\n",
       "      <td>0.006715</td>\n",
       "    </tr>\n",
       "    <tr>\n",
       "      <th>std</th>\n",
       "      <td>0.031686</td>\n",
       "    </tr>\n",
       "    <tr>\n",
       "      <th>min</th>\n",
       "      <td>-0.109043</td>\n",
       "    </tr>\n",
       "    <tr>\n",
       "      <th>25%</th>\n",
       "      <td>0.003084</td>\n",
       "    </tr>\n",
       "    <tr>\n",
       "      <th>50%</th>\n",
       "      <td>0.011254</td>\n",
       "    </tr>\n",
       "    <tr>\n",
       "      <th>75%</th>\n",
       "      <td>0.021359</td>\n",
       "    </tr>\n",
       "    <tr>\n",
       "      <th>max</th>\n",
       "      <td>0.059691</td>\n",
       "    </tr>\n",
       "  </tbody>\n",
       "</table>\n",
       "</div>"
      ],
      "text/plain": [
       "       PredictedReturn\n",
       "count        44.000000\n",
       "mean          0.006715\n",
       "std           0.031686\n",
       "min          -0.109043\n",
       "25%           0.003084\n",
       "50%           0.011254\n",
       "75%           0.021359\n",
       "max           0.059691"
      ]
     },
     "execution_count": 65,
     "metadata": {},
     "output_type": "execute_result"
    }
   ],
   "source": [
    "# including only country ETFs\n",
    "df_monthly_rets_pred.describe()"
   ]
  },
  {
   "cell_type": "code",
   "execution_count": 66,
   "id": "aabb67be",
   "metadata": {},
   "outputs": [],
   "source": [
    "df_s_monthly_rets_pred = pd.DataFrame(columns=['PredictedReturn'])"
   ]
  },
  {
   "cell_type": "code",
   "execution_count": null,
   "id": "2be43cf6",
   "metadata": {},
   "outputs": [],
   "source": [
    "get_monthly_return_prediction(df_s_monthly_rets, df_s_monthly_rets_pred,\n",
    "                             max_i=4, max_j=4, max_k=4)"
   ]
  },
  {
   "cell_type": "code",
   "execution_count": 73,
   "id": "4bbb1b06",
   "metadata": {},
   "outputs": [
    {
     "data": {
      "text/html": [
       "<div>\n",
       "<style scoped>\n",
       "    .dataframe tbody tr th:only-of-type {\n",
       "        vertical-align: middle;\n",
       "    }\n",
       "\n",
       "    .dataframe tbody tr th {\n",
       "        vertical-align: top;\n",
       "    }\n",
       "\n",
       "    .dataframe thead th {\n",
       "        text-align: right;\n",
       "    }\n",
       "</style>\n",
       "<table border=\"1\" class=\"dataframe\">\n",
       "  <thead>\n",
       "    <tr style=\"text-align: right;\">\n",
       "      <th></th>\n",
       "      <th>VGT</th>\n",
       "      <th>XLK</th>\n",
       "      <th>XLE</th>\n",
       "      <th>XLV</th>\n",
       "      <th>XLF</th>\n",
       "      <th>XLP</th>\n",
       "      <th>VHT</th>\n",
       "      <th>XLU</th>\n",
       "      <th>XLI</th>\n",
       "      <th>XLY</th>\n",
       "      <th>...</th>\n",
       "      <th>EIPX</th>\n",
       "      <th>PXJ</th>\n",
       "      <th>QTUM</th>\n",
       "      <th>KCE</th>\n",
       "      <th>LEGR</th>\n",
       "      <th>XHS</th>\n",
       "      <th>IGN</th>\n",
       "      <th>HTEC</th>\n",
       "      <th>GDOC</th>\n",
       "      <th>SBIO</th>\n",
       "    </tr>\n",
       "  </thead>\n",
       "  <tbody>\n",
       "    <tr>\n",
       "      <th>PredictedReturn</th>\n",
       "      <td>0.013411</td>\n",
       "      <td>0.017046</td>\n",
       "      <td>0.044608</td>\n",
       "      <td>0.001566</td>\n",
       "      <td>-0.000058</td>\n",
       "      <td>0.010215</td>\n",
       "      <td>0.004276</td>\n",
       "      <td>0.035816</td>\n",
       "      <td>0.008421</td>\n",
       "      <td>-0.004344</td>\n",
       "      <td>...</td>\n",
       "      <td>0.018416</td>\n",
       "      <td>0.041317</td>\n",
       "      <td>0.026461</td>\n",
       "      <td>0.071346</td>\n",
       "      <td>0.029237</td>\n",
       "      <td>0.000439</td>\n",
       "      <td>0.008563</td>\n",
       "      <td>-0.000737</td>\n",
       "      <td>0.036097</td>\n",
       "      <td>-0.01784</td>\n",
       "    </tr>\n",
       "  </tbody>\n",
       "</table>\n",
       "<p>1 rows × 264 columns</p>\n",
       "</div>"
      ],
      "text/plain": [
       "                      VGT       XLK       XLE       XLV       XLF       XLP  \\\n",
       "PredictedReturn  0.013411  0.017046  0.044608  0.001566 -0.000058  0.010215   \n",
       "\n",
       "                      VHT       XLU       XLI       XLY  ...      EIPX  \\\n",
       "PredictedReturn  0.004276  0.035816  0.008421 -0.004344  ...  0.018416   \n",
       "\n",
       "                      PXJ      QTUM       KCE      LEGR       XHS       IGN  \\\n",
       "PredictedReturn  0.041317  0.026461  0.071346  0.029237  0.000439  0.008563   \n",
       "\n",
       "                     HTEC      GDOC     SBIO  \n",
       "PredictedReturn -0.000737  0.036097 -0.01784  \n",
       "\n",
       "[1 rows x 264 columns]"
      ]
     },
     "execution_count": 73,
     "metadata": {},
     "output_type": "execute_result"
    }
   ],
   "source": [
    "df_s_monthly_rets_pred.transpose()"
   ]
  },
  {
   "cell_type": "code",
   "execution_count": 74,
   "id": "5315db0f",
   "metadata": {},
   "outputs": [
    {
     "data": {
      "text/html": [
       "<div>\n",
       "<style scoped>\n",
       "    .dataframe tbody tr th:only-of-type {\n",
       "        vertical-align: middle;\n",
       "    }\n",
       "\n",
       "    .dataframe tbody tr th {\n",
       "        vertical-align: top;\n",
       "    }\n",
       "\n",
       "    .dataframe thead th {\n",
       "        text-align: right;\n",
       "    }\n",
       "</style>\n",
       "<table border=\"1\" class=\"dataframe\">\n",
       "  <thead>\n",
       "    <tr style=\"text-align: right;\">\n",
       "      <th></th>\n",
       "      <th>PredictedReturn</th>\n",
       "    </tr>\n",
       "  </thead>\n",
       "  <tbody>\n",
       "    <tr>\n",
       "      <th>count</th>\n",
       "      <td>264.000000</td>\n",
       "    </tr>\n",
       "    <tr>\n",
       "      <th>mean</th>\n",
       "      <td>0.014564</td>\n",
       "    </tr>\n",
       "    <tr>\n",
       "      <th>std</th>\n",
       "      <td>0.026834</td>\n",
       "    </tr>\n",
       "    <tr>\n",
       "      <th>min</th>\n",
       "      <td>-0.076159</td>\n",
       "    </tr>\n",
       "    <tr>\n",
       "      <th>25%</th>\n",
       "      <td>-0.000640</td>\n",
       "    </tr>\n",
       "    <tr>\n",
       "      <th>50%</th>\n",
       "      <td>0.013320</td>\n",
       "    </tr>\n",
       "    <tr>\n",
       "      <th>75%</th>\n",
       "      <td>0.030426</td>\n",
       "    </tr>\n",
       "    <tr>\n",
       "      <th>max</th>\n",
       "      <td>0.091423</td>\n",
       "    </tr>\n",
       "  </tbody>\n",
       "</table>\n",
       "</div>"
      ],
      "text/plain": [
       "       PredictedReturn\n",
       "count       264.000000\n",
       "mean          0.014564\n",
       "std           0.026834\n",
       "min          -0.076159\n",
       "25%          -0.000640\n",
       "50%           0.013320\n",
       "75%           0.030426\n",
       "max           0.091423"
      ]
     },
     "execution_count": 74,
     "metadata": {},
     "output_type": "execute_result"
    }
   ],
   "source": [
    "# predicted monthly return for sector ETFs\n",
    "# trained by selecting ARIMA model with min AIC\n",
    "# considering all ARIMA models in range \n",
    "# (1, 4) for p, d and (0, 4) for q\n",
    "df_s_monthly_rets_pred.describe()"
   ]
  },
  {
   "cell_type": "code",
   "execution_count": 75,
   "id": "b22152e4",
   "metadata": {},
   "outputs": [],
   "source": [
    "import os"
   ]
  },
  {
   "cell_type": "code",
   "execution_count": 76,
   "id": "1b4bb092",
   "metadata": {},
   "outputs": [],
   "source": [
    "# store predicted monthly returns to CSV\n",
    "folder = f'{os.getcwd()}/data'\n",
    "df_monthly_rets_pred.to_csv(f'{folder}/c_pred_monthly_rets.csv')\n",
    "df_s_monthly_rets_pred.to_csv(f'{folder}/s_pred_monthly_rets.csv')"
   ]
  },
  {
   "cell_type": "code",
   "execution_count": 77,
   "id": "7ad29b73",
   "metadata": {},
   "outputs": [],
   "source": [
    "df_u_monthly_rets_pred = pd.DataFrame(columns=['PredictedReturn'])"
   ]
  },
  {
   "cell_type": "code",
   "execution_count": null,
   "id": "1fb3a679",
   "metadata": {},
   "outputs": [],
   "source": [
    "get_monthly_return_prediction(df_u_monthly_rets, df_u_monthly_rets_pred,\n",
    "                             max_i=3, max_j=2, max_k=3)"
   ]
  },
  {
   "cell_type": "code",
   "execution_count": 79,
   "id": "65b989a9",
   "metadata": {},
   "outputs": [
    {
     "data": {
      "text/plain": [
       "(4063, 1)"
      ]
     },
     "execution_count": 79,
     "metadata": {},
     "output_type": "execute_result"
    }
   ],
   "source": [
    "df_u_monthly_rets_pred.shape"
   ]
  },
  {
   "cell_type": "code",
   "execution_count": 80,
   "id": "ce7106eb",
   "metadata": {},
   "outputs": [
    {
     "data": {
      "text/html": [
       "<div>\n",
       "<style scoped>\n",
       "    .dataframe tbody tr th:only-of-type {\n",
       "        vertical-align: middle;\n",
       "    }\n",
       "\n",
       "    .dataframe tbody tr th {\n",
       "        vertical-align: top;\n",
       "    }\n",
       "\n",
       "    .dataframe thead th {\n",
       "        text-align: right;\n",
       "    }\n",
       "</style>\n",
       "<table border=\"1\" class=\"dataframe\">\n",
       "  <thead>\n",
       "    <tr style=\"text-align: right;\">\n",
       "      <th></th>\n",
       "      <th>0700.HK</th>\n",
       "      <th>BABA</th>\n",
       "      <th>3690.HK</th>\n",
       "      <th>0939.HK</th>\n",
       "      <th>PDD</th>\n",
       "      <th>2318.HK</th>\n",
       "      <th>JD</th>\n",
       "      <th>BIDU</th>\n",
       "      <th>1398.HK</th>\n",
       "      <th>NTES</th>\n",
       "      <th>...</th>\n",
       "      <th>688561.SS</th>\n",
       "      <th>688169.SS</th>\n",
       "      <th>688303.SS</th>\n",
       "      <th>603195.SS</th>\n",
       "      <th>600606.SS</th>\n",
       "      <th>688065.SS</th>\n",
       "      <th>605499.SS</th>\n",
       "      <th>601236.SS</th>\n",
       "      <th>300979.SZ</th>\n",
       "      <th>001289.SZ</th>\n",
       "    </tr>\n",
       "  </thead>\n",
       "  <tbody>\n",
       "    <tr>\n",
       "      <th>PredictedReturn</th>\n",
       "      <td>0.004156</td>\n",
       "      <td>0.076791</td>\n",
       "      <td>0.003559</td>\n",
       "      <td>-0.001251</td>\n",
       "      <td>0.110653</td>\n",
       "      <td>0.031376</td>\n",
       "      <td>0.08309</td>\n",
       "      <td>0.023505</td>\n",
       "      <td>-0.006254</td>\n",
       "      <td>0.325763</td>\n",
       "      <td>...</td>\n",
       "      <td>0.098126</td>\n",
       "      <td>-0.141324</td>\n",
       "      <td>-0.006657</td>\n",
       "      <td>0.013007</td>\n",
       "      <td>0.033549</td>\n",
       "      <td>-0.189675</td>\n",
       "      <td>0.089912</td>\n",
       "      <td>-0.22854</td>\n",
       "      <td>0.017674</td>\n",
       "      <td>-0.164838</td>\n",
       "    </tr>\n",
       "  </tbody>\n",
       "</table>\n",
       "<p>1 rows × 4063 columns</p>\n",
       "</div>"
      ],
      "text/plain": [
       "                  0700.HK      BABA   3690.HK   0939.HK       PDD   2318.HK  \\\n",
       "PredictedReturn  0.004156  0.076791  0.003559 -0.001251  0.110653  0.031376   \n",
       "\n",
       "                      JD      BIDU   1398.HK      NTES  ...  688561.SS  \\\n",
       "PredictedReturn  0.08309  0.023505 -0.006254  0.325763  ...   0.098126   \n",
       "\n",
       "                 688169.SS  688303.SS  603195.SS  600606.SS  688065.SS  \\\n",
       "PredictedReturn  -0.141324  -0.006657   0.013007   0.033549  -0.189675   \n",
       "\n",
       "                 605499.SS  601236.SS  300979.SZ  001289.SZ  \n",
       "PredictedReturn   0.089912   -0.22854   0.017674  -0.164838  \n",
       "\n",
       "[1 rows x 4063 columns]"
      ]
     },
     "execution_count": 80,
     "metadata": {},
     "output_type": "execute_result"
    }
   ],
   "source": [
    "df_u_monthly_rets_pred.transpose()"
   ]
  },
  {
   "cell_type": "code",
   "execution_count": 81,
   "id": "3445d720",
   "metadata": {},
   "outputs": [
    {
     "data": {
      "text/html": [
       "<div>\n",
       "<style scoped>\n",
       "    .dataframe tbody tr th:only-of-type {\n",
       "        vertical-align: middle;\n",
       "    }\n",
       "\n",
       "    .dataframe tbody tr th {\n",
       "        vertical-align: top;\n",
       "    }\n",
       "\n",
       "    .dataframe thead th {\n",
       "        text-align: right;\n",
       "    }\n",
       "</style>\n",
       "<table border=\"1\" class=\"dataframe\">\n",
       "  <thead>\n",
       "    <tr style=\"text-align: right;\">\n",
       "      <th></th>\n",
       "      <th>PredictedReturn</th>\n",
       "    </tr>\n",
       "  </thead>\n",
       "  <tbody>\n",
       "    <tr>\n",
       "      <th>count</th>\n",
       "      <td>4063.000000</td>\n",
       "    </tr>\n",
       "    <tr>\n",
       "      <th>mean</th>\n",
       "      <td>0.028081</td>\n",
       "    </tr>\n",
       "    <tr>\n",
       "      <th>std</th>\n",
       "      <td>0.110659</td>\n",
       "    </tr>\n",
       "    <tr>\n",
       "      <th>min</th>\n",
       "      <td>-0.476742</td>\n",
       "    </tr>\n",
       "    <tr>\n",
       "      <th>25%</th>\n",
       "      <td>-0.011229</td>\n",
       "    </tr>\n",
       "    <tr>\n",
       "      <th>50%</th>\n",
       "      <td>0.012084</td>\n",
       "    </tr>\n",
       "    <tr>\n",
       "      <th>75%</th>\n",
       "      <td>0.056814</td>\n",
       "    </tr>\n",
       "    <tr>\n",
       "      <th>max</th>\n",
       "      <td>1.494197</td>\n",
       "    </tr>\n",
       "  </tbody>\n",
       "</table>\n",
       "</div>"
      ],
      "text/plain": [
       "       PredictedReturn\n",
       "count      4063.000000\n",
       "mean          0.028081\n",
       "std           0.110659\n",
       "min          -0.476742\n",
       "25%          -0.011229\n",
       "50%           0.012084\n",
       "75%           0.056814\n",
       "max           1.494197"
      ]
     },
     "execution_count": 81,
     "metadata": {},
     "output_type": "execute_result"
    }
   ],
   "source": [
    "df_u_monthly_rets_pred.describe()"
   ]
  },
  {
   "cell_type": "code",
   "execution_count": 82,
   "id": "fb6c6073",
   "metadata": {},
   "outputs": [],
   "source": [
    "folder = f'{os.getcwd()}/data'\n",
    "df_u_monthly_rets_pred.to_csv(f'{folder}/u_pred_monthly_rets.csv')"
   ]
  },
  {
   "cell_type": "code",
   "execution_count": 85,
   "id": "6b1e11d6",
   "metadata": {},
   "outputs": [
    {
     "data": {
      "text/html": [
       "<div>\n",
       "<style scoped>\n",
       "    .dataframe tbody tr th:only-of-type {\n",
       "        vertical-align: middle;\n",
       "    }\n",
       "\n",
       "    .dataframe tbody tr th {\n",
       "        vertical-align: top;\n",
       "    }\n",
       "\n",
       "    .dataframe thead th {\n",
       "        text-align: right;\n",
       "    }\n",
       "</style>\n",
       "<table border=\"1\" class=\"dataframe\">\n",
       "  <thead>\n",
       "    <tr style=\"text-align: right;\">\n",
       "      <th></th>\n",
       "      <th>PredictedReturn</th>\n",
       "    </tr>\n",
       "  </thead>\n",
       "  <tbody>\n",
       "    <tr>\n",
       "      <th>3660.T</th>\n",
       "      <td>1.494197</td>\n",
       "    </tr>\n",
       "    <tr>\n",
       "      <th>DADA</th>\n",
       "      <td>1.437514</td>\n",
       "    </tr>\n",
       "    <tr>\n",
       "      <th>GCPEF</th>\n",
       "      <td>1.411325</td>\n",
       "    </tr>\n",
       "    <tr>\n",
       "      <th>GOTU</th>\n",
       "      <td>1.184315</td>\n",
       "    </tr>\n",
       "    <tr>\n",
       "      <th>6338.T</th>\n",
       "      <td>1.100221</td>\n",
       "    </tr>\n",
       "    <tr>\n",
       "      <th>2767.T</th>\n",
       "      <td>1.004610</td>\n",
       "    </tr>\n",
       "    <tr>\n",
       "      <th>000756.SZ</th>\n",
       "      <td>0.937768</td>\n",
       "    </tr>\n",
       "    <tr>\n",
       "      <th>LX</th>\n",
       "      <td>0.932689</td>\n",
       "    </tr>\n",
       "    <tr>\n",
       "      <th>4776.T</th>\n",
       "      <td>0.864831</td>\n",
       "    </tr>\n",
       "    <tr>\n",
       "      <th>NEGG</th>\n",
       "      <td>0.803300</td>\n",
       "    </tr>\n",
       "    <tr>\n",
       "      <th>9274.T</th>\n",
       "      <td>0.711806</td>\n",
       "    </tr>\n",
       "    <tr>\n",
       "      <th>ARU.AX</th>\n",
       "      <td>0.709652</td>\n",
       "    </tr>\n",
       "    <tr>\n",
       "      <th>OCFT</th>\n",
       "      <td>0.684626</td>\n",
       "    </tr>\n",
       "    <tr>\n",
       "      <th>LU</th>\n",
       "      <td>0.639502</td>\n",
       "    </tr>\n",
       "    <tr>\n",
       "      <th>CAAS</th>\n",
       "      <td>0.617132</td>\n",
       "    </tr>\n",
       "  </tbody>\n",
       "</table>\n",
       "</div>"
      ],
      "text/plain": [
       "           PredictedReturn\n",
       "3660.T            1.494197\n",
       "DADA              1.437514\n",
       "GCPEF             1.411325\n",
       "GOTU              1.184315\n",
       "6338.T            1.100221\n",
       "2767.T            1.004610\n",
       "000756.SZ         0.937768\n",
       "LX                0.932689\n",
       "4776.T            0.864831\n",
       "NEGG              0.803300\n",
       "9274.T            0.711806\n",
       "ARU.AX            0.709652\n",
       "OCFT              0.684626\n",
       "LU                0.639502\n",
       "CAAS              0.617132"
      ]
     },
     "execution_count": 85,
     "metadata": {},
     "output_type": "execute_result"
    }
   ],
   "source": [
    "df_u_monthly_rets_pred.sort_values(by='PredictedReturn', ascending=False).head(15)"
   ]
  },
  {
   "cell_type": "code",
   "execution_count": 87,
   "id": "23b80487",
   "metadata": {},
   "outputs": [
    {
     "data": {
      "text/html": [
       "<div>\n",
       "<style scoped>\n",
       "    .dataframe tbody tr th:only-of-type {\n",
       "        vertical-align: middle;\n",
       "    }\n",
       "\n",
       "    .dataframe tbody tr th {\n",
       "        vertical-align: top;\n",
       "    }\n",
       "\n",
       "    .dataframe thead th {\n",
       "        text-align: right;\n",
       "    }\n",
       "</style>\n",
       "<table border=\"1\" class=\"dataframe\">\n",
       "  <thead>\n",
       "    <tr style=\"text-align: right;\">\n",
       "      <th></th>\n",
       "      <th>Open</th>\n",
       "      <th>High</th>\n",
       "      <th>Low</th>\n",
       "      <th>Close</th>\n",
       "      <th>Volume</th>\n",
       "      <th>Dividends</th>\n",
       "      <th>Stock Splits</th>\n",
       "      <th>Capital Gains</th>\n",
       "    </tr>\n",
       "    <tr>\n",
       "      <th>Date</th>\n",
       "      <th></th>\n",
       "      <th></th>\n",
       "      <th></th>\n",
       "      <th></th>\n",
       "      <th></th>\n",
       "      <th></th>\n",
       "      <th></th>\n",
       "      <th></th>\n",
       "    </tr>\n",
       "  </thead>\n",
       "  <tbody>\n",
       "    <tr>\n",
       "      <th>2022-03-09 00:00:00-05:00</th>\n",
       "      <td>58.716235</td>\n",
       "      <td>59.131262</td>\n",
       "      <td>58.409909</td>\n",
       "      <td>59.042328</td>\n",
       "      <td>7410400</td>\n",
       "      <td>0.0</td>\n",
       "      <td>0.0</td>\n",
       "      <td>0.0</td>\n",
       "    </tr>\n",
       "    <tr>\n",
       "      <th>2022-03-10 00:00:00-05:00</th>\n",
       "      <td>58.933629</td>\n",
       "      <td>59.170788</td>\n",
       "      <td>58.558129</td>\n",
       "      <td>58.795288</td>\n",
       "      <td>15922900</td>\n",
       "      <td>0.0</td>\n",
       "      <td>0.0</td>\n",
       "      <td>0.0</td>\n",
       "    </tr>\n",
       "    <tr>\n",
       "      <th>2022-03-11 00:00:00-05:00</th>\n",
       "      <td>58.894104</td>\n",
       "      <td>58.943515</td>\n",
       "      <td>57.777490</td>\n",
       "      <td>57.846661</td>\n",
       "      <td>5751100</td>\n",
       "      <td>0.0</td>\n",
       "      <td>0.0</td>\n",
       "      <td>0.0</td>\n",
       "    </tr>\n",
       "    <tr>\n",
       "      <th>2022-03-14 00:00:00-04:00</th>\n",
       "      <td>58.212275</td>\n",
       "      <td>58.488957</td>\n",
       "      <td>57.777488</td>\n",
       "      <td>57.925709</td>\n",
       "      <td>4843700</td>\n",
       "      <td>0.0</td>\n",
       "      <td>0.0</td>\n",
       "      <td>0.0</td>\n",
       "    </tr>\n",
       "    <tr>\n",
       "      <th>2022-03-15 00:00:00-04:00</th>\n",
       "      <td>58.232041</td>\n",
       "      <td>59.022565</td>\n",
       "      <td>58.143107</td>\n",
       "      <td>58.874344</td>\n",
       "      <td>11392200</td>\n",
       "      <td>0.0</td>\n",
       "      <td>0.0</td>\n",
       "      <td>0.0</td>\n",
       "    </tr>\n",
       "  </tbody>\n",
       "</table>\n",
       "</div>"
      ],
      "text/plain": [
       "                                Open       High        Low      Close  \\\n",
       "Date                                                                    \n",
       "2022-03-09 00:00:00-05:00  58.716235  59.131262  58.409909  59.042328   \n",
       "2022-03-10 00:00:00-05:00  58.933629  59.170788  58.558129  58.795288   \n",
       "2022-03-11 00:00:00-05:00  58.894104  58.943515  57.777490  57.846661   \n",
       "2022-03-14 00:00:00-04:00  58.212275  58.488957  57.777488  57.925709   \n",
       "2022-03-15 00:00:00-04:00  58.232041  59.022565  58.143107  58.874344   \n",
       "\n",
       "                             Volume  Dividends  Stock Splits  Capital Gains  \n",
       "Date                                                                         \n",
       "2022-03-09 00:00:00-05:00   7410400        0.0           0.0            0.0  \n",
       "2022-03-10 00:00:00-05:00  15922900        0.0           0.0            0.0  \n",
       "2022-03-11 00:00:00-05:00   5751100        0.0           0.0            0.0  \n",
       "2022-03-14 00:00:00-04:00   4843700        0.0           0.0            0.0  \n",
       "2022-03-15 00:00:00-04:00  11392200        0.0           0.0            0.0  "
      ]
     },
     "execution_count": 87,
     "metadata": {},
     "output_type": "execute_result"
    }
   ],
   "source": [
    "# calculate monthly returns\n",
    "def calculate_monthly_returns(df):\n",
    "  df_m = df.resample('M').agg(lambda x: (x+1).prod() - 1)\n",
    "  return df_m"
   ]
  },
  {
   "cell_type": "code",
   "execution_count": 92,
   "id": "da620315",
   "metadata": {},
   "outputs": [],
   "source": [
    "def normalize_datetime_index(df):\n",
    "    ndf = df\n",
    "    try:\n",
    "        ndf.index = pd.to_datetime(ndf.index)\n",
    "        ndf.index = ndf.index.tz_localize(None)\n",
    "    except:\n",
    "        pass\n",
    "    return ndf"
   ]
  },
  {
   "cell_type": "code",
   "execution_count": 96,
   "id": "96c09363",
   "metadata": {},
   "outputs": [
    {
     "name": "stderr",
     "output_type": "stream",
     "text": [
      "100%|██████████████████████████████████████████| 44/44 [00:00<00:00, 477.60it/s]"
     ]
    },
    {
     "name": "stdout",
     "output_type": "stream",
     "text": [
      "(251, 44)\n"
     ]
    },
    {
     "name": "stderr",
     "output_type": "stream",
     "text": [
      "\n"
     ]
    },
    {
     "data": {
      "text/html": [
       "<div>\n",
       "<style scoped>\n",
       "    .dataframe tbody tr th:only-of-type {\n",
       "        vertical-align: middle;\n",
       "    }\n",
       "\n",
       "    .dataframe tbody tr th {\n",
       "        vertical-align: top;\n",
       "    }\n",
       "\n",
       "    .dataframe thead th {\n",
       "        text-align: right;\n",
       "    }\n",
       "</style>\n",
       "<table border=\"1\" class=\"dataframe\">\n",
       "  <thead>\n",
       "    <tr style=\"text-align: right;\">\n",
       "      <th></th>\n",
       "      <th>EWJ</th>\n",
       "      <th>MCHI</th>\n",
       "      <th>BBJP</th>\n",
       "      <th>VPL</th>\n",
       "      <th>KWEB</th>\n",
       "      <th>FXI</th>\n",
       "      <th>BBAX</th>\n",
       "      <th>EWT</th>\n",
       "      <th>EWY</th>\n",
       "      <th>AAXJ</th>\n",
       "      <th>...</th>\n",
       "      <th>DBJP</th>\n",
       "      <th>EWJV</th>\n",
       "      <th>EWM</th>\n",
       "      <th>PGJ</th>\n",
       "      <th>DFJ</th>\n",
       "      <th>MINV</th>\n",
       "      <th>ENZL</th>\n",
       "      <th>HEWJ</th>\n",
       "      <th>EPHE</th>\n",
       "      <th>FLCH</th>\n",
       "    </tr>\n",
       "  </thead>\n",
       "  <tbody>\n",
       "    <tr>\n",
       "      <th>2022-03-09 00:00:00</th>\n",
       "      <td>7410400</td>\n",
       "      <td>5066500</td>\n",
       "      <td>377900</td>\n",
       "      <td>3669900</td>\n",
       "      <td>16631600</td>\n",
       "      <td>40442000</td>\n",
       "      <td>225100</td>\n",
       "      <td>3764700</td>\n",
       "      <td>5768500</td>\n",
       "      <td>1901500</td>\n",
       "      <td>...</td>\n",
       "      <td>1300</td>\n",
       "      <td>40800</td>\n",
       "      <td>1166300</td>\n",
       "      <td>51700</td>\n",
       "      <td>50700</td>\n",
       "      <td>NaN</td>\n",
       "      <td>13500</td>\n",
       "      <td>496500</td>\n",
       "      <td>660500</td>\n",
       "      <td>28000</td>\n",
       "    </tr>\n",
       "    <tr>\n",
       "      <th>2022-03-10 00:00:00</th>\n",
       "      <td>15922900</td>\n",
       "      <td>5610300</td>\n",
       "      <td>775600</td>\n",
       "      <td>1536400</td>\n",
       "      <td>31395400</td>\n",
       "      <td>59032900</td>\n",
       "      <td>456800</td>\n",
       "      <td>5670800</td>\n",
       "      <td>8852200</td>\n",
       "      <td>1847500</td>\n",
       "      <td>...</td>\n",
       "      <td>18100</td>\n",
       "      <td>36700</td>\n",
       "      <td>677500</td>\n",
       "      <td>199400</td>\n",
       "      <td>47500</td>\n",
       "      <td>NaN</td>\n",
       "      <td>14900</td>\n",
       "      <td>174500</td>\n",
       "      <td>1423600</td>\n",
       "      <td>40100</td>\n",
       "    </tr>\n",
       "    <tr>\n",
       "      <th>2022-03-11 00:00:00</th>\n",
       "      <td>5751100</td>\n",
       "      <td>7009600</td>\n",
       "      <td>1258400</td>\n",
       "      <td>1139100</td>\n",
       "      <td>37158000</td>\n",
       "      <td>54458400</td>\n",
       "      <td>394900</td>\n",
       "      <td>5459600</td>\n",
       "      <td>5444800</td>\n",
       "      <td>1766600</td>\n",
       "      <td>...</td>\n",
       "      <td>16900</td>\n",
       "      <td>37900</td>\n",
       "      <td>859700</td>\n",
       "      <td>134800</td>\n",
       "      <td>18600</td>\n",
       "      <td>NaN</td>\n",
       "      <td>6100</td>\n",
       "      <td>180800</td>\n",
       "      <td>424300</td>\n",
       "      <td>480100</td>\n",
       "    </tr>\n",
       "    <tr>\n",
       "      <th>2022-03-14 00:00:00</th>\n",
       "      <td>4843700</td>\n",
       "      <td>9771000</td>\n",
       "      <td>768700</td>\n",
       "      <td>976200</td>\n",
       "      <td>56502200</td>\n",
       "      <td>88118800</td>\n",
       "      <td>635200</td>\n",
       "      <td>4043300</td>\n",
       "      <td>8717800</td>\n",
       "      <td>1882700</td>\n",
       "      <td>...</td>\n",
       "      <td>16700</td>\n",
       "      <td>40400</td>\n",
       "      <td>294700</td>\n",
       "      <td>422900</td>\n",
       "      <td>5400</td>\n",
       "      <td>NaN</td>\n",
       "      <td>9500</td>\n",
       "      <td>342400</td>\n",
       "      <td>312100</td>\n",
       "      <td>88900</td>\n",
       "    </tr>\n",
       "    <tr>\n",
       "      <th>2022-03-15 00:00:00</th>\n",
       "      <td>11392200</td>\n",
       "      <td>13852200</td>\n",
       "      <td>1289700</td>\n",
       "      <td>1506200</td>\n",
       "      <td>65256200</td>\n",
       "      <td>116703800</td>\n",
       "      <td>567400</td>\n",
       "      <td>4992100</td>\n",
       "      <td>5357800</td>\n",
       "      <td>5299300</td>\n",
       "      <td>...</td>\n",
       "      <td>6700</td>\n",
       "      <td>19000</td>\n",
       "      <td>566700</td>\n",
       "      <td>319200</td>\n",
       "      <td>21200</td>\n",
       "      <td>NaN</td>\n",
       "      <td>6600</td>\n",
       "      <td>438300</td>\n",
       "      <td>456400</td>\n",
       "      <td>90600</td>\n",
       "    </tr>\n",
       "  </tbody>\n",
       "</table>\n",
       "<p>5 rows × 44 columns</p>\n",
       "</div>"
      ],
      "text/plain": [
       "                          EWJ      MCHI     BBJP      VPL      KWEB  \\\n",
       "2022-03-09 00:00:00   7410400   5066500   377900  3669900  16631600   \n",
       "2022-03-10 00:00:00  15922900   5610300   775600  1536400  31395400   \n",
       "2022-03-11 00:00:00   5751100   7009600  1258400  1139100  37158000   \n",
       "2022-03-14 00:00:00   4843700   9771000   768700   976200  56502200   \n",
       "2022-03-15 00:00:00  11392200  13852200  1289700  1506200  65256200   \n",
       "\n",
       "                           FXI    BBAX      EWT      EWY     AAXJ  ...   DBJP  \\\n",
       "2022-03-09 00:00:00   40442000  225100  3764700  5768500  1901500  ...   1300   \n",
       "2022-03-10 00:00:00   59032900  456800  5670800  8852200  1847500  ...  18100   \n",
       "2022-03-11 00:00:00   54458400  394900  5459600  5444800  1766600  ...  16900   \n",
       "2022-03-14 00:00:00   88118800  635200  4043300  8717800  1882700  ...  16700   \n",
       "2022-03-15 00:00:00  116703800  567400  4992100  5357800  5299300  ...   6700   \n",
       "\n",
       "                      EWJV      EWM     PGJ    DFJ  MINV   ENZL    HEWJ  \\\n",
       "2022-03-09 00:00:00  40800  1166300   51700  50700   NaN  13500  496500   \n",
       "2022-03-10 00:00:00  36700   677500  199400  47500   NaN  14900  174500   \n",
       "2022-03-11 00:00:00  37900   859700  134800  18600   NaN   6100  180800   \n",
       "2022-03-14 00:00:00  40400   294700  422900   5400   NaN   9500  342400   \n",
       "2022-03-15 00:00:00  19000   566700  319200  21200   NaN   6600  438300   \n",
       "\n",
       "                        EPHE    FLCH  \n",
       "2022-03-09 00:00:00   660500   28000  \n",
       "2022-03-10 00:00:00  1423600   40100  \n",
       "2022-03-11 00:00:00   424300  480100  \n",
       "2022-03-14 00:00:00   312100   88900  \n",
       "2022-03-15 00:00:00   456400   90600  \n",
       "\n",
       "[5 rows x 44 columns]"
      ]
     },
     "execution_count": 96,
     "metadata": {},
     "output_type": "execute_result"
    }
   ],
   "source": [
    "df_c_volume = pd.DataFrame()\n",
    "for ticker in tqdm(COUNTRY_ETF_TICKERS):\n",
    "    df_c_volume = pd.concat([\n",
    "        df_c_volume,\n",
    "        normalize_datetime_index(\n",
    "            etf_histories[ticker]['Volume']\n",
    "        )\n",
    "    ],\n",
    "    axis=1\n",
    "    )\n",
    "    df_c_volume = df_c_volume.rename(columns={'Volume': ticker})\n",
    "    \n",
    "print(df_c_volume.shape)\n",
    "df_c_volume.head()"
   ]
  },
  {
   "cell_type": "code",
   "execution_count": 97,
   "id": "ed370dc6",
   "metadata": {},
   "outputs": [
    {
     "name": "stderr",
     "output_type": "stream",
     "text": [
      "100%|████████████████████████████████████████| 264/264 [00:00<00:00, 783.71it/s]"
     ]
    },
    {
     "name": "stdout",
     "output_type": "stream",
     "text": [
      "(251, 264)\n"
     ]
    },
    {
     "name": "stderr",
     "output_type": "stream",
     "text": [
      "\n"
     ]
    },
    {
     "data": {
      "text/html": [
       "<div>\n",
       "<style scoped>\n",
       "    .dataframe tbody tr th:only-of-type {\n",
       "        vertical-align: middle;\n",
       "    }\n",
       "\n",
       "    .dataframe tbody tr th {\n",
       "        vertical-align: top;\n",
       "    }\n",
       "\n",
       "    .dataframe thead th {\n",
       "        text-align: right;\n",
       "    }\n",
       "</style>\n",
       "<table border=\"1\" class=\"dataframe\">\n",
       "  <thead>\n",
       "    <tr style=\"text-align: right;\">\n",
       "      <th></th>\n",
       "      <th>VGT</th>\n",
       "      <th>XLK</th>\n",
       "      <th>XLE</th>\n",
       "      <th>XLV</th>\n",
       "      <th>XLF</th>\n",
       "      <th>XLP</th>\n",
       "      <th>VHT</th>\n",
       "      <th>XLU</th>\n",
       "      <th>XLI</th>\n",
       "      <th>XLY</th>\n",
       "      <th>...</th>\n",
       "      <th>EIPX</th>\n",
       "      <th>PXJ</th>\n",
       "      <th>QTUM</th>\n",
       "      <th>KCE</th>\n",
       "      <th>LEGR</th>\n",
       "      <th>XHS</th>\n",
       "      <th>IGN</th>\n",
       "      <th>HTEC</th>\n",
       "      <th>GDOC</th>\n",
       "      <th>SBIO</th>\n",
       "    </tr>\n",
       "  </thead>\n",
       "  <tbody>\n",
       "    <tr>\n",
       "      <th>2022-03-09 00:00:00</th>\n",
       "      <td>664500</td>\n",
       "      <td>17663700</td>\n",
       "      <td>87018200</td>\n",
       "      <td>15576500</td>\n",
       "      <td>88716400</td>\n",
       "      <td>18254000</td>\n",
       "      <td>178100</td>\n",
       "      <td>25476900</td>\n",
       "      <td>18757400</td>\n",
       "      <td>15969100</td>\n",
       "      <td>...</td>\n",
       "      <td>NaN</td>\n",
       "      <td>1120400</td>\n",
       "      <td>17100</td>\n",
       "      <td>22100</td>\n",
       "      <td>13500</td>\n",
       "      <td>4000</td>\n",
       "      <td>11400</td>\n",
       "      <td>27700</td>\n",
       "      <td>1300</td>\n",
       "      <td>14800</td>\n",
       "    </tr>\n",
       "    <tr>\n",
       "      <th>2022-03-10 00:00:00</th>\n",
       "      <td>988300</td>\n",
       "      <td>13724200</td>\n",
       "      <td>68901300</td>\n",
       "      <td>10708800</td>\n",
       "      <td>71547300</td>\n",
       "      <td>21892400</td>\n",
       "      <td>128200</td>\n",
       "      <td>17019900</td>\n",
       "      <td>13317200</td>\n",
       "      <td>12927400</td>\n",
       "      <td>...</td>\n",
       "      <td>NaN</td>\n",
       "      <td>952800</td>\n",
       "      <td>12300</td>\n",
       "      <td>51300</td>\n",
       "      <td>10100</td>\n",
       "      <td>3500</td>\n",
       "      <td>126000</td>\n",
       "      <td>27100</td>\n",
       "      <td>1700</td>\n",
       "      <td>7800</td>\n",
       "    </tr>\n",
       "    <tr>\n",
       "      <th>2022-03-11 00:00:00</th>\n",
       "      <td>796300</td>\n",
       "      <td>10728900</td>\n",
       "      <td>45918900</td>\n",
       "      <td>9869100</td>\n",
       "      <td>76788200</td>\n",
       "      <td>14276500</td>\n",
       "      <td>167500</td>\n",
       "      <td>12494200</td>\n",
       "      <td>10695200</td>\n",
       "      <td>12078200</td>\n",
       "      <td>...</td>\n",
       "      <td>NaN</td>\n",
       "      <td>474200</td>\n",
       "      <td>15100</td>\n",
       "      <td>13700</td>\n",
       "      <td>22400</td>\n",
       "      <td>3900</td>\n",
       "      <td>31700</td>\n",
       "      <td>30300</td>\n",
       "      <td>2500</td>\n",
       "      <td>11000</td>\n",
       "    </tr>\n",
       "    <tr>\n",
       "      <th>2022-03-14 00:00:00</th>\n",
       "      <td>1091500</td>\n",
       "      <td>13926200</td>\n",
       "      <td>50745000</td>\n",
       "      <td>14373200</td>\n",
       "      <td>70969700</td>\n",
       "      <td>18438900</td>\n",
       "      <td>179300</td>\n",
       "      <td>20502300</td>\n",
       "      <td>12988000</td>\n",
       "      <td>15174600</td>\n",
       "      <td>...</td>\n",
       "      <td>NaN</td>\n",
       "      <td>394700</td>\n",
       "      <td>50400</td>\n",
       "      <td>47100</td>\n",
       "      <td>8800</td>\n",
       "      <td>3700</td>\n",
       "      <td>21300</td>\n",
       "      <td>93800</td>\n",
       "      <td>1500</td>\n",
       "      <td>18500</td>\n",
       "    </tr>\n",
       "    <tr>\n",
       "      <th>2022-03-15 00:00:00</th>\n",
       "      <td>508600</td>\n",
       "      <td>11496900</td>\n",
       "      <td>62362200</td>\n",
       "      <td>14374100</td>\n",
       "      <td>51828700</td>\n",
       "      <td>17078100</td>\n",
       "      <td>180500</td>\n",
       "      <td>14502200</td>\n",
       "      <td>11204900</td>\n",
       "      <td>13560200</td>\n",
       "      <td>...</td>\n",
       "      <td>NaN</td>\n",
       "      <td>482500</td>\n",
       "      <td>12000</td>\n",
       "      <td>18700</td>\n",
       "      <td>16100</td>\n",
       "      <td>3100</td>\n",
       "      <td>43400</td>\n",
       "      <td>43800</td>\n",
       "      <td>100</td>\n",
       "      <td>19100</td>\n",
       "    </tr>\n",
       "  </tbody>\n",
       "</table>\n",
       "<p>5 rows × 264 columns</p>\n",
       "</div>"
      ],
      "text/plain": [
       "                         VGT       XLK       XLE       XLV       XLF  \\\n",
       "2022-03-09 00:00:00   664500  17663700  87018200  15576500  88716400   \n",
       "2022-03-10 00:00:00   988300  13724200  68901300  10708800  71547300   \n",
       "2022-03-11 00:00:00   796300  10728900  45918900   9869100  76788200   \n",
       "2022-03-14 00:00:00  1091500  13926200  50745000  14373200  70969700   \n",
       "2022-03-15 00:00:00   508600  11496900  62362200  14374100  51828700   \n",
       "\n",
       "                          XLP     VHT       XLU       XLI       XLY  ...  \\\n",
       "2022-03-09 00:00:00  18254000  178100  25476900  18757400  15969100  ...   \n",
       "2022-03-10 00:00:00  21892400  128200  17019900  13317200  12927400  ...   \n",
       "2022-03-11 00:00:00  14276500  167500  12494200  10695200  12078200  ...   \n",
       "2022-03-14 00:00:00  18438900  179300  20502300  12988000  15174600  ...   \n",
       "2022-03-15 00:00:00  17078100  180500  14502200  11204900  13560200  ...   \n",
       "\n",
       "                     EIPX      PXJ   QTUM    KCE   LEGR   XHS     IGN   HTEC  \\\n",
       "2022-03-09 00:00:00   NaN  1120400  17100  22100  13500  4000   11400  27700   \n",
       "2022-03-10 00:00:00   NaN   952800  12300  51300  10100  3500  126000  27100   \n",
       "2022-03-11 00:00:00   NaN   474200  15100  13700  22400  3900   31700  30300   \n",
       "2022-03-14 00:00:00   NaN   394700  50400  47100   8800  3700   21300  93800   \n",
       "2022-03-15 00:00:00   NaN   482500  12000  18700  16100  3100   43400  43800   \n",
       "\n",
       "                     GDOC   SBIO  \n",
       "2022-03-09 00:00:00  1300  14800  \n",
       "2022-03-10 00:00:00  1700   7800  \n",
       "2022-03-11 00:00:00  2500  11000  \n",
       "2022-03-14 00:00:00  1500  18500  \n",
       "2022-03-15 00:00:00   100  19100  \n",
       "\n",
       "[5 rows x 264 columns]"
      ]
     },
     "execution_count": 97,
     "metadata": {},
     "output_type": "execute_result"
    }
   ],
   "source": [
    "df_s_volume = pd.DataFrame()\n",
    "for ticker in tqdm(SECTOR_ETF_TICKERS):\n",
    "    df_s_volume = pd.concat([\n",
    "        df_s_volume,\n",
    "        normalize_datetime_index(\n",
    "            etf_histories[ticker]['Volume']\n",
    "        )\n",
    "    ],\n",
    "    axis=1\n",
    "    )\n",
    "    df_s_volume = df_s_volume.rename(columns={'Volume': ticker})\n",
    "\n",
    "print(df_s_volume.shape)\n",
    "df_s_volume.head()"
   ]
  },
  {
   "cell_type": "code",
   "execution_count": 95,
   "id": "e388aa3b",
   "metadata": {},
   "outputs": [
    {
     "name": "stderr",
     "output_type": "stream",
     "text": [
      "100%|██████████████████████████████████████| 4063/4063 [00:11<00:00, 344.39it/s]"
     ]
    },
    {
     "name": "stdout",
     "output_type": "stream",
     "text": [
      "(261, 4063)\n"
     ]
    },
    {
     "name": "stderr",
     "output_type": "stream",
     "text": [
      "\n"
     ]
    },
    {
     "data": {
      "text/html": [
       "<div>\n",
       "<style scoped>\n",
       "    .dataframe tbody tr th:only-of-type {\n",
       "        vertical-align: middle;\n",
       "    }\n",
       "\n",
       "    .dataframe tbody tr th {\n",
       "        vertical-align: top;\n",
       "    }\n",
       "\n",
       "    .dataframe thead th {\n",
       "        text-align: right;\n",
       "    }\n",
       "</style>\n",
       "<table border=\"1\" class=\"dataframe\">\n",
       "  <thead>\n",
       "    <tr style=\"text-align: right;\">\n",
       "      <th></th>\n",
       "      <th>0700.HK</th>\n",
       "      <th>BABA</th>\n",
       "      <th>3690.HK</th>\n",
       "      <th>0939.HK</th>\n",
       "      <th>PDD</th>\n",
       "      <th>2318.HK</th>\n",
       "      <th>JD</th>\n",
       "      <th>BIDU</th>\n",
       "      <th>1398.HK</th>\n",
       "      <th>NTES</th>\n",
       "      <th>...</th>\n",
       "      <th>688561.SS</th>\n",
       "      <th>688169.SS</th>\n",
       "      <th>688303.SS</th>\n",
       "      <th>603195.SS</th>\n",
       "      <th>600606.SS</th>\n",
       "      <th>688065.SS</th>\n",
       "      <th>605499.SS</th>\n",
       "      <th>601236.SS</th>\n",
       "      <th>300979.SZ</th>\n",
       "      <th>001289.SZ</th>\n",
       "    </tr>\n",
       "  </thead>\n",
       "  <tbody>\n",
       "    <tr>\n",
       "      <th>2022-03-09 00:00:00</th>\n",
       "      <td>33209737.0</td>\n",
       "      <td>20853600.0</td>\n",
       "      <td>40551427.0</td>\n",
       "      <td>436940704.0</td>\n",
       "      <td>7731200.0</td>\n",
       "      <td>38150491.0</td>\n",
       "      <td>9487300.0</td>\n",
       "      <td>3303000.0</td>\n",
       "      <td>294831097.0</td>\n",
       "      <td>3654700.0</td>\n",
       "      <td>...</td>\n",
       "      <td>3113310.0</td>\n",
       "      <td>818528.0</td>\n",
       "      <td>7539227.0</td>\n",
       "      <td>860472.0</td>\n",
       "      <td>54096126.0</td>\n",
       "      <td>1775545.0</td>\n",
       "      <td>1044928.0</td>\n",
       "      <td>14217675.0</td>\n",
       "      <td>1658895.0</td>\n",
       "      <td>22259464.0</td>\n",
       "    </tr>\n",
       "    <tr>\n",
       "      <th>2022-03-10 00:00:00</th>\n",
       "      <td>24062703.0</td>\n",
       "      <td>37671200.0</td>\n",
       "      <td>35919402.0</td>\n",
       "      <td>328950220.0</td>\n",
       "      <td>18296900.0</td>\n",
       "      <td>27457662.0</td>\n",
       "      <td>55348100.0</td>\n",
       "      <td>4452300.0</td>\n",
       "      <td>170116737.0</td>\n",
       "      <td>5597700.0</td>\n",
       "      <td>...</td>\n",
       "      <td>2292586.0</td>\n",
       "      <td>1091686.0</td>\n",
       "      <td>11634584.0</td>\n",
       "      <td>678855.0</td>\n",
       "      <td>35343896.0</td>\n",
       "      <td>1579177.0</td>\n",
       "      <td>796417.0</td>\n",
       "      <td>8656122.0</td>\n",
       "      <td>1508246.0</td>\n",
       "      <td>20755385.0</td>\n",
       "    </tr>\n",
       "    <tr>\n",
       "      <th>2022-03-11 00:00:00</th>\n",
       "      <td>48435608.0</td>\n",
       "      <td>39341800.0</td>\n",
       "      <td>72625389.0</td>\n",
       "      <td>278126910.0</td>\n",
       "      <td>17274400.0</td>\n",
       "      <td>34598291.0</td>\n",
       "      <td>32963000.0</td>\n",
       "      <td>7837300.0</td>\n",
       "      <td>243770862.0</td>\n",
       "      <td>4742700.0</td>\n",
       "      <td>...</td>\n",
       "      <td>2334723.0</td>\n",
       "      <td>863513.0</td>\n",
       "      <td>7668172.0</td>\n",
       "      <td>636000.0</td>\n",
       "      <td>50465649.0</td>\n",
       "      <td>1159095.0</td>\n",
       "      <td>780754.0</td>\n",
       "      <td>17118222.0</td>\n",
       "      <td>2289422.0</td>\n",
       "      <td>14199023.0</td>\n",
       "    </tr>\n",
       "    <tr>\n",
       "      <th>2022-03-14 00:00:00</th>\n",
       "      <td>66910165.0</td>\n",
       "      <td>69992600.0</td>\n",
       "      <td>103004664.0</td>\n",
       "      <td>499697978.0</td>\n",
       "      <td>32943500.0</td>\n",
       "      <td>39426431.0</td>\n",
       "      <td>47477300.0</td>\n",
       "      <td>13559900.0</td>\n",
       "      <td>338753089.0</td>\n",
       "      <td>6159000.0</td>\n",
       "      <td>...</td>\n",
       "      <td>2425185.0</td>\n",
       "      <td>791243.0</td>\n",
       "      <td>7061263.0</td>\n",
       "      <td>607813.0</td>\n",
       "      <td>36354450.0</td>\n",
       "      <td>1198255.0</td>\n",
       "      <td>1089759.0</td>\n",
       "      <td>10671788.0</td>\n",
       "      <td>1698430.0</td>\n",
       "      <td>10689606.0</td>\n",
       "    </tr>\n",
       "    <tr>\n",
       "      <th>2022-03-15 00:00:00</th>\n",
       "      <td>118398276.0</td>\n",
       "      <td>86209300.0</td>\n",
       "      <td>105044140.0</td>\n",
       "      <td>566144787.0</td>\n",
       "      <td>56774300.0</td>\n",
       "      <td>114500513.0</td>\n",
       "      <td>39194500.0</td>\n",
       "      <td>9396400.0</td>\n",
       "      <td>517738144.0</td>\n",
       "      <td>4652000.0</td>\n",
       "      <td>...</td>\n",
       "      <td>3388645.0</td>\n",
       "      <td>696236.0</td>\n",
       "      <td>5060311.0</td>\n",
       "      <td>1326037.0</td>\n",
       "      <td>69402976.0</td>\n",
       "      <td>1504970.0</td>\n",
       "      <td>872903.0</td>\n",
       "      <td>14521967.0</td>\n",
       "      <td>1931991.0</td>\n",
       "      <td>13197613.0</td>\n",
       "    </tr>\n",
       "  </tbody>\n",
       "</table>\n",
       "<p>5 rows × 4063 columns</p>\n",
       "</div>"
      ],
      "text/plain": [
       "                         0700.HK        BABA      3690.HK      0939.HK  \\\n",
       "2022-03-09 00:00:00   33209737.0  20853600.0   40551427.0  436940704.0   \n",
       "2022-03-10 00:00:00   24062703.0  37671200.0   35919402.0  328950220.0   \n",
       "2022-03-11 00:00:00   48435608.0  39341800.0   72625389.0  278126910.0   \n",
       "2022-03-14 00:00:00   66910165.0  69992600.0  103004664.0  499697978.0   \n",
       "2022-03-15 00:00:00  118398276.0  86209300.0  105044140.0  566144787.0   \n",
       "\n",
       "                            PDD      2318.HK          JD        BIDU  \\\n",
       "2022-03-09 00:00:00   7731200.0   38150491.0   9487300.0   3303000.0   \n",
       "2022-03-10 00:00:00  18296900.0   27457662.0  55348100.0   4452300.0   \n",
       "2022-03-11 00:00:00  17274400.0   34598291.0  32963000.0   7837300.0   \n",
       "2022-03-14 00:00:00  32943500.0   39426431.0  47477300.0  13559900.0   \n",
       "2022-03-15 00:00:00  56774300.0  114500513.0  39194500.0   9396400.0   \n",
       "\n",
       "                         1398.HK       NTES  ...  688561.SS  688169.SS  \\\n",
       "2022-03-09 00:00:00  294831097.0  3654700.0  ...  3113310.0   818528.0   \n",
       "2022-03-10 00:00:00  170116737.0  5597700.0  ...  2292586.0  1091686.0   \n",
       "2022-03-11 00:00:00  243770862.0  4742700.0  ...  2334723.0   863513.0   \n",
       "2022-03-14 00:00:00  338753089.0  6159000.0  ...  2425185.0   791243.0   \n",
       "2022-03-15 00:00:00  517738144.0  4652000.0  ...  3388645.0   696236.0   \n",
       "\n",
       "                      688303.SS  603195.SS   600606.SS  688065.SS  605499.SS  \\\n",
       "2022-03-09 00:00:00   7539227.0   860472.0  54096126.0  1775545.0  1044928.0   \n",
       "2022-03-10 00:00:00  11634584.0   678855.0  35343896.0  1579177.0   796417.0   \n",
       "2022-03-11 00:00:00   7668172.0   636000.0  50465649.0  1159095.0   780754.0   \n",
       "2022-03-14 00:00:00   7061263.0   607813.0  36354450.0  1198255.0  1089759.0   \n",
       "2022-03-15 00:00:00   5060311.0  1326037.0  69402976.0  1504970.0   872903.0   \n",
       "\n",
       "                      601236.SS  300979.SZ   001289.SZ  \n",
       "2022-03-09 00:00:00  14217675.0  1658895.0  22259464.0  \n",
       "2022-03-10 00:00:00   8656122.0  1508246.0  20755385.0  \n",
       "2022-03-11 00:00:00  17118222.0  2289422.0  14199023.0  \n",
       "2022-03-14 00:00:00  10671788.0  1698430.0  10689606.0  \n",
       "2022-03-15 00:00:00  14521967.0  1931991.0  13197613.0  \n",
       "\n",
       "[5 rows x 4063 columns]"
      ]
     },
     "execution_count": 95,
     "metadata": {},
     "output_type": "execute_result"
    }
   ],
   "source": [
    "df_u_volume = pd.DataFrame()\n",
    "for ticker in tqdm(underlying_tickers):\n",
    "    df_u_volume = pd.concat([\n",
    "        df_u_volume,\n",
    "        normalize_datetime_index(\n",
    "            stock_histories[ticker]['Volume']\n",
    "        )\n",
    "    ],\n",
    "    axis=1\n",
    "    )\n",
    "    df_u_volume = df_u_volume.rename(columns={'Volume': ticker})\n",
    "\n",
    "print(df_u_volume.shape)\n",
    "df_u_volume.head()"
   ]
  },
  {
   "cell_type": "code",
   "execution_count": 98,
   "id": "04127a94",
   "metadata": {},
   "outputs": [
    {
     "data": {
      "text/html": [
       "<div>\n",
       "<style scoped>\n",
       "    .dataframe tbody tr th:only-of-type {\n",
       "        vertical-align: middle;\n",
       "    }\n",
       "\n",
       "    .dataframe tbody tr th {\n",
       "        vertical-align: top;\n",
       "    }\n",
       "\n",
       "    .dataframe thead th {\n",
       "        text-align: right;\n",
       "    }\n",
       "</style>\n",
       "<table border=\"1\" class=\"dataframe\">\n",
       "  <thead>\n",
       "    <tr style=\"text-align: right;\">\n",
       "      <th></th>\n",
       "      <th>Unnamed: 0</th>\n",
       "      <th>ETF Ticker</th>\n",
       "      <th>Underlying Ticker</th>\n",
       "      <th>Type</th>\n",
       "      <th>Underlying</th>\n",
       "    </tr>\n",
       "  </thead>\n",
       "  <tbody>\n",
       "    <tr>\n",
       "      <th>0</th>\n",
       "      <td>0</td>\n",
       "      <td>GXC</td>\n",
       "      <td>700 HK Equity</td>\n",
       "      <td>HK Equity</td>\n",
       "      <td>0700.HK</td>\n",
       "    </tr>\n",
       "    <tr>\n",
       "      <th>1</th>\n",
       "      <td>1</td>\n",
       "      <td>GXC</td>\n",
       "      <td>BABA US Equity</td>\n",
       "      <td>US Equity</td>\n",
       "      <td>BABA</td>\n",
       "    </tr>\n",
       "    <tr>\n",
       "      <th>2</th>\n",
       "      <td>2</td>\n",
       "      <td>GXC</td>\n",
       "      <td>3690 HK Equity</td>\n",
       "      <td>HK Equity</td>\n",
       "      <td>3690.HK</td>\n",
       "    </tr>\n",
       "    <tr>\n",
       "      <th>3</th>\n",
       "      <td>3</td>\n",
       "      <td>GXC</td>\n",
       "      <td>939 HK Equity</td>\n",
       "      <td>HK Equity</td>\n",
       "      <td>0939.HK</td>\n",
       "    </tr>\n",
       "    <tr>\n",
       "      <th>4</th>\n",
       "      <td>4</td>\n",
       "      <td>GXC</td>\n",
       "      <td>PDD US Equity</td>\n",
       "      <td>US Equity</td>\n",
       "      <td>PDD</td>\n",
       "    </tr>\n",
       "  </tbody>\n",
       "</table>\n",
       "</div>"
      ],
      "text/plain": [
       "   Unnamed: 0 ETF Ticker Underlying Ticker       Type Underlying\n",
       "0           0        GXC     700 HK Equity  HK Equity    0700.HK\n",
       "1           1        GXC    BABA US Equity  US Equity       BABA\n",
       "2           2        GXC    3690 HK Equity  HK Equity    3690.HK\n",
       "3           3        GXC     939 HK Equity  HK Equity    0939.HK\n",
       "4           4        GXC     PDD US Equity  US Equity        PDD"
      ]
     },
     "execution_count": 98,
     "metadata": {},
     "output_type": "execute_result"
    }
   ],
   "source": [
    "df_underlyings.head()"
   ]
  },
  {
   "cell_type": "code",
   "execution_count": 99,
   "id": "c51e48a3",
   "metadata": {},
   "outputs": [],
   "source": [
    "df_underlyings.loc[:, 'CountryETF'] = df_underlyings['ETF Ticker'].apply(\n",
    "    lambda x: True if x in COUNTRY_ETF_TICKERS else False\n",
    ")\n",
    "df_underlyings.loc[:, 'SectorETF'] = df_underlyings['ETF Ticker'].apply(\n",
    "    lambda x: True if x in SECTOR_ETF_TICKERS else False\n",
    ")"
   ]
  },
  {
   "cell_type": "code",
   "execution_count": 162,
   "id": "24f43084",
   "metadata": {},
   "outputs": [
    {
     "data": {
      "text/plain": [
       "array(['GXC', 'AAXJ', 'DXJ', 'DBJP', 'PGJ', 'EWJ', 'EEMA', 'GMF', 'EWT',\n",
       "       'EWA', 'AIA', 'EWY', 'DFJ', 'FLJP', 'IPAC', 'BBJP', 'BBAX', 'CXSE',\n",
       "       'KBA', 'MINV', 'MCHI', 'EPP', 'FLCH', 'EWJV', 'FXI', 'VPL', 'FLKR',\n",
       "       'CNYA', 'ASHR', 'EWH'], dtype=object)"
      ]
     },
     "execution_count": 162,
     "metadata": {},
     "output_type": "execute_result"
    }
   ],
   "source": [
    "df_underlyings['ETF Ticker'].unique()"
   ]
  },
  {
   "cell_type": "code",
   "execution_count": 100,
   "id": "89de9183",
   "metadata": {},
   "outputs": [
    {
     "data": {
      "text/html": [
       "<div>\n",
       "<style scoped>\n",
       "    .dataframe tbody tr th:only-of-type {\n",
       "        vertical-align: middle;\n",
       "    }\n",
       "\n",
       "    .dataframe tbody tr th {\n",
       "        vertical-align: top;\n",
       "    }\n",
       "\n",
       "    .dataframe thead th {\n",
       "        text-align: right;\n",
       "    }\n",
       "</style>\n",
       "<table border=\"1\" class=\"dataframe\">\n",
       "  <thead>\n",
       "    <tr style=\"text-align: right;\">\n",
       "      <th></th>\n",
       "      <th>Unnamed: 0</th>\n",
       "      <th>ETF Ticker</th>\n",
       "      <th>Underlying Ticker</th>\n",
       "      <th>Type</th>\n",
       "      <th>Underlying</th>\n",
       "      <th>CountryETF</th>\n",
       "      <th>SectorETF</th>\n",
       "    </tr>\n",
       "  </thead>\n",
       "  <tbody>\n",
       "    <tr>\n",
       "      <th>0</th>\n",
       "      <td>0</td>\n",
       "      <td>GXC</td>\n",
       "      <td>700 HK Equity</td>\n",
       "      <td>HK Equity</td>\n",
       "      <td>0700.HK</td>\n",
       "      <td>True</td>\n",
       "      <td>False</td>\n",
       "    </tr>\n",
       "    <tr>\n",
       "      <th>1</th>\n",
       "      <td>1</td>\n",
       "      <td>GXC</td>\n",
       "      <td>BABA US Equity</td>\n",
       "      <td>US Equity</td>\n",
       "      <td>BABA</td>\n",
       "      <td>True</td>\n",
       "      <td>False</td>\n",
       "    </tr>\n",
       "    <tr>\n",
       "      <th>2</th>\n",
       "      <td>2</td>\n",
       "      <td>GXC</td>\n",
       "      <td>3690 HK Equity</td>\n",
       "      <td>HK Equity</td>\n",
       "      <td>3690.HK</td>\n",
       "      <td>True</td>\n",
       "      <td>False</td>\n",
       "    </tr>\n",
       "    <tr>\n",
       "      <th>3</th>\n",
       "      <td>3</td>\n",
       "      <td>GXC</td>\n",
       "      <td>939 HK Equity</td>\n",
       "      <td>HK Equity</td>\n",
       "      <td>0939.HK</td>\n",
       "      <td>True</td>\n",
       "      <td>False</td>\n",
       "    </tr>\n",
       "    <tr>\n",
       "      <th>4</th>\n",
       "      <td>4</td>\n",
       "      <td>GXC</td>\n",
       "      <td>PDD US Equity</td>\n",
       "      <td>US Equity</td>\n",
       "      <td>PDD</td>\n",
       "      <td>True</td>\n",
       "      <td>False</td>\n",
       "    </tr>\n",
       "  </tbody>\n",
       "</table>\n",
       "</div>"
      ],
      "text/plain": [
       "   Unnamed: 0 ETF Ticker Underlying Ticker       Type Underlying  CountryETF  \\\n",
       "0           0        GXC     700 HK Equity  HK Equity    0700.HK        True   \n",
       "1           1        GXC    BABA US Equity  US Equity       BABA        True   \n",
       "2           2        GXC    3690 HK Equity  HK Equity    3690.HK        True   \n",
       "3           3        GXC     939 HK Equity  HK Equity    0939.HK        True   \n",
       "4           4        GXC     PDD US Equity  US Equity        PDD        True   \n",
       "\n",
       "   SectorETF  \n",
       "0      False  \n",
       "1      False  \n",
       "2      False  \n",
       "3      False  \n",
       "4      False  "
      ]
     },
     "execution_count": 100,
     "metadata": {},
     "output_type": "execute_result"
    }
   ],
   "source": [
    "df_underlyings.head()"
   ]
  },
  {
   "cell_type": "code",
   "execution_count": 105,
   "id": "b172798b",
   "metadata": {},
   "outputs": [],
   "source": [
    "df_underlyings = df_underlyings.drop(\n",
    "    df_underlyings.query('CountryETF == True & SectorETF == True').index,\n",
    "    axis=0\n",
    ")"
   ]
  },
  {
   "cell_type": "code",
   "execution_count": 106,
   "id": "5a9f9145",
   "metadata": {},
   "outputs": [
    {
     "data": {
      "text/plain": [
       "(13211, 7)"
      ]
     },
     "execution_count": 106,
     "metadata": {},
     "output_type": "execute_result"
    }
   ],
   "source": [
    "df_underlyings.shape"
   ]
  },
  {
   "cell_type": "code",
   "execution_count": 107,
   "id": "664390d5",
   "metadata": {},
   "outputs": [
    {
     "name": "stdout",
     "output_type": "stream",
     "text": [
      "(251, 44)\n",
      "(251, 264)\n",
      "(261, 4063)\n"
     ]
    }
   ],
   "source": [
    "print(df_c_volume.shape)\n",
    "print(df_s_volume.shape)\n",
    "print(df_u_volume.shape)"
   ]
  },
  {
   "cell_type": "code",
   "execution_count": 108,
   "id": "769b7b32",
   "metadata": {},
   "outputs": [],
   "source": [
    "# get monthly volume\n",
    "def calculate_monthly_volume(df):\n",
    "    df_m = df.resample('M').agg(np.sum)\n",
    "    return df_m"
   ]
  },
  {
   "cell_type": "code",
   "execution_count": 110,
   "id": "a79f1889",
   "metadata": {},
   "outputs": [
    {
     "name": "stdout",
     "output_type": "stream",
     "text": [
      "(13, 44)\n"
     ]
    },
    {
     "data": {
      "text/html": [
       "<div>\n",
       "<style scoped>\n",
       "    .dataframe tbody tr th:only-of-type {\n",
       "        vertical-align: middle;\n",
       "    }\n",
       "\n",
       "    .dataframe tbody tr th {\n",
       "        vertical-align: top;\n",
       "    }\n",
       "\n",
       "    .dataframe thead th {\n",
       "        text-align: right;\n",
       "    }\n",
       "</style>\n",
       "<table border=\"1\" class=\"dataframe\">\n",
       "  <thead>\n",
       "    <tr style=\"text-align: right;\">\n",
       "      <th></th>\n",
       "      <th>EWJ</th>\n",
       "      <th>MCHI</th>\n",
       "      <th>BBJP</th>\n",
       "      <th>VPL</th>\n",
       "      <th>KWEB</th>\n",
       "      <th>FXI</th>\n",
       "      <th>BBAX</th>\n",
       "      <th>EWT</th>\n",
       "      <th>EWY</th>\n",
       "      <th>AAXJ</th>\n",
       "      <th>...</th>\n",
       "      <th>DBJP</th>\n",
       "      <th>EWJV</th>\n",
       "      <th>EWM</th>\n",
       "      <th>PGJ</th>\n",
       "      <th>DFJ</th>\n",
       "      <th>MINV</th>\n",
       "      <th>ENZL</th>\n",
       "      <th>HEWJ</th>\n",
       "      <th>EPHE</th>\n",
       "      <th>FLCH</th>\n",
       "    </tr>\n",
       "  </thead>\n",
       "  <tbody>\n",
       "    <tr>\n",
       "      <th>2022-03-31</th>\n",
       "      <td>123338300</td>\n",
       "      <td>154003100</td>\n",
       "      <td>12096600</td>\n",
       "      <td>19023700</td>\n",
       "      <td>666988700</td>\n",
       "      <td>1128494700</td>\n",
       "      <td>6400900</td>\n",
       "      <td>83911000</td>\n",
       "      <td>78836000</td>\n",
       "      <td>31974000</td>\n",
       "      <td>...</td>\n",
       "      <td>325000</td>\n",
       "      <td>486300</td>\n",
       "      <td>10173200</td>\n",
       "      <td>5251300</td>\n",
       "      <td>259200</td>\n",
       "      <td>0.0</td>\n",
       "      <td>172400</td>\n",
       "      <td>3431500</td>\n",
       "      <td>6009100</td>\n",
       "      <td>1176700</td>\n",
       "    </tr>\n",
       "    <tr>\n",
       "      <th>2022-04-30</th>\n",
       "      <td>145205600</td>\n",
       "      <td>147909200</td>\n",
       "      <td>9944100</td>\n",
       "      <td>21554900</td>\n",
       "      <td>412189700</td>\n",
       "      <td>852863900</td>\n",
       "      <td>5808400</td>\n",
       "      <td>104036600</td>\n",
       "      <td>57609500</td>\n",
       "      <td>38543600</td>\n",
       "      <td>...</td>\n",
       "      <td>195800</td>\n",
       "      <td>592500</td>\n",
       "      <td>17722500</td>\n",
       "      <td>2511000</td>\n",
       "      <td>272800</td>\n",
       "      <td>0.0</td>\n",
       "      <td>283000</td>\n",
       "      <td>6031900</td>\n",
       "      <td>1695300</td>\n",
       "      <td>1043900</td>\n",
       "    </tr>\n",
       "    <tr>\n",
       "      <th>2022-05-31</th>\n",
       "      <td>150059700</td>\n",
       "      <td>134359900</td>\n",
       "      <td>16076400</td>\n",
       "      <td>20474300</td>\n",
       "      <td>564877400</td>\n",
       "      <td>826921700</td>\n",
       "      <td>7603700</td>\n",
       "      <td>91289800</td>\n",
       "      <td>82442300</td>\n",
       "      <td>43256800</td>\n",
       "      <td>...</td>\n",
       "      <td>275200</td>\n",
       "      <td>540100</td>\n",
       "      <td>14266300</td>\n",
       "      <td>2705700</td>\n",
       "      <td>371600</td>\n",
       "      <td>0.0</td>\n",
       "      <td>190000</td>\n",
       "      <td>5407700</td>\n",
       "      <td>3490300</td>\n",
       "      <td>474100</td>\n",
       "    </tr>\n",
       "    <tr>\n",
       "      <th>2022-06-30</th>\n",
       "      <td>113213500</td>\n",
       "      <td>158772800</td>\n",
       "      <td>17200200</td>\n",
       "      <td>19449400</td>\n",
       "      <td>555692000</td>\n",
       "      <td>843281800</td>\n",
       "      <td>7166300</td>\n",
       "      <td>95209700</td>\n",
       "      <td>74229100</td>\n",
       "      <td>30029200</td>\n",
       "      <td>...</td>\n",
       "      <td>294700</td>\n",
       "      <td>236400</td>\n",
       "      <td>9342700</td>\n",
       "      <td>3320600</td>\n",
       "      <td>354200</td>\n",
       "      <td>0.0</td>\n",
       "      <td>197700</td>\n",
       "      <td>5308200</td>\n",
       "      <td>3496800</td>\n",
       "      <td>488500</td>\n",
       "    </tr>\n",
       "    <tr>\n",
       "      <th>2022-07-31</th>\n",
       "      <td>75119000</td>\n",
       "      <td>110019600</td>\n",
       "      <td>9613500</td>\n",
       "      <td>19867700</td>\n",
       "      <td>335251900</td>\n",
       "      <td>646441100</td>\n",
       "      <td>4898200</td>\n",
       "      <td>60012100</td>\n",
       "      <td>67507800</td>\n",
       "      <td>22700200</td>\n",
       "      <td>...</td>\n",
       "      <td>350300</td>\n",
       "      <td>167200</td>\n",
       "      <td>6285400</td>\n",
       "      <td>1682400</td>\n",
       "      <td>218700</td>\n",
       "      <td>51400.0</td>\n",
       "      <td>365100</td>\n",
       "      <td>4421600</td>\n",
       "      <td>1338400</td>\n",
       "      <td>538200</td>\n",
       "    </tr>\n",
       "  </tbody>\n",
       "</table>\n",
       "<p>5 rows × 44 columns</p>\n",
       "</div>"
      ],
      "text/plain": [
       "                  EWJ       MCHI      BBJP       VPL       KWEB         FXI  \\\n",
       "2022-03-31  123338300  154003100  12096600  19023700  666988700  1128494700   \n",
       "2022-04-30  145205600  147909200   9944100  21554900  412189700   852863900   \n",
       "2022-05-31  150059700  134359900  16076400  20474300  564877400   826921700   \n",
       "2022-06-30  113213500  158772800  17200200  19449400  555692000   843281800   \n",
       "2022-07-31   75119000  110019600   9613500  19867700  335251900   646441100   \n",
       "\n",
       "               BBAX        EWT       EWY      AAXJ  ...    DBJP    EWJV  \\\n",
       "2022-03-31  6400900   83911000  78836000  31974000  ...  325000  486300   \n",
       "2022-04-30  5808400  104036600  57609500  38543600  ...  195800  592500   \n",
       "2022-05-31  7603700   91289800  82442300  43256800  ...  275200  540100   \n",
       "2022-06-30  7166300   95209700  74229100  30029200  ...  294700  236400   \n",
       "2022-07-31  4898200   60012100  67507800  22700200  ...  350300  167200   \n",
       "\n",
       "                 EWM      PGJ     DFJ     MINV    ENZL     HEWJ     EPHE  \\\n",
       "2022-03-31  10173200  5251300  259200      0.0  172400  3431500  6009100   \n",
       "2022-04-30  17722500  2511000  272800      0.0  283000  6031900  1695300   \n",
       "2022-05-31  14266300  2705700  371600      0.0  190000  5407700  3490300   \n",
       "2022-06-30   9342700  3320600  354200      0.0  197700  5308200  3496800   \n",
       "2022-07-31   6285400  1682400  218700  51400.0  365100  4421600  1338400   \n",
       "\n",
       "               FLCH  \n",
       "2022-03-31  1176700  \n",
       "2022-04-30  1043900  \n",
       "2022-05-31   474100  \n",
       "2022-06-30   488500  \n",
       "2022-07-31   538200  \n",
       "\n",
       "[5 rows x 44 columns]"
      ]
     },
     "execution_count": 110,
     "metadata": {},
     "output_type": "execute_result"
    }
   ],
   "source": [
    "df_c_monthly_volume = calculate_monthly_volume(\n",
    "    normalize_datetime_index(df_c_volume)\n",
    ")\n",
    "\n",
    "print(df_c_monthly_volume.shape)\n",
    "df_c_monthly_volume.head()"
   ]
  },
  {
   "cell_type": "code",
   "execution_count": 111,
   "id": "19892e87",
   "metadata": {},
   "outputs": [
    {
     "name": "stdout",
     "output_type": "stream",
     "text": [
      "(13, 264)\n"
     ]
    },
    {
     "data": {
      "text/html": [
       "<div>\n",
       "<style scoped>\n",
       "    .dataframe tbody tr th:only-of-type {\n",
       "        vertical-align: middle;\n",
       "    }\n",
       "\n",
       "    .dataframe tbody tr th {\n",
       "        vertical-align: top;\n",
       "    }\n",
       "\n",
       "    .dataframe thead th {\n",
       "        text-align: right;\n",
       "    }\n",
       "</style>\n",
       "<table border=\"1\" class=\"dataframe\">\n",
       "  <thead>\n",
       "    <tr style=\"text-align: right;\">\n",
       "      <th></th>\n",
       "      <th>VGT</th>\n",
       "      <th>XLK</th>\n",
       "      <th>XLE</th>\n",
       "      <th>XLV</th>\n",
       "      <th>XLF</th>\n",
       "      <th>XLP</th>\n",
       "      <th>VHT</th>\n",
       "      <th>XLU</th>\n",
       "      <th>XLI</th>\n",
       "      <th>XLY</th>\n",
       "      <th>...</th>\n",
       "      <th>EIPX</th>\n",
       "      <th>PXJ</th>\n",
       "      <th>QTUM</th>\n",
       "      <th>KCE</th>\n",
       "      <th>LEGR</th>\n",
       "      <th>XHS</th>\n",
       "      <th>IGN</th>\n",
       "      <th>HTEC</th>\n",
       "      <th>GDOC</th>\n",
       "      <th>SBIO</th>\n",
       "    </tr>\n",
       "  </thead>\n",
       "  <tbody>\n",
       "    <tr>\n",
       "      <th>2022-03-31</th>\n",
       "      <td>10987400</td>\n",
       "      <td>182762600</td>\n",
       "      <td>716968100</td>\n",
       "      <td>193077900</td>\n",
       "      <td>1043280200</td>\n",
       "      <td>262761400</td>\n",
       "      <td>4818500</td>\n",
       "      <td>288979900</td>\n",
       "      <td>191532700</td>\n",
       "      <td>197147500</td>\n",
       "      <td>...</td>\n",
       "      <td>0.0</td>\n",
       "      <td>8644400</td>\n",
       "      <td>256800</td>\n",
       "      <td>362900</td>\n",
       "      <td>279900</td>\n",
       "      <td>86100</td>\n",
       "      <td>1325400</td>\n",
       "      <td>529900</td>\n",
       "      <td>192300</td>\n",
       "      <td>308100</td>\n",
       "    </tr>\n",
       "    <tr>\n",
       "      <th>2022-04-30</th>\n",
       "      <td>13749200</td>\n",
       "      <td>235094300</td>\n",
       "      <td>645446800</td>\n",
       "      <td>320912000</td>\n",
       "      <td>1329232900</td>\n",
       "      <td>374221800</td>\n",
       "      <td>7092200</td>\n",
       "      <td>413997200</td>\n",
       "      <td>240799900</td>\n",
       "      <td>196284700</td>\n",
       "      <td>...</td>\n",
       "      <td>0.0</td>\n",
       "      <td>16476400</td>\n",
       "      <td>341900</td>\n",
       "      <td>366100</td>\n",
       "      <td>289100</td>\n",
       "      <td>106900</td>\n",
       "      <td>608200</td>\n",
       "      <td>678600</td>\n",
       "      <td>43900</td>\n",
       "      <td>587400</td>\n",
       "    </tr>\n",
       "    <tr>\n",
       "      <th>2022-05-31</th>\n",
       "      <td>23497500</td>\n",
       "      <td>268894200</td>\n",
       "      <td>783477100</td>\n",
       "      <td>292279000</td>\n",
       "      <td>1678540800</td>\n",
       "      <td>597327600</td>\n",
       "      <td>9820100</td>\n",
       "      <td>433573200</td>\n",
       "      <td>321569900</td>\n",
       "      <td>194840400</td>\n",
       "      <td>...</td>\n",
       "      <td>0.0</td>\n",
       "      <td>11253800</td>\n",
       "      <td>323100</td>\n",
       "      <td>572700</td>\n",
       "      <td>302200</td>\n",
       "      <td>53900</td>\n",
       "      <td>314300</td>\n",
       "      <td>809400</td>\n",
       "      <td>47400</td>\n",
       "      <td>649900</td>\n",
       "    </tr>\n",
       "    <tr>\n",
       "      <th>2022-06-30</th>\n",
       "      <td>15902500</td>\n",
       "      <td>186992500</td>\n",
       "      <td>775796100</td>\n",
       "      <td>198570500</td>\n",
       "      <td>1313433900</td>\n",
       "      <td>311767800</td>\n",
       "      <td>7182500</td>\n",
       "      <td>343124700</td>\n",
       "      <td>201916900</td>\n",
       "      <td>141485200</td>\n",
       "      <td>...</td>\n",
       "      <td>0.0</td>\n",
       "      <td>20072200</td>\n",
       "      <td>414500</td>\n",
       "      <td>185600</td>\n",
       "      <td>260000</td>\n",
       "      <td>71300</td>\n",
       "      <td>252300</td>\n",
       "      <td>480600</td>\n",
       "      <td>174200</td>\n",
       "      <td>581300</td>\n",
       "    </tr>\n",
       "    <tr>\n",
       "      <th>2022-07-31</th>\n",
       "      <td>9997400</td>\n",
       "      <td>131312800</td>\n",
       "      <td>557473400</td>\n",
       "      <td>164183900</td>\n",
       "      <td>836301800</td>\n",
       "      <td>207865300</td>\n",
       "      <td>3875400</td>\n",
       "      <td>235551200</td>\n",
       "      <td>155201800</td>\n",
       "      <td>102720200</td>\n",
       "      <td>...</td>\n",
       "      <td>0.0</td>\n",
       "      <td>7459400</td>\n",
       "      <td>311700</td>\n",
       "      <td>165600</td>\n",
       "      <td>217100</td>\n",
       "      <td>306300</td>\n",
       "      <td>181100</td>\n",
       "      <td>284800</td>\n",
       "      <td>43300</td>\n",
       "      <td>379200</td>\n",
       "    </tr>\n",
       "  </tbody>\n",
       "</table>\n",
       "<p>5 rows × 264 columns</p>\n",
       "</div>"
      ],
      "text/plain": [
       "                 VGT        XLK        XLE        XLV         XLF        XLP  \\\n",
       "2022-03-31  10987400  182762600  716968100  193077900  1043280200  262761400   \n",
       "2022-04-30  13749200  235094300  645446800  320912000  1329232900  374221800   \n",
       "2022-05-31  23497500  268894200  783477100  292279000  1678540800  597327600   \n",
       "2022-06-30  15902500  186992500  775796100  198570500  1313433900  311767800   \n",
       "2022-07-31   9997400  131312800  557473400  164183900   836301800  207865300   \n",
       "\n",
       "                VHT        XLU        XLI        XLY  ...  EIPX       PXJ  \\\n",
       "2022-03-31  4818500  288979900  191532700  197147500  ...   0.0   8644400   \n",
       "2022-04-30  7092200  413997200  240799900  196284700  ...   0.0  16476400   \n",
       "2022-05-31  9820100  433573200  321569900  194840400  ...   0.0  11253800   \n",
       "2022-06-30  7182500  343124700  201916900  141485200  ...   0.0  20072200   \n",
       "2022-07-31  3875400  235551200  155201800  102720200  ...   0.0   7459400   \n",
       "\n",
       "              QTUM     KCE    LEGR     XHS      IGN    HTEC    GDOC    SBIO  \n",
       "2022-03-31  256800  362900  279900   86100  1325400  529900  192300  308100  \n",
       "2022-04-30  341900  366100  289100  106900   608200  678600   43900  587400  \n",
       "2022-05-31  323100  572700  302200   53900   314300  809400   47400  649900  \n",
       "2022-06-30  414500  185600  260000   71300   252300  480600  174200  581300  \n",
       "2022-07-31  311700  165600  217100  306300   181100  284800   43300  379200  \n",
       "\n",
       "[5 rows x 264 columns]"
      ]
     },
     "execution_count": 111,
     "metadata": {},
     "output_type": "execute_result"
    }
   ],
   "source": [
    "df_s_monthly_volume = calculate_monthly_volume(\n",
    "    normalize_datetime_index(df_s_volume)\n",
    ")\n",
    "\n",
    "print(df_s_monthly_volume.shape)\n",
    "df_s_monthly_volume.head()"
   ]
  },
  {
   "cell_type": "code",
   "execution_count": 112,
   "id": "264abd3b",
   "metadata": {},
   "outputs": [
    {
     "name": "stdout",
     "output_type": "stream",
     "text": [
      "(13, 4063)\n"
     ]
    },
    {
     "data": {
      "text/html": [
       "<div>\n",
       "<style scoped>\n",
       "    .dataframe tbody tr th:only-of-type {\n",
       "        vertical-align: middle;\n",
       "    }\n",
       "\n",
       "    .dataframe tbody tr th {\n",
       "        vertical-align: top;\n",
       "    }\n",
       "\n",
       "    .dataframe thead th {\n",
       "        text-align: right;\n",
       "    }\n",
       "</style>\n",
       "<table border=\"1\" class=\"dataframe\">\n",
       "  <thead>\n",
       "    <tr style=\"text-align: right;\">\n",
       "      <th></th>\n",
       "      <th>0700.HK</th>\n",
       "      <th>BABA</th>\n",
       "      <th>3690.HK</th>\n",
       "      <th>0939.HK</th>\n",
       "      <th>PDD</th>\n",
       "      <th>2318.HK</th>\n",
       "      <th>JD</th>\n",
       "      <th>BIDU</th>\n",
       "      <th>1398.HK</th>\n",
       "      <th>NTES</th>\n",
       "      <th>...</th>\n",
       "      <th>688561.SS</th>\n",
       "      <th>688169.SS</th>\n",
       "      <th>688303.SS</th>\n",
       "      <th>603195.SS</th>\n",
       "      <th>600606.SS</th>\n",
       "      <th>688065.SS</th>\n",
       "      <th>605499.SS</th>\n",
       "      <th>601236.SS</th>\n",
       "      <th>300979.SZ</th>\n",
       "      <th>001289.SZ</th>\n",
       "    </tr>\n",
       "  </thead>\n",
       "  <tbody>\n",
       "    <tr>\n",
       "      <th>2022-03-31</th>\n",
       "      <td>784731749.0</td>\n",
       "      <td>1.023127e+09</td>\n",
       "      <td>1.020211e+09</td>\n",
       "      <td>6.186814e+09</td>\n",
       "      <td>599781100.0</td>\n",
       "      <td>712295989.0</td>\n",
       "      <td>471624700.0</td>\n",
       "      <td>122697400.0</td>\n",
       "      <td>4.355673e+09</td>\n",
       "      <td>68128500.0</td>\n",
       "      <td>...</td>\n",
       "      <td>39344743.0</td>\n",
       "      <td>13193031.0</td>\n",
       "      <td>94324657.0</td>\n",
       "      <td>11348410.0</td>\n",
       "      <td>2.298040e+09</td>\n",
       "      <td>22882205.0</td>\n",
       "      <td>14699635.0</td>\n",
       "      <td>3.992188e+08</td>\n",
       "      <td>20683794.0</td>\n",
       "      <td>184840975.0</td>\n",
       "    </tr>\n",
       "    <tr>\n",
       "      <th>2022-04-30</th>\n",
       "      <td>396316513.0</td>\n",
       "      <td>5.408851e+08</td>\n",
       "      <td>6.170945e+08</td>\n",
       "      <td>4.683171e+09</td>\n",
       "      <td>324772500.0</td>\n",
       "      <td>490727892.0</td>\n",
       "      <td>215210200.0</td>\n",
       "      <td>71580600.0</td>\n",
       "      <td>3.255832e+09</td>\n",
       "      <td>37491600.0</td>\n",
       "      <td>...</td>\n",
       "      <td>46252663.0</td>\n",
       "      <td>11149455.0</td>\n",
       "      <td>101909582.0</td>\n",
       "      <td>11490651.0</td>\n",
       "      <td>3.021766e+09</td>\n",
       "      <td>30687570.0</td>\n",
       "      <td>16754479.0</td>\n",
       "      <td>9.412351e+08</td>\n",
       "      <td>14414041.0</td>\n",
       "      <td>104368381.0</td>\n",
       "    </tr>\n",
       "    <tr>\n",
       "      <th>2022-05-31</th>\n",
       "      <td>523342151.0</td>\n",
       "      <td>4.826922e+08</td>\n",
       "      <td>7.435653e+08</td>\n",
       "      <td>5.074850e+09</td>\n",
       "      <td>259146200.0</td>\n",
       "      <td>577206201.0</td>\n",
       "      <td>298611400.0</td>\n",
       "      <td>69765000.0</td>\n",
       "      <td>3.139446e+09</td>\n",
       "      <td>45624500.0</td>\n",
       "      <td>...</td>\n",
       "      <td>47162034.0</td>\n",
       "      <td>10979661.0</td>\n",
       "      <td>131058641.0</td>\n",
       "      <td>11598813.0</td>\n",
       "      <td>2.230893e+09</td>\n",
       "      <td>32132320.0</td>\n",
       "      <td>21441315.0</td>\n",
       "      <td>3.962861e+08</td>\n",
       "      <td>25553786.0</td>\n",
       "      <td>119863591.0</td>\n",
       "    </tr>\n",
       "    <tr>\n",
       "      <th>2022-06-30</th>\n",
       "      <td>568117466.0</td>\n",
       "      <td>7.216166e+08</td>\n",
       "      <td>7.482574e+08</td>\n",
       "      <td>6.357927e+09</td>\n",
       "      <td>332852300.0</td>\n",
       "      <td>647735331.0</td>\n",
       "      <td>290304100.0</td>\n",
       "      <td>72292400.0</td>\n",
       "      <td>4.092837e+09</td>\n",
       "      <td>49782400.0</td>\n",
       "      <td>...</td>\n",
       "      <td>70835686.0</td>\n",
       "      <td>16188999.0</td>\n",
       "      <td>299627052.0</td>\n",
       "      <td>14040279.0</td>\n",
       "      <td>1.868261e+09</td>\n",
       "      <td>64477431.0</td>\n",
       "      <td>20677572.0</td>\n",
       "      <td>1.123206e+09</td>\n",
       "      <td>29019130.0</td>\n",
       "      <td>124617590.0</td>\n",
       "    </tr>\n",
       "    <tr>\n",
       "      <th>2022-07-31</th>\n",
       "      <td>404917763.0</td>\n",
       "      <td>5.046133e+08</td>\n",
       "      <td>3.964437e+08</td>\n",
       "      <td>4.077032e+09</td>\n",
       "      <td>177256600.0</td>\n",
       "      <td>475308323.0</td>\n",
       "      <td>121077500.0</td>\n",
       "      <td>41560400.0</td>\n",
       "      <td>2.933923e+09</td>\n",
       "      <td>36436100.0</td>\n",
       "      <td>...</td>\n",
       "      <td>41065483.0</td>\n",
       "      <td>19466287.0</td>\n",
       "      <td>277471755.0</td>\n",
       "      <td>9716312.0</td>\n",
       "      <td>1.366010e+09</td>\n",
       "      <td>41087316.0</td>\n",
       "      <td>17433622.0</td>\n",
       "      <td>4.953340e+08</td>\n",
       "      <td>39441988.0</td>\n",
       "      <td>147281539.0</td>\n",
       "    </tr>\n",
       "  </tbody>\n",
       "</table>\n",
       "<p>5 rows × 4063 columns</p>\n",
       "</div>"
      ],
      "text/plain": [
       "                0700.HK          BABA       3690.HK       0939.HK  \\\n",
       "2022-03-31  784731749.0  1.023127e+09  1.020211e+09  6.186814e+09   \n",
       "2022-04-30  396316513.0  5.408851e+08  6.170945e+08  4.683171e+09   \n",
       "2022-05-31  523342151.0  4.826922e+08  7.435653e+08  5.074850e+09   \n",
       "2022-06-30  568117466.0  7.216166e+08  7.482574e+08  6.357927e+09   \n",
       "2022-07-31  404917763.0  5.046133e+08  3.964437e+08  4.077032e+09   \n",
       "\n",
       "                    PDD      2318.HK           JD         BIDU       1398.HK  \\\n",
       "2022-03-31  599781100.0  712295989.0  471624700.0  122697400.0  4.355673e+09   \n",
       "2022-04-30  324772500.0  490727892.0  215210200.0   71580600.0  3.255832e+09   \n",
       "2022-05-31  259146200.0  577206201.0  298611400.0   69765000.0  3.139446e+09   \n",
       "2022-06-30  332852300.0  647735331.0  290304100.0   72292400.0  4.092837e+09   \n",
       "2022-07-31  177256600.0  475308323.0  121077500.0   41560400.0  2.933923e+09   \n",
       "\n",
       "                  NTES  ...   688561.SS   688169.SS    688303.SS   603195.SS  \\\n",
       "2022-03-31  68128500.0  ...  39344743.0  13193031.0   94324657.0  11348410.0   \n",
       "2022-04-30  37491600.0  ...  46252663.0  11149455.0  101909582.0  11490651.0   \n",
       "2022-05-31  45624500.0  ...  47162034.0  10979661.0  131058641.0  11598813.0   \n",
       "2022-06-30  49782400.0  ...  70835686.0  16188999.0  299627052.0  14040279.0   \n",
       "2022-07-31  36436100.0  ...  41065483.0  19466287.0  277471755.0   9716312.0   \n",
       "\n",
       "               600606.SS   688065.SS   605499.SS     601236.SS   300979.SZ  \\\n",
       "2022-03-31  2.298040e+09  22882205.0  14699635.0  3.992188e+08  20683794.0   \n",
       "2022-04-30  3.021766e+09  30687570.0  16754479.0  9.412351e+08  14414041.0   \n",
       "2022-05-31  2.230893e+09  32132320.0  21441315.0  3.962861e+08  25553786.0   \n",
       "2022-06-30  1.868261e+09  64477431.0  20677572.0  1.123206e+09  29019130.0   \n",
       "2022-07-31  1.366010e+09  41087316.0  17433622.0  4.953340e+08  39441988.0   \n",
       "\n",
       "              001289.SZ  \n",
       "2022-03-31  184840975.0  \n",
       "2022-04-30  104368381.0  \n",
       "2022-05-31  119863591.0  \n",
       "2022-06-30  124617590.0  \n",
       "2022-07-31  147281539.0  \n",
       "\n",
       "[5 rows x 4063 columns]"
      ]
     },
     "execution_count": 112,
     "metadata": {},
     "output_type": "execute_result"
    }
   ],
   "source": [
    "df_u_monthly_volume = calculate_monthly_volume(\n",
    "    normalize_datetime_index(df_u_volume)\n",
    ")\n",
    "\n",
    "print(df_u_monthly_volume.shape)\n",
    "df_u_monthly_volume.head()"
   ]
  },
  {
   "cell_type": "code",
   "execution_count": 115,
   "id": "d71a140a",
   "metadata": {},
   "outputs": [
    {
     "name": "stdout",
     "output_type": "stream",
     "text": [
      "(44,)\n"
     ]
    },
    {
     "data": {
      "text/plain": [
       "count    4.400000e+01\n",
       "mean     5.961987e+08\n",
       "std      1.722976e+09\n",
       "min      3.972700e+06\n",
       "25%      2.312890e+07\n",
       "50%      6.137510e+07\n",
       "75%      1.822823e+08\n",
       "max      1.005144e+10\n",
       "dtype: float64"
      ]
     },
     "execution_count": 115,
     "metadata": {},
     "output_type": "execute_result"
    }
   ],
   "source": [
    "# calculate annual volume\n",
    "df_c_annual_volume = df_c_volume.sum()\n",
    "print(df_c_annual_volume.shape)\n",
    "df_c_annual_volume.describe()"
   ]
  },
  {
   "cell_type": "code",
   "execution_count": 116,
   "id": "9e40ef60",
   "metadata": {},
   "outputs": [
    {
     "name": "stdout",
     "output_type": "stream",
     "text": [
      "(264,)\n"
     ]
    },
    {
     "data": {
      "text/plain": [
       "count    2.640000e+02\n",
       "mean     3.426421e+08\n",
       "std      1.182069e+09\n",
       "min      6.019000e+05\n",
       "25%      1.064702e+07\n",
       "50%      3.048700e+07\n",
       "75%      1.185149e+08\n",
       "max      1.238964e+10\n",
       "dtype: float64"
      ]
     },
     "execution_count": 116,
     "metadata": {},
     "output_type": "execute_result"
    }
   ],
   "source": [
    "df_s_annual_volume = df_s_volume.sum()\n",
    "print(df_s_annual_volume.shape)\n",
    "df_s_annual_volume.describe()"
   ]
  },
  {
   "cell_type": "code",
   "execution_count": 117,
   "id": "8bbab926",
   "metadata": {},
   "outputs": [
    {
     "name": "stdout",
     "output_type": "stream",
     "text": [
      "(4063,)\n"
     ]
    },
    {
     "data": {
      "text/plain": [
       "count    4.063000e+03\n",
       "mean     2.344526e+09\n",
       "std      6.687033e+09\n",
       "min      0.000000e+00\n",
       "25%      2.993852e+07\n",
       "50%      2.449560e+08\n",
       "75%      1.919819e+09\n",
       "max      2.050973e+11\n",
       "dtype: float64"
      ]
     },
     "execution_count": 117,
     "metadata": {},
     "output_type": "execute_result"
    }
   ],
   "source": [
    "df_u_annual_volume = df_u_volume.sum()\n",
    "print(df_u_annual_volume.shape)\n",
    "df_u_annual_volume.describe()"
   ]
  },
  {
   "cell_type": "code",
   "execution_count": 118,
   "id": "64be881b",
   "metadata": {},
   "outputs": [],
   "source": [
    "# calculate annual returns\n",
    "def calculate_annual_returns(df):\n",
    "    df_m = df.resample('Y').agg(lambda x: (x+1).prod() - 1)\n",
    "    return df_m"
   ]
  },
  {
   "cell_type": "code",
   "execution_count": 120,
   "id": "ae821b40",
   "metadata": {},
   "outputs": [
    {
     "name": "stdout",
     "output_type": "stream",
     "text": [
      "(251, 44)\n",
      "(251, 264)\n",
      "(261, 4063)\n"
     ]
    }
   ],
   "source": [
    "print(df_country_etf_returns.shape)\n",
    "print(df_sector_etf_returns.shape)\n",
    "print(df_underlying_returns.shape)"
   ]
  },
  {
   "cell_type": "code",
   "execution_count": 124,
   "id": "802c5e00",
   "metadata": {},
   "outputs": [
    {
     "name": "stdout",
     "output_type": "stream",
     "text": [
      "(2, 44)\n"
     ]
    },
    {
     "data": {
      "text/html": [
       "<div>\n",
       "<style scoped>\n",
       "    .dataframe tbody tr th:only-of-type {\n",
       "        vertical-align: middle;\n",
       "    }\n",
       "\n",
       "    .dataframe tbody tr th {\n",
       "        vertical-align: top;\n",
       "    }\n",
       "\n",
       "    .dataframe thead th {\n",
       "        text-align: right;\n",
       "    }\n",
       "</style>\n",
       "<table border=\"1\" class=\"dataframe\">\n",
       "  <thead>\n",
       "    <tr style=\"text-align: right;\">\n",
       "      <th></th>\n",
       "      <th>2022-12-31</th>\n",
       "      <th>2023-12-31</th>\n",
       "    </tr>\n",
       "  </thead>\n",
       "  <tbody>\n",
       "    <tr>\n",
       "      <th>count</th>\n",
       "      <td>44.000000</td>\n",
       "      <td>44.000000</td>\n",
       "    </tr>\n",
       "    <tr>\n",
       "      <th>mean</th>\n",
       "      <td>-0.075201</td>\n",
       "      <td>0.028316</td>\n",
       "    </tr>\n",
       "    <tr>\n",
       "      <th>std</th>\n",
       "      <td>0.086404</td>\n",
       "      <td>0.040192</td>\n",
       "    </tr>\n",
       "    <tr>\n",
       "      <th>min</th>\n",
       "      <td>-0.375052</td>\n",
       "      <td>-0.049475</td>\n",
       "    </tr>\n",
       "    <tr>\n",
       "      <th>25%</th>\n",
       "      <td>-0.125252</td>\n",
       "      <td>0.000546</td>\n",
       "    </tr>\n",
       "    <tr>\n",
       "      <th>50%</th>\n",
       "      <td>-0.074181</td>\n",
       "      <td>0.022939</td>\n",
       "    </tr>\n",
       "    <tr>\n",
       "      <th>75%</th>\n",
       "      <td>-0.022276</td>\n",
       "      <td>0.048326</td>\n",
       "    </tr>\n",
       "    <tr>\n",
       "      <th>max</th>\n",
       "      <td>0.123194</td>\n",
       "      <td>0.136413</td>\n",
       "    </tr>\n",
       "  </tbody>\n",
       "</table>\n",
       "</div>"
      ],
      "text/plain": [
       "       2022-12-31  2023-12-31\n",
       "count   44.000000   44.000000\n",
       "mean    -0.075201    0.028316\n",
       "std      0.086404    0.040192\n",
       "min     -0.375052   -0.049475\n",
       "25%     -0.125252    0.000546\n",
       "50%     -0.074181    0.022939\n",
       "75%     -0.022276    0.048326\n",
       "max      0.123194    0.136413"
      ]
     },
     "execution_count": 124,
     "metadata": {},
     "output_type": "execute_result"
    }
   ],
   "source": [
    "df_c_annual_returns = calculate_annual_returns(\n",
    "    normalize_datetime_index(df_country_etf_returns)\n",
    ")\n",
    "print(df_c_annual_returns.shape)\n",
    "df_c_annual_returns.transpose().describe()"
   ]
  },
  {
   "cell_type": "code",
   "execution_count": 125,
   "id": "e5ea11a9",
   "metadata": {},
   "outputs": [
    {
     "name": "stdout",
     "output_type": "stream",
     "text": [
      "(2, 264)\n"
     ]
    },
    {
     "data": {
      "text/html": [
       "<div>\n",
       "<style scoped>\n",
       "    .dataframe tbody tr th:only-of-type {\n",
       "        vertical-align: middle;\n",
       "    }\n",
       "\n",
       "    .dataframe tbody tr th {\n",
       "        vertical-align: top;\n",
       "    }\n",
       "\n",
       "    .dataframe thead th {\n",
       "        text-align: right;\n",
       "    }\n",
       "</style>\n",
       "<table border=\"1\" class=\"dataframe\">\n",
       "  <thead>\n",
       "    <tr style=\"text-align: right;\">\n",
       "      <th></th>\n",
       "      <th>2022-12-31</th>\n",
       "      <th>2023-12-31</th>\n",
       "    </tr>\n",
       "  </thead>\n",
       "  <tbody>\n",
       "    <tr>\n",
       "      <th>count</th>\n",
       "      <td>264.000000</td>\n",
       "      <td>264.000000</td>\n",
       "    </tr>\n",
       "    <tr>\n",
       "      <th>mean</th>\n",
       "      <td>-0.097231</td>\n",
       "      <td>0.052831</td>\n",
       "    </tr>\n",
       "    <tr>\n",
       "      <th>std</th>\n",
       "      <td>0.148744</td>\n",
       "      <td>0.075191</td>\n",
       "    </tr>\n",
       "    <tr>\n",
       "      <th>min</th>\n",
       "      <td>-0.631718</td>\n",
       "      <td>-0.107109</td>\n",
       "    </tr>\n",
       "    <tr>\n",
       "      <th>25%</th>\n",
       "      <td>-0.202349</td>\n",
       "      <td>-0.005998</td>\n",
       "    </tr>\n",
       "    <tr>\n",
       "      <th>50%</th>\n",
       "      <td>-0.085292</td>\n",
       "      <td>0.050827</td>\n",
       "    </tr>\n",
       "    <tr>\n",
       "      <th>75%</th>\n",
       "      <td>0.013911</td>\n",
       "      <td>0.108925</td>\n",
       "    </tr>\n",
       "    <tr>\n",
       "      <th>max</th>\n",
       "      <td>0.230533</td>\n",
       "      <td>0.317250</td>\n",
       "    </tr>\n",
       "  </tbody>\n",
       "</table>\n",
       "</div>"
      ],
      "text/plain": [
       "       2022-12-31  2023-12-31\n",
       "count  264.000000  264.000000\n",
       "mean    -0.097231    0.052831\n",
       "std      0.148744    0.075191\n",
       "min     -0.631718   -0.107109\n",
       "25%     -0.202349   -0.005998\n",
       "50%     -0.085292    0.050827\n",
       "75%      0.013911    0.108925\n",
       "max      0.230533    0.317250"
      ]
     },
     "execution_count": 125,
     "metadata": {},
     "output_type": "execute_result"
    }
   ],
   "source": [
    "df_s_annual_returns = calculate_annual_returns(\n",
    "    normalize_datetime_index(df_sector_etf_returns)\n",
    ")\n",
    "print(df_s_annual_returns.shape)\n",
    "df_s_annual_returns.transpose().describe()"
   ]
  },
  {
   "cell_type": "code",
   "execution_count": 126,
   "id": "ed2d984e",
   "metadata": {},
   "outputs": [
    {
     "name": "stdout",
     "output_type": "stream",
     "text": [
      "(2, 4063)\n"
     ]
    },
    {
     "data": {
      "text/html": [
       "<div>\n",
       "<style scoped>\n",
       "    .dataframe tbody tr th:only-of-type {\n",
       "        vertical-align: middle;\n",
       "    }\n",
       "\n",
       "    .dataframe tbody tr th {\n",
       "        vertical-align: top;\n",
       "    }\n",
       "\n",
       "    .dataframe thead th {\n",
       "        text-align: right;\n",
       "    }\n",
       "</style>\n",
       "<table border=\"1\" class=\"dataframe\">\n",
       "  <thead>\n",
       "    <tr style=\"text-align: right;\">\n",
       "      <th></th>\n",
       "      <th>2022-12-31</th>\n",
       "      <th>2023-12-31</th>\n",
       "    </tr>\n",
       "  </thead>\n",
       "  <tbody>\n",
       "    <tr>\n",
       "      <th>count</th>\n",
       "      <td>4063.000000</td>\n",
       "      <td>4063.000000</td>\n",
       "    </tr>\n",
       "    <tr>\n",
       "      <th>mean</th>\n",
       "      <td>-0.029937</td>\n",
       "      <td>0.101015</td>\n",
       "    </tr>\n",
       "    <tr>\n",
       "      <th>std</th>\n",
       "      <td>0.392577</td>\n",
       "      <td>0.234788</td>\n",
       "    </tr>\n",
       "    <tr>\n",
       "      <th>min</th>\n",
       "      <td>-0.987519</td>\n",
       "      <td>-0.706359</td>\n",
       "    </tr>\n",
       "    <tr>\n",
       "      <th>25%</th>\n",
       "      <td>-0.211255</td>\n",
       "      <td>-0.002351</td>\n",
       "    </tr>\n",
       "    <tr>\n",
       "      <th>50%</th>\n",
       "      <td>-0.052806</td>\n",
       "      <td>0.071638</td>\n",
       "    </tr>\n",
       "    <tr>\n",
       "      <th>75%</th>\n",
       "      <td>0.085475</td>\n",
       "      <td>0.177268</td>\n",
       "    </tr>\n",
       "    <tr>\n",
       "      <th>max</th>\n",
       "      <td>11.899262</td>\n",
       "      <td>4.409317</td>\n",
       "    </tr>\n",
       "  </tbody>\n",
       "</table>\n",
       "</div>"
      ],
      "text/plain": [
       "        2022-12-31   2023-12-31\n",
       "count  4063.000000  4063.000000\n",
       "mean     -0.029937     0.101015\n",
       "std       0.392577     0.234788\n",
       "min      -0.987519    -0.706359\n",
       "25%      -0.211255    -0.002351\n",
       "50%      -0.052806     0.071638\n",
       "75%       0.085475     0.177268\n",
       "max      11.899262     4.409317"
      ]
     },
     "execution_count": 126,
     "metadata": {},
     "output_type": "execute_result"
    }
   ],
   "source": [
    "df_u_annual_returns = calculate_annual_returns(\n",
    "    normalize_datetime_index(df_underlying_returns)\n",
    ")\n",
    "print(df_u_annual_returns.shape)\n",
    "df_u_annual_returns.transpose().describe()"
   ]
  },
  {
   "cell_type": "code",
   "execution_count": 145,
   "id": "9c61d9f3",
   "metadata": {},
   "outputs": [
    {
     "data": {
      "text/html": [
       "<div>\n",
       "<style scoped>\n",
       "    .dataframe tbody tr th:only-of-type {\n",
       "        vertical-align: middle;\n",
       "    }\n",
       "\n",
       "    .dataframe tbody tr th {\n",
       "        vertical-align: top;\n",
       "    }\n",
       "\n",
       "    .dataframe thead th {\n",
       "        text-align: right;\n",
       "    }\n",
       "</style>\n",
       "<table border=\"1\" class=\"dataframe\">\n",
       "  <thead>\n",
       "    <tr style=\"text-align: right;\">\n",
       "      <th></th>\n",
       "      <th>Unnamed: 0</th>\n",
       "      <th>ETF Ticker</th>\n",
       "      <th>Underlying Ticker</th>\n",
       "      <th>Type</th>\n",
       "      <th>Underlying</th>\n",
       "      <th>CountryETF</th>\n",
       "      <th>SectorETF</th>\n",
       "    </tr>\n",
       "  </thead>\n",
       "  <tbody>\n",
       "    <tr>\n",
       "      <th>0</th>\n",
       "      <td>0</td>\n",
       "      <td>GXC</td>\n",
       "      <td>700 HK Equity</td>\n",
       "      <td>HK Equity</td>\n",
       "      <td>0700.HK</td>\n",
       "      <td>True</td>\n",
       "      <td>False</td>\n",
       "    </tr>\n",
       "    <tr>\n",
       "      <th>1</th>\n",
       "      <td>1</td>\n",
       "      <td>GXC</td>\n",
       "      <td>BABA US Equity</td>\n",
       "      <td>US Equity</td>\n",
       "      <td>BABA</td>\n",
       "      <td>True</td>\n",
       "      <td>False</td>\n",
       "    </tr>\n",
       "    <tr>\n",
       "      <th>2</th>\n",
       "      <td>2</td>\n",
       "      <td>GXC</td>\n",
       "      <td>3690 HK Equity</td>\n",
       "      <td>HK Equity</td>\n",
       "      <td>3690.HK</td>\n",
       "      <td>True</td>\n",
       "      <td>False</td>\n",
       "    </tr>\n",
       "    <tr>\n",
       "      <th>3</th>\n",
       "      <td>3</td>\n",
       "      <td>GXC</td>\n",
       "      <td>939 HK Equity</td>\n",
       "      <td>HK Equity</td>\n",
       "      <td>0939.HK</td>\n",
       "      <td>True</td>\n",
       "      <td>False</td>\n",
       "    </tr>\n",
       "    <tr>\n",
       "      <th>4</th>\n",
       "      <td>4</td>\n",
       "      <td>GXC</td>\n",
       "      <td>PDD US Equity</td>\n",
       "      <td>US Equity</td>\n",
       "      <td>PDD</td>\n",
       "      <td>True</td>\n",
       "      <td>False</td>\n",
       "    </tr>\n",
       "  </tbody>\n",
       "</table>\n",
       "</div>"
      ],
      "text/plain": [
       "   Unnamed: 0 ETF Ticker Underlying Ticker       Type Underlying  CountryETF  \\\n",
       "0           0        GXC     700 HK Equity  HK Equity    0700.HK        True   \n",
       "1           1        GXC    BABA US Equity  US Equity       BABA        True   \n",
       "2           2        GXC    3690 HK Equity  HK Equity    3690.HK        True   \n",
       "3           3        GXC     939 HK Equity  HK Equity    0939.HK        True   \n",
       "4           4        GXC     PDD US Equity  US Equity        PDD        True   \n",
       "\n",
       "   SectorETF  \n",
       "0      False  \n",
       "1      False  \n",
       "2      False  \n",
       "3      False  \n",
       "4      False  "
      ]
     },
     "execution_count": 145,
     "metadata": {},
     "output_type": "execute_result"
    }
   ],
   "source": [
    "df_underlyings.head()"
   ]
  },
  {
   "cell_type": "code",
   "execution_count": 177,
   "id": "5b874d82",
   "metadata": {},
   "outputs": [
    {
     "data": {
      "text/html": [
       "<div>\n",
       "<style scoped>\n",
       "    .dataframe tbody tr th:only-of-type {\n",
       "        vertical-align: middle;\n",
       "    }\n",
       "\n",
       "    .dataframe tbody tr th {\n",
       "        vertical-align: top;\n",
       "    }\n",
       "\n",
       "    .dataframe thead th {\n",
       "        text-align: right;\n",
       "    }\n",
       "</style>\n",
       "<table border=\"1\" class=\"dataframe\">\n",
       "  <thead>\n",
       "    <tr style=\"text-align: right;\">\n",
       "      <th></th>\n",
       "      <th>PredictedReturn</th>\n",
       "    </tr>\n",
       "  </thead>\n",
       "  <tbody>\n",
       "    <tr>\n",
       "      <th>0700.HK</th>\n",
       "      <td>0.004156</td>\n",
       "    </tr>\n",
       "    <tr>\n",
       "      <th>BABA</th>\n",
       "      <td>0.076791</td>\n",
       "    </tr>\n",
       "    <tr>\n",
       "      <th>3690.HK</th>\n",
       "      <td>0.003559</td>\n",
       "    </tr>\n",
       "    <tr>\n",
       "      <th>0939.HK</th>\n",
       "      <td>-0.001251</td>\n",
       "    </tr>\n",
       "    <tr>\n",
       "      <th>PDD</th>\n",
       "      <td>0.110653</td>\n",
       "    </tr>\n",
       "  </tbody>\n",
       "</table>\n",
       "</div>"
      ],
      "text/plain": [
       "         PredictedReturn\n",
       "0700.HK         0.004156\n",
       "BABA            0.076791\n",
       "3690.HK         0.003559\n",
       "0939.HK        -0.001251\n",
       "PDD             0.110653"
      ]
     },
     "execution_count": 177,
     "metadata": {},
     "output_type": "execute_result"
    }
   ],
   "source": [
    "df_u_monthly_rets_pred.head()"
   ]
  },
  {
   "cell_type": "code",
   "execution_count": 192,
   "id": "22a8c5e7",
   "metadata": {},
   "outputs": [],
   "source": [
    "def build_ticker_features_annual():\n",
    "    df = pd.DataFrame(columns=[\n",
    "        'annual_volume', 'c_etf_annual_volume', 'c_etf_annual_return', \n",
    "        'annual_return'\n",
    "    ])\n",
    "    for ticker in tqdm(underlying_tickers):\n",
    "        df_map = df_underlyings[\n",
    "            df_underlyings['Underlying'] == ticker\n",
    "        ]\n",
    "        if not df_map.empty:\n",
    "            df_c = df_map.query('CountryETF == True')\n",
    "            if not df_c.empty:\n",
    "                # get country ETF name\n",
    "                c_etf = df_c['ETF Ticker'].iloc[0]\n",
    "                \n",
    "                # get underlying annual volume\n",
    "                annual_volume = df_u_annual_volume.loc[ticker]\n",
    "                \n",
    "                # get underlying annual return\n",
    "                annual_return = df_u_annual_returns[ticker].iloc[-1]\n",
    "                \n",
    "                # get country etf annual volume\n",
    "                c_annual_volume = df_c_annual_volume.loc[c_etf]\n",
    "                \n",
    "                # get country etf annual return\n",
    "                c_annual_return = df_c_annual_returns[c_etf].iloc[-1]\n",
    "                \n",
    "                df.loc[ticker] = [annual_volume, c_annual_volume, c_annual_return, \n",
    "                                  annual_return]\n",
    "                \n",
    "    return df\n",
    "                "
   ]
  },
  {
   "cell_type": "code",
   "execution_count": 197,
   "id": "b1054a12",
   "metadata": {},
   "outputs": [
    {
     "name": "stderr",
     "output_type": "stream",
     "text": [
      "100%|██████████████████████████████████████| 4063/4063 [00:08<00:00, 461.79it/s]\n"
     ]
    }
   ],
   "source": [
    "u_data = build_ticker_features_annual()"
   ]
  },
  {
   "cell_type": "code",
   "execution_count": 198,
   "id": "0fba6c41",
   "metadata": {},
   "outputs": [
    {
     "data": {
      "text/plain": [
       "(4058, 4)"
      ]
     },
     "execution_count": 198,
     "metadata": {},
     "output_type": "execute_result"
    }
   ],
   "source": [
    "u_data.shape"
   ]
  },
  {
   "cell_type": "code",
   "execution_count": 199,
   "id": "a310752f",
   "metadata": {},
   "outputs": [
    {
     "data": {
      "text/html": [
       "<div>\n",
       "<style scoped>\n",
       "    .dataframe tbody tr th:only-of-type {\n",
       "        vertical-align: middle;\n",
       "    }\n",
       "\n",
       "    .dataframe tbody tr th {\n",
       "        vertical-align: top;\n",
       "    }\n",
       "\n",
       "    .dataframe thead th {\n",
       "        text-align: right;\n",
       "    }\n",
       "</style>\n",
       "<table border=\"1\" class=\"dataframe\">\n",
       "  <thead>\n",
       "    <tr style=\"text-align: right;\">\n",
       "      <th></th>\n",
       "      <th>annual_volume</th>\n",
       "      <th>c_etf_annual_volume</th>\n",
       "      <th>c_etf_annual_return</th>\n",
       "      <th>annual_return</th>\n",
       "    </tr>\n",
       "  </thead>\n",
       "  <tbody>\n",
       "    <tr>\n",
       "      <th>0700.HK</th>\n",
       "      <td>6.820517e+09</td>\n",
       "      <td>46933800.0</td>\n",
       "      <td>0.022205</td>\n",
       "      <td>0.102053</td>\n",
       "    </tr>\n",
       "    <tr>\n",
       "      <th>BABA</th>\n",
       "      <td>6.720420e+09</td>\n",
       "      <td>46933800.0</td>\n",
       "      <td>0.022205</td>\n",
       "      <td>0.320875</td>\n",
       "    </tr>\n",
       "    <tr>\n",
       "      <th>3690.HK</th>\n",
       "      <td>8.381797e+09</td>\n",
       "      <td>46933800.0</td>\n",
       "      <td>0.022205</td>\n",
       "      <td>-0.244991</td>\n",
       "    </tr>\n",
       "    <tr>\n",
       "      <th>0939.HK</th>\n",
       "      <td>6.170902e+10</td>\n",
       "      <td>46933800.0</td>\n",
       "      <td>0.022205</td>\n",
       "      <td>0.024540</td>\n",
       "    </tr>\n",
       "    <tr>\n",
       "      <th>PDD</th>\n",
       "      <td>3.405556e+09</td>\n",
       "      <td>46933800.0</td>\n",
       "      <td>0.022205</td>\n",
       "      <td>0.291938</td>\n",
       "    </tr>\n",
       "  </tbody>\n",
       "</table>\n",
       "</div>"
      ],
      "text/plain": [
       "         annual_volume  c_etf_annual_volume  c_etf_annual_return  \\\n",
       "0700.HK   6.820517e+09           46933800.0             0.022205   \n",
       "BABA      6.720420e+09           46933800.0             0.022205   \n",
       "3690.HK   8.381797e+09           46933800.0             0.022205   \n",
       "0939.HK   6.170902e+10           46933800.0             0.022205   \n",
       "PDD       3.405556e+09           46933800.0             0.022205   \n",
       "\n",
       "         annual_return  \n",
       "0700.HK       0.102053  \n",
       "BABA          0.320875  \n",
       "3690.HK      -0.244991  \n",
       "0939.HK       0.024540  \n",
       "PDD           0.291938  "
      ]
     },
     "execution_count": 199,
     "metadata": {},
     "output_type": "execute_result"
    }
   ],
   "source": [
    "u_data.head()"
   ]
  },
  {
   "cell_type": "code",
   "execution_count": 209,
   "id": "34dc29a2",
   "metadata": {},
   "outputs": [],
   "source": [
    "def build_ticker_features(ticker):\n",
    "    df = pd.DataFrame(columns=['ticker', 'annual_volume', 'annual_return',\n",
    "                              'c_etf_annual_volume', 'c_etf_annual_return'])\n",
    "    try:\n",
    "        df = pd.concat([\n",
    "            df,\n",
    "            df_u_monthly_rets[ticker]\n",
    "        ],\n",
    "        axis=1)\n",
    "        df = df.rename(columns={ticker: 'monthly_return'})\n",
    "        df = pd.concat([\n",
    "            df,\n",
    "            df_u_monthly_volume[ticker]\n",
    "        ],\n",
    "        axis=1)\n",
    "        df = df.rename(columns={ticker: 'monthly_volume'})\n",
    "\n",
    "        annual_volume = u_data['annual_volume'].loc[ticker]\n",
    "        annual_return = u_data['annual_return'].loc[ticker]\n",
    "        c_etf_annual_volume = u_data['c_etf_annual_volume'].loc[ticker]\n",
    "        c_etf_annual_return = u_data['c_etf_annual_return'].loc[ticker]\n",
    "\n",
    "        df['ticker'] = ticker\n",
    "        df['annual_volume'] = annual_volume\n",
    "        df['annual_return'] = annual_return\n",
    "        df['c_etf_annual_volume'] = c_etf_annual_volume\n",
    "        df['c_etf_annual_return'] = c_etf_annual_return\n",
    "    except:\n",
    "        pass\n",
    "    \n",
    "    return df"
   ]
  },
  {
   "cell_type": "code",
   "execution_count": 210,
   "id": "dc517b38",
   "metadata": {},
   "outputs": [
    {
     "name": "stderr",
     "output_type": "stream",
     "text": [
      "\n",
      "  0%|                                                  | 0/4063 [00:00<?, ?it/s]\u001b[A\n",
      "  1%|▎                                       | 36/4063 [00:00<00:11, 354.53it/s]\u001b[A\n",
      "  2%|▊                                       | 83/4063 [00:00<00:09, 420.16it/s]\u001b[A\n",
      "  3%|█▎                                     | 131/4063 [00:00<00:08, 447.06it/s]\u001b[A\n",
      "  4%|█▋                                     | 178/4063 [00:00<00:08, 454.63it/s]\u001b[A\n",
      "  6%|██▏                                    | 227/4063 [00:00<00:08, 466.52it/s]\u001b[A\n",
      "  7%|██▋                                    | 274/4063 [00:00<00:08, 464.09it/s]\u001b[A\n",
      "  8%|███                                    | 323/4063 [00:00<00:07, 470.64it/s]\u001b[A\n",
      "  9%|███▌                                   | 371/4063 [00:00<00:07, 470.57it/s]\u001b[A\n",
      " 10%|████                                   | 419/4063 [00:00<00:07, 467.34it/s]\u001b[A\n",
      " 12%|████▌                                  | 470/4063 [00:01<00:07, 478.06it/s]\u001b[A\n",
      " 13%|████▉                                  | 518/4063 [00:01<00:07, 450.96it/s]\u001b[A\n",
      " 14%|█████▍                                 | 564/4063 [00:01<00:08, 436.57it/s]\u001b[A\n",
      " 15%|█████▊                                 | 611/4063 [00:01<00:07, 444.01it/s]\u001b[A\n",
      " 16%|██████▎                                | 659/4063 [00:01<00:07, 452.90it/s]\u001b[A\n",
      " 17%|██████▊                                | 706/4063 [00:01<00:07, 456.21it/s]\u001b[A\n",
      " 19%|███████▏                               | 752/4063 [00:01<00:07, 453.32it/s]\u001b[A\n",
      " 20%|███████▋                               | 799/4063 [00:01<00:07, 456.34it/s]\u001b[A\n",
      " 21%|████████▏                              | 847/4063 [00:01<00:06, 460.81it/s]\u001b[A\n",
      " 22%|████████▌                              | 894/4063 [00:01<00:06, 463.31it/s]\u001b[A\n",
      " 23%|█████████                              | 941/4063 [00:02<00:06, 464.54it/s]\u001b[A\n",
      " 24%|█████████▍                             | 988/4063 [00:02<00:06, 461.67it/s]\u001b[A\n",
      " 25%|█████████▋                            | 1035/4063 [00:02<00:06, 458.64it/s]\u001b[A\n",
      " 27%|██████████▏                           | 1084/4063 [00:02<00:06, 465.82it/s]\u001b[A\n",
      " 28%|██████████▌                           | 1131/4063 [00:02<00:06, 462.65it/s]\u001b[A\n",
      " 29%|███████████                           | 1178/4063 [00:02<00:06, 464.39it/s]\u001b[A\n",
      " 30%|███████████▍                          | 1226/4063 [00:02<00:06, 467.25it/s]\u001b[A\n",
      " 31%|███████████▉                          | 1274/4063 [00:02<00:05, 470.11it/s]\u001b[A\n",
      " 33%|████████████▎                         | 1322/4063 [00:02<00:05, 466.38it/s]\u001b[A\n",
      " 34%|████████████▊                         | 1369/4063 [00:02<00:05, 464.20it/s]\u001b[A\n",
      " 35%|█████████████▏                        | 1416/4063 [00:03<00:05, 464.68it/s]\u001b[A\n",
      " 36%|█████████████▋                        | 1463/4063 [00:03<00:05, 461.05it/s]\u001b[A\n",
      " 37%|██████████████                        | 1510/4063 [00:03<00:05, 458.97it/s]\u001b[A\n",
      " 38%|██████████████▌                       | 1556/4063 [00:03<00:05, 458.51it/s]\u001b[A\n",
      " 39%|██████████████▉                       | 1603/4063 [00:03<00:05, 460.73it/s]\u001b[A\n",
      " 41%|███████████████▍                      | 1650/4063 [00:03<00:05, 460.21it/s]\u001b[A\n",
      " 42%|███████████████▉                      | 1698/4063 [00:03<00:05, 463.79it/s]\u001b[A\n",
      " 43%|████████████████▎                     | 1747/4063 [00:03<00:04, 469.04it/s]\u001b[A\n",
      " 44%|████████████████▊                     | 1798/4063 [00:03<00:04, 480.34it/s]\u001b[A\n",
      " 45%|█████████████████▎                    | 1847/4063 [00:04<00:04, 476.93it/s]\u001b[A\n",
      " 47%|█████████████████▋                    | 1895/4063 [00:04<00:04, 476.93it/s]\u001b[A\n",
      " 48%|██████████████████▏                   | 1944/4063 [00:04<00:04, 479.97it/s]\u001b[A\n",
      " 49%|██████████████████▋                   | 1994/4063 [00:04<00:04, 484.97it/s]\u001b[A\n",
      " 50%|███████████████████                   | 2043/4063 [00:04<00:04, 484.52it/s]\u001b[A\n",
      " 52%|███████████████████▌                  | 2094/4063 [00:04<00:04, 491.85it/s]\u001b[A\n",
      " 53%|████████████████████                  | 2144/4063 [00:04<00:03, 487.84it/s]\u001b[A\n",
      " 54%|████████████████████▌                 | 2193/4063 [00:04<00:03, 482.55it/s]\u001b[A\n",
      " 55%|████████████████████▉                 | 2242/4063 [00:04<00:03, 478.31it/s]\u001b[A\n",
      " 56%|█████████████████████▍                | 2290/4063 [00:04<00:03, 476.74it/s]\u001b[A\n",
      " 58%|█████████████████████▊                | 2338/4063 [00:05<00:03, 473.18it/s]\u001b[A\n",
      " 59%|██████████████████████▎               | 2386/4063 [00:05<00:03, 467.35it/s]\u001b[A\n",
      " 60%|██████████████████████▊               | 2433/4063 [00:05<00:03, 466.53it/s]\u001b[A\n",
      " 61%|███████████████████████▏              | 2480/4063 [00:05<00:03, 463.68it/s]\u001b[A\n",
      " 62%|███████████████████████▋              | 2528/4063 [00:05<00:03, 468.08it/s]\u001b[A\n",
      " 63%|████████████████████████              | 2575/4063 [00:05<00:03, 463.33it/s]\u001b[A\n",
      " 65%|████████████████████████▌             | 2622/4063 [00:05<00:03, 456.16it/s]\u001b[A\n",
      " 66%|████████████████████████▉             | 2668/4063 [00:05<00:03, 449.22it/s]\u001b[A\n",
      " 67%|█████████████████████████▍            | 2714/4063 [00:05<00:02, 450.14it/s]\u001b[A\n",
      " 68%|█████████████████████████▊            | 2760/4063 [00:05<00:02, 446.94it/s]\u001b[A\n",
      " 69%|██████████████████████████▏           | 2806/4063 [00:06<00:02, 449.25it/s]\u001b[A\n",
      " 70%|██████████████████████████▋           | 2851/4063 [00:06<00:02, 447.80it/s]\u001b[A\n",
      " 71%|███████████████████████████           | 2896/4063 [00:06<00:02, 448.01it/s]\u001b[A\n",
      " 72%|███████████████████████████▌          | 2943/4063 [00:06<00:02, 454.50it/s]\u001b[A\n",
      " 74%|███████████████████████████▉          | 2991/4063 [00:06<00:02, 460.36it/s]\u001b[A\n",
      " 75%|████████████████████████████▍         | 3042/4063 [00:06<00:02, 474.93it/s]\u001b[A\n",
      " 76%|████████████████████████████▉         | 3090/4063 [00:06<00:02, 473.32it/s]\u001b[A\n",
      " 77%|█████████████████████████████▎        | 3139/4063 [00:06<00:01, 476.58it/s]\u001b[A\n",
      " 78%|█████████████████████████████▊        | 3187/4063 [00:06<00:01, 477.06it/s]\u001b[A\n",
      " 80%|██████████████████████████████▎       | 3235/4063 [00:06<00:01, 473.33it/s]\u001b[A\n",
      " 81%|██████████████████████████████▋       | 3283/4063 [00:07<00:01, 470.17it/s]\u001b[A\n",
      " 82%|███████████████████████████████▏      | 3331/4063 [00:07<00:01, 467.34it/s]\u001b[A\n",
      " 83%|███████████████████████████████▌      | 3381/4063 [00:07<00:01, 475.24it/s]\u001b[A\n",
      " 84%|████████████████████████████████      | 3429/4063 [00:07<00:01, 476.02it/s]\u001b[A\n",
      " 86%|████████████████████████████████▌     | 3478/4063 [00:07<00:01, 480.12it/s]\u001b[A\n",
      " 87%|█████████████████████████████████     | 3530/4063 [00:07<00:01, 490.15it/s]\u001b[A\n",
      " 88%|█████████████████████████████████▍    | 3580/4063 [00:07<00:00, 485.49it/s]\u001b[A\n",
      " 89%|█████████████████████████████████▉    | 3629/4063 [00:07<00:00, 486.55it/s]\u001b[A\n",
      " 91%|██████████████████████████████████▍   | 3678/4063 [00:07<00:00, 485.17it/s]\u001b[A\n",
      " 92%|██████████████████████████████████▊   | 3727/4063 [00:08<00:00, 425.42it/s]\u001b[A\n",
      " 93%|███████████████████████████████████▎  | 3775/4063 [00:08<00:00, 438.41it/s]\u001b[A\n",
      " 94%|███████████████████████████████████▊  | 3823/4063 [00:08<00:00, 447.73it/s]\u001b[A\n",
      " 95%|████████████████████████████████████▏ | 3872/4063 [00:08<00:00, 458.26it/s]\u001b[A\n",
      " 97%|████████████████████████████████████▋ | 3921/4063 [00:08<00:00, 465.41it/s]\u001b[A\n",
      " 98%|█████████████████████████████████████ | 3969/4063 [00:08<00:00, 468.73it/s]\u001b[A\n",
      "100%|██████████████████████████████████████| 4063/4063 [00:08<00:00, 464.90it/s]\u001b[A\n"
     ]
    }
   ],
   "source": [
    "df_u_features = pd.concat(\n",
    "    [build_ticker_features(x) for x in tqdm(underlying_tickers)],\n",
    "    axis=0\n",
    ")"
   ]
  },
  {
   "cell_type": "code",
   "execution_count": 211,
   "id": "c533b23e",
   "metadata": {},
   "outputs": [
    {
     "data": {
      "text/html": [
       "<div>\n",
       "<style scoped>\n",
       "    .dataframe tbody tr th:only-of-type {\n",
       "        vertical-align: middle;\n",
       "    }\n",
       "\n",
       "    .dataframe tbody tr th {\n",
       "        vertical-align: top;\n",
       "    }\n",
       "\n",
       "    .dataframe thead th {\n",
       "        text-align: right;\n",
       "    }\n",
       "</style>\n",
       "<table border=\"1\" class=\"dataframe\">\n",
       "  <thead>\n",
       "    <tr style=\"text-align: right;\">\n",
       "      <th></th>\n",
       "      <th>ticker</th>\n",
       "      <th>annual_volume</th>\n",
       "      <th>annual_return</th>\n",
       "      <th>c_etf_annual_volume</th>\n",
       "      <th>c_etf_annual_return</th>\n",
       "      <th>monthly_return</th>\n",
       "      <th>monthly_volume</th>\n",
       "    </tr>\n",
       "  </thead>\n",
       "  <tbody>\n",
       "    <tr>\n",
       "      <th>2022-03-31</th>\n",
       "      <td>0700.HK</td>\n",
       "      <td>6.820517e+09</td>\n",
       "      <td>0.102053</td>\n",
       "      <td>46933800.0</td>\n",
       "      <td>0.022205</td>\n",
       "      <td>-0.027547</td>\n",
       "      <td>784731749.0</td>\n",
       "    </tr>\n",
       "    <tr>\n",
       "      <th>2022-04-30</th>\n",
       "      <td>0700.HK</td>\n",
       "      <td>6.820517e+09</td>\n",
       "      <td>0.102053</td>\n",
       "      <td>46933800.0</td>\n",
       "      <td>0.022205</td>\n",
       "      <td>0.008552</td>\n",
       "      <td>396316513.0</td>\n",
       "    </tr>\n",
       "    <tr>\n",
       "      <th>2022-05-31</th>\n",
       "      <td>0700.HK</td>\n",
       "      <td>6.820517e+09</td>\n",
       "      <td>0.102053</td>\n",
       "      <td>46933800.0</td>\n",
       "      <td>0.022205</td>\n",
       "      <td>-0.035229</td>\n",
       "      <td>523342151.0</td>\n",
       "    </tr>\n",
       "    <tr>\n",
       "      <th>2022-06-30</th>\n",
       "      <td>0700.HK</td>\n",
       "      <td>6.820517e+09</td>\n",
       "      <td>0.102053</td>\n",
       "      <td>46933800.0</td>\n",
       "      <td>0.022205</td>\n",
       "      <td>-0.022075</td>\n",
       "      <td>568117466.0</td>\n",
       "    </tr>\n",
       "    <tr>\n",
       "      <th>2022-07-31</th>\n",
       "      <td>0700.HK</td>\n",
       "      <td>6.820517e+09</td>\n",
       "      <td>0.102053</td>\n",
       "      <td>46933800.0</td>\n",
       "      <td>0.022205</td>\n",
       "      <td>-0.134312</td>\n",
       "      <td>404917763.0</td>\n",
       "    </tr>\n",
       "  </tbody>\n",
       "</table>\n",
       "</div>"
      ],
      "text/plain": [
       "             ticker  annual_volume  annual_return  c_etf_annual_volume  \\\n",
       "2022-03-31  0700.HK   6.820517e+09       0.102053           46933800.0   \n",
       "2022-04-30  0700.HK   6.820517e+09       0.102053           46933800.0   \n",
       "2022-05-31  0700.HK   6.820517e+09       0.102053           46933800.0   \n",
       "2022-06-30  0700.HK   6.820517e+09       0.102053           46933800.0   \n",
       "2022-07-31  0700.HK   6.820517e+09       0.102053           46933800.0   \n",
       "\n",
       "            c_etf_annual_return  monthly_return  monthly_volume  \n",
       "2022-03-31             0.022205       -0.027547     784731749.0  \n",
       "2022-04-30             0.022205        0.008552     396316513.0  \n",
       "2022-05-31             0.022205       -0.035229     523342151.0  \n",
       "2022-06-30             0.022205       -0.022075     568117466.0  \n",
       "2022-07-31             0.022205       -0.134312     404917763.0  "
      ]
     },
     "execution_count": 211,
     "metadata": {},
     "output_type": "execute_result"
    }
   ],
   "source": [
    "df_u_features.head()"
   ]
  },
  {
   "cell_type": "code",
   "execution_count": 212,
   "id": "bd5f8e2c",
   "metadata": {},
   "outputs": [
    {
     "data": {
      "text/plain": [
       "(52819, 7)"
      ]
     },
     "execution_count": 212,
     "metadata": {},
     "output_type": "execute_result"
    }
   ],
   "source": [
    "df_u_features.shape"
   ]
  },
  {
   "cell_type": "code",
   "execution_count": 213,
   "id": "52b16373",
   "metadata": {},
   "outputs": [],
   "source": [
    "# train regression models using the monthly_return as the independent variable"
   ]
  },
  {
   "cell_type": "code",
   "execution_count": null,
   "id": "30f73559",
   "metadata": {},
   "outputs": [],
   "source": []
  }
 ],
 "metadata": {
  "kernelspec": {
   "display_name": "jupyter2",
   "language": "python",
   "name": "jupyter2"
  },
  "language_info": {
   "codemirror_mode": {
    "name": "ipython",
    "version": 3
   },
   "file_extension": ".py",
   "mimetype": "text/x-python",
   "name": "python",
   "nbconvert_exporter": "python",
   "pygments_lexer": "ipython3",
   "version": "3.10.9"
  }
 },
 "nbformat": 4,
 "nbformat_minor": 5
}
